{
  "nbformat": 4,
  "nbformat_minor": 0,
  "metadata": {
    "colab": {
      "provenance": [],
      "machine_shape": "hm",
      "gpuType": "V100",
      "mount_file_id": "1pIAl2s6cpCrqTG91IYuzJta-IjyxnIy0",
      "authorship_tag": "ABX9TyMFlfd9seIk5KbTHp4EKvCq",
      "include_colab_link": true
    },
    "kernelspec": {
      "name": "python3",
      "display_name": "Python 3"
    },
    "language_info": {
      "name": "python"
    },
    "accelerator": "GPU"
  },
  "cells": [
    {
      "cell_type": "markdown",
      "metadata": {
        "id": "view-in-github",
        "colab_type": "text"
      },
      "source": [
        "<a href=\"https://colab.research.google.com/github/dbtmddn41/deep_learning/blob/main/kaggle/cactus.ipynb\" target=\"_parent\"><img src=\"https://colab.research.google.com/assets/colab-badge.svg\" alt=\"Open In Colab\"/></a>"
      ]
    },
    {
      "cell_type": "code",
      "execution_count": null,
      "metadata": {
        "colab": {
          "base_uri": "https://localhost:8080/"
        },
        "id": "ol4s_kwynn6g",
        "outputId": "7627d7b0-033f-45ac-af54-46ff701a9f34"
      },
      "outputs": [
        {
          "output_type": "stream",
          "name": "stdout",
          "text": [
            "Drive already mounted at /content/drive; to attempt to forcibly remount, call drive.mount(\"/content/drive\", force_remount=True).\n",
            "/content/drive/My Drive/딥러닝/kaggle/cactus identification\n"
          ]
        }
      ],
      "source": [
        "# This mounts your Google Drive to the Colab VM.\n",
        "from google.colab import drive\n",
        "drive.mount('/content/drive')\n",
        "\n",
        "# TODO: Enter the foldername in your Drive where you have saved the unzipped\n",
        "# assignment folder, e.g. 'cs231n/assignments/assignment1/'\n",
        "FOLDERNAME = '딥러닝/kaggle/cactus\\ identification'\n",
        "\n",
        "# Now that we've mounted your Drive, this ensures that\n",
        "# the Python interpreter of the Colab VM can load\n",
        "# python files from within it.\n",
        "import sys\n",
        "sys.path.append('/content/drive/My Drive/{}'.format(FOLDERNAME))\n",
        "\n",
        "%cd /content/drive/My\\ Drive/$FOLDERNAME/"
      ]
    },
    {
      "cell_type": "code",
      "source": [
        "!mkdir -p ~/.kaggle\n",
        "!cp ../kaggle.json ~/.kaggle/\n",
        "!chmod 600 ~/.kaggle/kaggle.json"
      ],
      "metadata": {
        "id": "rJ8PJKcro2Uz"
      },
      "execution_count": null,
      "outputs": []
    },
    {
      "cell_type": "code",
      "source": [
        "!kaggle competitions download -c aerial-cactus-identification\n",
        "\n",
        "!unzip -o aerial-cactus-identification.zip\n",
        "!unzip -qq -o train.zip\n",
        "!unzip -qq -o test.zip"
      ],
      "metadata": {
        "colab": {
          "base_uri": "https://localhost:8080/"
        },
        "id": "PZbOx_N5o-41",
        "outputId": "59a29017-228a-41e5-80ea-8f15fcb35d73"
      },
      "execution_count": null,
      "outputs": [
        {
          "output_type": "stream",
          "name": "stdout",
          "text": [
            "aerial-cactus-identification.zip: Skipping, found more recently modified local copy (use --force to force download)\n",
            "Archive:  aerial-cactus-identification.zip\n",
            "  inflating: sample_submission.csv   \n",
            "  inflating: test.zip                \n",
            "  inflating: train.csv               \n",
            "  inflating: train.zip               \n"
          ]
        }
      ]
    },
    {
      "cell_type": "code",
      "source": [
        "import pandas as pd\n",
        "import numpy as np\n",
        "import matplotlib as mpl\n",
        "import matplotlib.pyplot as plt\n",
        "import tensorflow as tf\n",
        "from tensorflow import keras\n",
        "from keras import layers"
      ],
      "metadata": {
        "id": "JWW0I3zOqryd"
      },
      "execution_count": null,
      "outputs": []
    },
    {
      "cell_type": "markdown",
      "source": [
        "# 데이터 둘러보기"
      ],
      "metadata": {
        "id": "O42JFL-IqkBG"
      }
    },
    {
      "cell_type": "code",
      "source": [
        "labels = pd.read_csv('train.csv')\n",
        "submission = pd.read_csv('sample_submission.csv')\n",
        "labels.head()"
      ],
      "metadata": {
        "colab": {
          "base_uri": "https://localhost:8080/",
          "height": 206
        },
        "id": "2fL21NAXqpgE",
        "outputId": "448753ca-5bc1-4c38-e14d-349ec900dc44"
      },
      "execution_count": null,
      "outputs": [
        {
          "output_type": "execute_result",
          "data": {
            "text/plain": [
              "                                     id  has_cactus\n",
              "0  0004be2cfeaba1c0361d39e2b000257b.jpg           1\n",
              "1  000c8a36845c0208e833c79c1bffedd1.jpg           1\n",
              "2  000d1e9a533f62e55c289303b072733d.jpg           1\n",
              "3  0011485b40695e9138e92d0b3fb55128.jpg           1\n",
              "4  0014d7a11e90b62848904c1418fc8cf2.jpg           1"
            ],
            "text/html": [
              "\n",
              "  <div id=\"df-ad16dc84-ad8b-4515-9319-c7331d3d847b\">\n",
              "    <div class=\"colab-df-container\">\n",
              "      <div>\n",
              "<style scoped>\n",
              "    .dataframe tbody tr th:only-of-type {\n",
              "        vertical-align: middle;\n",
              "    }\n",
              "\n",
              "    .dataframe tbody tr th {\n",
              "        vertical-align: top;\n",
              "    }\n",
              "\n",
              "    .dataframe thead th {\n",
              "        text-align: right;\n",
              "    }\n",
              "</style>\n",
              "<table border=\"1\" class=\"dataframe\">\n",
              "  <thead>\n",
              "    <tr style=\"text-align: right;\">\n",
              "      <th></th>\n",
              "      <th>id</th>\n",
              "      <th>has_cactus</th>\n",
              "    </tr>\n",
              "  </thead>\n",
              "  <tbody>\n",
              "    <tr>\n",
              "      <th>0</th>\n",
              "      <td>0004be2cfeaba1c0361d39e2b000257b.jpg</td>\n",
              "      <td>1</td>\n",
              "    </tr>\n",
              "    <tr>\n",
              "      <th>1</th>\n",
              "      <td>000c8a36845c0208e833c79c1bffedd1.jpg</td>\n",
              "      <td>1</td>\n",
              "    </tr>\n",
              "    <tr>\n",
              "      <th>2</th>\n",
              "      <td>000d1e9a533f62e55c289303b072733d.jpg</td>\n",
              "      <td>1</td>\n",
              "    </tr>\n",
              "    <tr>\n",
              "      <th>3</th>\n",
              "      <td>0011485b40695e9138e92d0b3fb55128.jpg</td>\n",
              "      <td>1</td>\n",
              "    </tr>\n",
              "    <tr>\n",
              "      <th>4</th>\n",
              "      <td>0014d7a11e90b62848904c1418fc8cf2.jpg</td>\n",
              "      <td>1</td>\n",
              "    </tr>\n",
              "  </tbody>\n",
              "</table>\n",
              "</div>\n",
              "      <button class=\"colab-df-convert\" onclick=\"convertToInteractive('df-ad16dc84-ad8b-4515-9319-c7331d3d847b')\"\n",
              "              title=\"Convert this dataframe to an interactive table.\"\n",
              "              style=\"display:none;\">\n",
              "        \n",
              "  <svg xmlns=\"http://www.w3.org/2000/svg\" height=\"24px\"viewBox=\"0 0 24 24\"\n",
              "       width=\"24px\">\n",
              "    <path d=\"M0 0h24v24H0V0z\" fill=\"none\"/>\n",
              "    <path d=\"M18.56 5.44l.94 2.06.94-2.06 2.06-.94-2.06-.94-.94-2.06-.94 2.06-2.06.94zm-11 1L8.5 8.5l.94-2.06 2.06-.94-2.06-.94L8.5 2.5l-.94 2.06-2.06.94zm10 10l.94 2.06.94-2.06 2.06-.94-2.06-.94-.94-2.06-.94 2.06-2.06.94z\"/><path d=\"M17.41 7.96l-1.37-1.37c-.4-.4-.92-.59-1.43-.59-.52 0-1.04.2-1.43.59L10.3 9.45l-7.72 7.72c-.78.78-.78 2.05 0 2.83L4 21.41c.39.39.9.59 1.41.59.51 0 1.02-.2 1.41-.59l7.78-7.78 2.81-2.81c.8-.78.8-2.07 0-2.86zM5.41 20L4 18.59l7.72-7.72 1.47 1.35L5.41 20z\"/>\n",
              "  </svg>\n",
              "      </button>\n",
              "      \n",
              "  <style>\n",
              "    .colab-df-container {\n",
              "      display:flex;\n",
              "      flex-wrap:wrap;\n",
              "      gap: 12px;\n",
              "    }\n",
              "\n",
              "    .colab-df-convert {\n",
              "      background-color: #E8F0FE;\n",
              "      border: none;\n",
              "      border-radius: 50%;\n",
              "      cursor: pointer;\n",
              "      display: none;\n",
              "      fill: #1967D2;\n",
              "      height: 32px;\n",
              "      padding: 0 0 0 0;\n",
              "      width: 32px;\n",
              "    }\n",
              "\n",
              "    .colab-df-convert:hover {\n",
              "      background-color: #E2EBFA;\n",
              "      box-shadow: 0px 1px 2px rgba(60, 64, 67, 0.3), 0px 1px 3px 1px rgba(60, 64, 67, 0.15);\n",
              "      fill: #174EA6;\n",
              "    }\n",
              "\n",
              "    [theme=dark] .colab-df-convert {\n",
              "      background-color: #3B4455;\n",
              "      fill: #D2E3FC;\n",
              "    }\n",
              "\n",
              "    [theme=dark] .colab-df-convert:hover {\n",
              "      background-color: #434B5C;\n",
              "      box-shadow: 0px 1px 3px 1px rgba(0, 0, 0, 0.15);\n",
              "      filter: drop-shadow(0px 1px 2px rgba(0, 0, 0, 0.3));\n",
              "      fill: #FFFFFF;\n",
              "    }\n",
              "  </style>\n",
              "\n",
              "      <script>\n",
              "        const buttonEl =\n",
              "          document.querySelector('#df-ad16dc84-ad8b-4515-9319-c7331d3d847b button.colab-df-convert');\n",
              "        buttonEl.style.display =\n",
              "          google.colab.kernel.accessAllowed ? 'block' : 'none';\n",
              "\n",
              "        async function convertToInteractive(key) {\n",
              "          const element = document.querySelector('#df-ad16dc84-ad8b-4515-9319-c7331d3d847b');\n",
              "          const dataTable =\n",
              "            await google.colab.kernel.invokeFunction('convertToInteractive',\n",
              "                                                     [key], {});\n",
              "          if (!dataTable) return;\n",
              "\n",
              "          const docLinkHtml = 'Like what you see? Visit the ' +\n",
              "            '<a target=\"_blank\" href=https://colab.research.google.com/notebooks/data_table.ipynb>data table notebook</a>'\n",
              "            + ' to learn more about interactive tables.';\n",
              "          element.innerHTML = '';\n",
              "          dataTable['output_type'] = 'display_data';\n",
              "          await google.colab.output.renderOutput(dataTable, element);\n",
              "          const docLink = document.createElement('div');\n",
              "          docLink.innerHTML = docLinkHtml;\n",
              "          element.appendChild(docLink);\n",
              "        }\n",
              "      </script>\n",
              "    </div>\n",
              "  </div>\n",
              "  "
            ]
          },
          "metadata": {},
          "execution_count": 4
        }
      ]
    },
    {
      "cell_type": "code",
      "source": [
        "submission.head()"
      ],
      "metadata": {
        "colab": {
          "base_uri": "https://localhost:8080/",
          "height": 206
        },
        "id": "v6P9Ei5SrMsr",
        "outputId": "6aa0011f-b689-4b56-efba-fa56da7983cf"
      },
      "execution_count": null,
      "outputs": [
        {
          "output_type": "execute_result",
          "data": {
            "text/plain": [
              "                                     id  has_cactus\n",
              "0  000940378805c44108d287872b2f04ce.jpg         0.5\n",
              "1  0017242f54ececa4512b4d7937d1e21e.jpg         0.5\n",
              "2  001ee6d8564003107853118ab87df407.jpg         0.5\n",
              "3  002e175c3c1e060769475f52182583d0.jpg         0.5\n",
              "4  0036e44a7e8f7218e9bc7bf8137e4943.jpg         0.5"
            ],
            "text/html": [
              "\n",
              "  <div id=\"df-f8a61ee5-a7fa-460e-9980-be64813866ef\">\n",
              "    <div class=\"colab-df-container\">\n",
              "      <div>\n",
              "<style scoped>\n",
              "    .dataframe tbody tr th:only-of-type {\n",
              "        vertical-align: middle;\n",
              "    }\n",
              "\n",
              "    .dataframe tbody tr th {\n",
              "        vertical-align: top;\n",
              "    }\n",
              "\n",
              "    .dataframe thead th {\n",
              "        text-align: right;\n",
              "    }\n",
              "</style>\n",
              "<table border=\"1\" class=\"dataframe\">\n",
              "  <thead>\n",
              "    <tr style=\"text-align: right;\">\n",
              "      <th></th>\n",
              "      <th>id</th>\n",
              "      <th>has_cactus</th>\n",
              "    </tr>\n",
              "  </thead>\n",
              "  <tbody>\n",
              "    <tr>\n",
              "      <th>0</th>\n",
              "      <td>000940378805c44108d287872b2f04ce.jpg</td>\n",
              "      <td>0.5</td>\n",
              "    </tr>\n",
              "    <tr>\n",
              "      <th>1</th>\n",
              "      <td>0017242f54ececa4512b4d7937d1e21e.jpg</td>\n",
              "      <td>0.5</td>\n",
              "    </tr>\n",
              "    <tr>\n",
              "      <th>2</th>\n",
              "      <td>001ee6d8564003107853118ab87df407.jpg</td>\n",
              "      <td>0.5</td>\n",
              "    </tr>\n",
              "    <tr>\n",
              "      <th>3</th>\n",
              "      <td>002e175c3c1e060769475f52182583d0.jpg</td>\n",
              "      <td>0.5</td>\n",
              "    </tr>\n",
              "    <tr>\n",
              "      <th>4</th>\n",
              "      <td>0036e44a7e8f7218e9bc7bf8137e4943.jpg</td>\n",
              "      <td>0.5</td>\n",
              "    </tr>\n",
              "  </tbody>\n",
              "</table>\n",
              "</div>\n",
              "      <button class=\"colab-df-convert\" onclick=\"convertToInteractive('df-f8a61ee5-a7fa-460e-9980-be64813866ef')\"\n",
              "              title=\"Convert this dataframe to an interactive table.\"\n",
              "              style=\"display:none;\">\n",
              "        \n",
              "  <svg xmlns=\"http://www.w3.org/2000/svg\" height=\"24px\"viewBox=\"0 0 24 24\"\n",
              "       width=\"24px\">\n",
              "    <path d=\"M0 0h24v24H0V0z\" fill=\"none\"/>\n",
              "    <path d=\"M18.56 5.44l.94 2.06.94-2.06 2.06-.94-2.06-.94-.94-2.06-.94 2.06-2.06.94zm-11 1L8.5 8.5l.94-2.06 2.06-.94-2.06-.94L8.5 2.5l-.94 2.06-2.06.94zm10 10l.94 2.06.94-2.06 2.06-.94-2.06-.94-.94-2.06-.94 2.06-2.06.94z\"/><path d=\"M17.41 7.96l-1.37-1.37c-.4-.4-.92-.59-1.43-.59-.52 0-1.04.2-1.43.59L10.3 9.45l-7.72 7.72c-.78.78-.78 2.05 0 2.83L4 21.41c.39.39.9.59 1.41.59.51 0 1.02-.2 1.41-.59l7.78-7.78 2.81-2.81c.8-.78.8-2.07 0-2.86zM5.41 20L4 18.59l7.72-7.72 1.47 1.35L5.41 20z\"/>\n",
              "  </svg>\n",
              "      </button>\n",
              "      \n",
              "  <style>\n",
              "    .colab-df-container {\n",
              "      display:flex;\n",
              "      flex-wrap:wrap;\n",
              "      gap: 12px;\n",
              "    }\n",
              "\n",
              "    .colab-df-convert {\n",
              "      background-color: #E8F0FE;\n",
              "      border: none;\n",
              "      border-radius: 50%;\n",
              "      cursor: pointer;\n",
              "      display: none;\n",
              "      fill: #1967D2;\n",
              "      height: 32px;\n",
              "      padding: 0 0 0 0;\n",
              "      width: 32px;\n",
              "    }\n",
              "\n",
              "    .colab-df-convert:hover {\n",
              "      background-color: #E2EBFA;\n",
              "      box-shadow: 0px 1px 2px rgba(60, 64, 67, 0.3), 0px 1px 3px 1px rgba(60, 64, 67, 0.15);\n",
              "      fill: #174EA6;\n",
              "    }\n",
              "\n",
              "    [theme=dark] .colab-df-convert {\n",
              "      background-color: #3B4455;\n",
              "      fill: #D2E3FC;\n",
              "    }\n",
              "\n",
              "    [theme=dark] .colab-df-convert:hover {\n",
              "      background-color: #434B5C;\n",
              "      box-shadow: 0px 1px 3px 1px rgba(0, 0, 0, 0.15);\n",
              "      filter: drop-shadow(0px 1px 2px rgba(0, 0, 0, 0.3));\n",
              "      fill: #FFFFFF;\n",
              "    }\n",
              "  </style>\n",
              "\n",
              "      <script>\n",
              "        const buttonEl =\n",
              "          document.querySelector('#df-f8a61ee5-a7fa-460e-9980-be64813866ef button.colab-df-convert');\n",
              "        buttonEl.style.display =\n",
              "          google.colab.kernel.accessAllowed ? 'block' : 'none';\n",
              "\n",
              "        async function convertToInteractive(key) {\n",
              "          const element = document.querySelector('#df-f8a61ee5-a7fa-460e-9980-be64813866ef');\n",
              "          const dataTable =\n",
              "            await google.colab.kernel.invokeFunction('convertToInteractive',\n",
              "                                                     [key], {});\n",
              "          if (!dataTable) return;\n",
              "\n",
              "          const docLinkHtml = 'Like what you see? Visit the ' +\n",
              "            '<a target=\"_blank\" href=https://colab.research.google.com/notebooks/data_table.ipynb>data table notebook</a>'\n",
              "            + ' to learn more about interactive tables.';\n",
              "          element.innerHTML = '';\n",
              "          dataTable['output_type'] = 'display_data';\n",
              "          await google.colab.output.renderOutput(dataTable, element);\n",
              "          const docLink = document.createElement('div');\n",
              "          docLink.innerHTML = docLinkHtml;\n",
              "          element.appendChild(docLink);\n",
              "        }\n",
              "      </script>\n",
              "    </div>\n",
              "  </div>\n",
              "  "
            ]
          },
          "metadata": {},
          "execution_count": 5
        }
      ]
    },
    {
      "cell_type": "code",
      "source": [
        "mpl.rc('font', size=15)\n",
        "plt.figure(figsize=(3,3))\n",
        "\n",
        "label = ['O', 'X']\n",
        "plt.pie(labels['has_cactus'].value_counts(), labels=label, autopct=\"%.1f%%\")"
      ],
      "metadata": {
        "colab": {
          "base_uri": "https://localhost:8080/",
          "height": 377
        },
        "id": "lKcopJbYrtDk",
        "outputId": "b67b6200-8eb9-4a83-b6f8-23a25c0bb6b9"
      },
      "execution_count": null,
      "outputs": [
        {
          "output_type": "execute_result",
          "data": {
            "text/plain": [
              "([<matplotlib.patches.Wedge at 0x7fab205e14e0>,\n",
              "  <matplotlib.patches.Wedge at 0x7fab205e13f0>],\n",
              " [Text(-0.7793519565739234, 0.7762799287527649, 'O'),\n",
              "  Text(0.7793519929142085, -0.776279892268666, 'X')],\n",
              " [Text(-0.42510106722213997, 0.42342541568332626, '75.1%'),\n",
              "  Text(0.4251010870441137, -0.42342539578290866, '24.9%')])"
            ]
          },
          "metadata": {},
          "execution_count": 6
        },
        {
          "output_type": "display_data",
          "data": {
            "text/plain": [
              "<Figure size 300x300 with 1 Axes>"
            ],
            "image/png": "[encoded data removed]"
          },
          "metadata": {}
        }
      ]
    },
    {
      "cell_type": "code",
      "source": [
        "import os\n",
        "\n",
        "train_num = len(os.listdir('train/'))\n",
        "test_num = len(os.listdir('test/'))\n",
        "print(f'훈련데이터 개수: {train_num}')\n",
        "print(f'테스트데이터 개수: {test_num}')"
      ],
      "metadata": {
        "colab": {
          "base_uri": "https://localhost:8080/"
        },
        "id": "dmE7aXt1sSCW",
        "outputId": "e89a6228-19e0-4d75-9006-9116e3cc1d71"
      },
      "execution_count": null,
      "outputs": [
        {
          "output_type": "stream",
          "name": "stdout",
          "text": [
            "훈련데이터 개수: 17500\n",
            "테스트데이터 개수: 4000\n"
          ]
        }
      ]
    },
    {
      "cell_type": "code",
      "source": [
        "from matplotlib import gridspec\n",
        "import cv2\n",
        "\n",
        "mpl.rc('font', size=7)\n",
        "plt.figure(figsize=(15, 6))\n",
        "grid = gridspec.GridSpec(2, 6)\n",
        "\n",
        "last_has_cactus_img_name = labels[labels['has_cactus']==1]['id'][-12:]\n",
        "\n",
        "for idx, img_name in enumerate(last_has_cactus_img_name):\n",
        "    img_path = 'train/' + img_name\n",
        "    image = cv2.imread(img_path)\n",
        "    image = cv2.cvtColor(image, cv2.COLOR_BGR2RGB)\n",
        "    ax = plt.subplot(grid[idx])\n",
        "    ax.imshow(image)\n",
        "    ax.axis('off')"
      ],
      "metadata": {
        "colab": {
          "base_uri": "https://localhost:8080/",
          "height": 265
        },
        "id": "R5aTJbKMtW8c",
        "outputId": "d8485df6-47e3-49df-9bd1-3836ba259085"
      },
      "execution_count": null,
      "outputs": [
        {
          "output_type": "display_data",
          "data": {
            "text/plain": [
              "<Figure size 1500x600 with 12 Axes>"
            ],
            "image/png": "[encoded data removed]"
          },
          "metadata": {}
        }
      ]
    },
    {
      "cell_type": "code",
      "source": [
        "plt.figure(figsize=(15, 6))\n",
        "grid = gridspec.GridSpec(2, 6)\n",
        "last_hasnot_cactus_img_name = labels[labels['has_cactus']==0]['id'][-12:]\n",
        "\n",
        "for idx, img_name in enumerate(last_hasnot_cactus_img_name):\n",
        "    img_path = 'train/' + img_name\n",
        "    image = cv2.imread(img_path)\n",
        "    image = cv2.cvtColor(image, cv2.COLOR_BGR2RGB)\n",
        "    ax = plt.subplot(grid[idx])\n",
        "    ax.imshow(image)\n",
        "    ax.axis('off')"
      ],
      "metadata": {
        "colab": {
          "base_uri": "https://localhost:8080/",
          "height": 265
        },
        "id": "uihxuRz2wDTF",
        "outputId": "71c0f444-17c1-4d16-9bc3-5da042986534"
      },
      "execution_count": null,
      "outputs": [
        {
          "output_type": "display_data",
          "data": {
            "text/plain": [
              "<Figure size 1500x600 with 12 Axes>"
            ],
            "image/png": "[encoded data removed]"
          },
          "metadata": {}
        }
      ]
    },
    {
      "cell_type": "code",
      "source": [
        "image.shape"
      ],
      "metadata": {
        "colab": {
          "base_uri": "https://localhost:8080/"
        },
        "id": "1hZ15kXAwY_M",
        "outputId": "06ad776b-155d-4ebb-d8ff-159a08a4b209"
      },
      "execution_count": null,
      "outputs": [
        {
          "output_type": "execute_result",
          "data": {
            "text/plain": [
              "(32, 32, 3)"
            ]
          },
          "metadata": {},
          "execution_count": 13
        }
      ]
    },
    {
      "cell_type": "code",
      "source": [
        "import os, shutil, pathlib\n",
        "from sklearn.model_selection import train_test_split\n",
        "\n",
        "if 'cactus_train' in os.listdir():\n",
        "    shutil.rmtree('cactus_train/')\n",
        "origin_dir = pathlib.Path(\"train\")\n",
        "new_base_dir = pathlib.Path(\"cactus_train\")\n",
        "def make_subset(subset_name, df):\n",
        "    for i, category in enumerate(('hasnot', 'has')):\n",
        "        dir = new_base_dir / subset_name / category\n",
        "        os.makedirs(dir)\n",
        "        fnames = df[df['has_cactus']==i]['id']\n",
        "        for fname in fnames:\n",
        "            shutil.copyfile(src=origin_dir/fname, dst=dir/fname)\n",
        "\n",
        "train_data, validation_data = train_test_split(labels, test_size=0.2, random_state=42, stratify=labels['has_cactus'])\n",
        "make_subset(\"train\", train_data)\n",
        "make_subset(\"validation\", validation_data)"
      ],
      "metadata": {
        "id": "ZXCAen0ZsuO6"
      },
      "execution_count": null,
      "outputs": []
    },
    {
      "cell_type": "code",
      "source": [
        "print(train_data.describe())\n",
        "print(validation_data.describe())"
      ],
      "metadata": {
        "colab": {
          "base_uri": "https://localhost:8080/"
        },
        "id": "AWz9xURTB0l8",
        "outputId": "8ea411d6-ffd4-4147-e1e0-4a18cf5c21c5"
      },
      "execution_count": null,
      "outputs": [
        {
          "output_type": "stream",
          "name": "stdout",
          "text": [
            "         has_cactus\n",
            "count  14000.000000\n",
            "mean       0.750643\n",
            "std        0.432656\n",
            "min        0.000000\n",
            "25%        1.000000\n",
            "50%        1.000000\n",
            "75%        1.000000\n",
            "max        1.000000\n",
            "        has_cactus\n",
            "count  3500.000000\n",
            "mean      0.750571\n",
            "std       0.432744\n",
            "min       0.000000\n",
            "25%       1.000000\n",
            "50%       1.000000\n",
            "75%       1.000000\n",
            "max       1.000000\n"
          ]
        }
      ]
    },
    {
      "cell_type": "code",
      "source": [
        "if 'cactus_test' in os.listdir():\n",
        "    shutil.rmtree('cactus_test/')\n",
        "\n",
        "os.mkdir('cactus_test/')\n",
        "os.mkdir('cactus_test/test')\n",
        "for fname in os.listdir('test/'):\n",
        "    shutil.copyfile('test/' + fname, 'cactus_test/test/'+fname)"
      ],
      "metadata": {
        "id": "mBumfJWe0jAK"
      },
      "execution_count": null,
      "outputs": []
    },
    {
      "cell_type": "code",
      "source": [
        "from tensorflow.keras.utils import image_dataset_from_directory\n",
        "\n",
        "train_dataset = image_dataset_from_directory(new_base_dir / 'train', image_size=(32, 32), batch_size=3500)\n",
        "val_dataset = image_dataset_from_directory(new_base_dir / 'validation', image_size=(32, 32), batch_size=3500)\n",
        "test_dataset = image_dataset_from_directory('cactus_test', image_size=(32, 32), batch_size=3500)\n"
      ],
      "metadata": {
        "colab": {
          "base_uri": "https://localhost:8080/"
        },
        "id": "jCrYI9Ray1Z5",
        "outputId": "e3592b3d-dab5-4e2a-cbbe-45919dbb29fc"
      },
      "execution_count": null,
      "outputs": [
        {
          "output_type": "stream",
          "name": "stdout",
          "text": [
            "Found 14000 files belonging to 2 classes.\n",
            "Found 3500 files belonging to 2 classes.\n",
            "Found 4000 files belonging to 1 classes.\n"
          ]
        }
      ]
    },
    {
      "cell_type": "code",
      "source": [
        "i=1\n",
        "plt.figure(figsize=(15, 5))\n",
        "for image, target in train_dataset.take(5):\n",
        "    image = image[0].numpy().astype(np.uint8)\n",
        "    ax = plt.subplot(2,5,i)\n",
        "    ax.imshow(image)\n",
        "    print(target)\n",
        "    i+=1\n",
        "\n",
        "for image, target in val_dataset.take(5):\n",
        "    image = image[0].numpy().astype(np.uint8)\n",
        "    ax = plt.subplot(2,5,i)\n",
        "    ax.imshow(image)\n",
        "    print(target)\n",
        "    i+=1"
      ],
      "metadata": {
        "colab": {
          "base_uri": "https://localhost:8080/",
          "height": 432
        },
        "id": "BvNfEVuF9B-_",
        "outputId": "a3cef1ea-90b6-4af6-fbd9-8198fa9da956"
      },
      "execution_count": null,
      "outputs": [
        {
          "output_type": "error",
          "ename": "KeyboardInterrupt",
          "evalue": "ignored",
          "traceback": [
            "\u001b[0;31m---------------------------------------------------------------------------\u001b[0m",
            "\u001b[0;31mKeyboardInterrupt\u001b[0m                         Traceback (most recent call last)",
            "\u001b[0;32m<ipython-input-84-164feebddee9>\u001b[0m in \u001b[0;36m<cell line: 3>\u001b[0;34m()\u001b[0m\n\u001b[1;32m      1\u001b[0m \u001b[0mi\u001b[0m\u001b[0;34m=\u001b[0m\u001b[0;36m1\u001b[0m\u001b[0;34m\u001b[0m\u001b[0;34m\u001b[0m\u001b[0m\n\u001b[1;32m      2\u001b[0m \u001b[0mplt\u001b[0m\u001b[0;34m.\u001b[0m\u001b[0mfigure\u001b[0m\u001b[0;34m(\u001b[0m\u001b[0mfigsize\u001b[0m\u001b[0;34m=\u001b[0m\u001b[0;34m(\u001b[0m\u001b[0;36m15\u001b[0m\u001b[0;34m,\u001b[0m \u001b[0;36m5\u001b[0m\u001b[0;34m)\u001b[0m\u001b[0;34m)\u001b[0m\u001b[0;34m\u001b[0m\u001b[0;34m\u001b[0m\u001b[0m\n\u001b[0;32m----> 3\u001b[0;31m \u001b[0;32mfor\u001b[0m \u001b[0mimage\u001b[0m\u001b[0;34m,\u001b[0m \u001b[0mtarget\u001b[0m \u001b[0;32min\u001b[0m \u001b[0mtrain_dataset\u001b[0m\u001b[0;34m.\u001b[0m\u001b[0mtake\u001b[0m\u001b[0;34m(\u001b[0m\u001b[0;36m5\u001b[0m\u001b[0;34m)\u001b[0m\u001b[0;34m:\u001b[0m\u001b[0;34m\u001b[0m\u001b[0;34m\u001b[0m\u001b[0m\n\u001b[0m\u001b[1;32m      4\u001b[0m     \u001b[0mimage\u001b[0m \u001b[0;34m=\u001b[0m \u001b[0mimage\u001b[0m\u001b[0;34m[\u001b[0m\u001b[0;36m0\u001b[0m\u001b[0;34m]\u001b[0m\u001b[0;34m.\u001b[0m\u001b[0mnumpy\u001b[0m\u001b[0;34m(\u001b[0m\u001b[0;34m)\u001b[0m\u001b[0;34m.\u001b[0m\u001b[0mastype\u001b[0m\u001b[0;34m(\u001b[0m\u001b[0mnp\u001b[0m\u001b[0;34m.\u001b[0m\u001b[0muint8\u001b[0m\u001b[0;34m)\u001b[0m\u001b[0;34m\u001b[0m\u001b[0;34m\u001b[0m\u001b[0m\n\u001b[1;32m      5\u001b[0m     \u001b[0max\u001b[0m \u001b[0;34m=\u001b[0m \u001b[0mplt\u001b[0m\u001b[0;34m.\u001b[0m\u001b[0msubplot\u001b[0m\u001b[0;34m(\u001b[0m\u001b[0;36m2\u001b[0m\u001b[0;34m,\u001b[0m\u001b[0;36m5\u001b[0m\u001b[0;34m,\u001b[0m\u001b[0mi\u001b[0m\u001b[0;34m)\u001b[0m\u001b[0;34m\u001b[0m\u001b[0;34m\u001b[0m\u001b[0m\n",
            "\u001b[0;32m/usr/local/lib/python3.10/dist-packages/tensorflow/python/data/ops/iterator_ops.py\u001b[0m in \u001b[0;36m__next__\u001b[0;34m(self)\u001b[0m\n\u001b[1;32m    795\u001b[0m   \u001b[0;32mdef\u001b[0m \u001b[0m__next__\u001b[0m\u001b[0;34m(\u001b[0m\u001b[0mself\u001b[0m\u001b[0;34m)\u001b[0m\u001b[0;34m:\u001b[0m\u001b[0;34m\u001b[0m\u001b[0;34m\u001b[0m\u001b[0m\n\u001b[1;32m    796\u001b[0m     \u001b[0;32mtry\u001b[0m\u001b[0;34m:\u001b[0m\u001b[0;34m\u001b[0m\u001b[0;34m\u001b[0m\u001b[0m\n\u001b[0;32m--> 797\u001b[0;31m       \u001b[0;32mreturn\u001b[0m \u001b[0mself\u001b[0m\u001b[0;34m.\u001b[0m\u001b[0m_next_internal\u001b[0m\u001b[0;34m(\u001b[0m\u001b[0;34m)\u001b[0m\u001b[0;34m\u001b[0m\u001b[0;34m\u001b[0m\u001b[0m\n\u001b[0m\u001b[1;32m    798\u001b[0m     \u001b[0;32mexcept\u001b[0m \u001b[0merrors\u001b[0m\u001b[0;34m.\u001b[0m\u001b[0mOutOfRangeError\u001b[0m\u001b[0;34m:\u001b[0m\u001b[0;34m\u001b[0m\u001b[0;34m\u001b[0m\u001b[0m\n\u001b[1;32m    799\u001b[0m       \u001b[0;32mraise\u001b[0m \u001b[0mStopIteration\u001b[0m\u001b[0;34m\u001b[0m\u001b[0;34m\u001b[0m\u001b[0m\n",
            "\u001b[0;32m/usr/local/lib/python3.10/dist-packages/tensorflow/python/data/ops/iterator_ops.py\u001b[0m in \u001b[0;36m_next_internal\u001b[0;34m(self)\u001b[0m\n\u001b[1;32m    778\u001b[0m     \u001b[0;31m# to communicate that there is no more data to iterate over.\u001b[0m\u001b[0;34m\u001b[0m\u001b[0;34m\u001b[0m\u001b[0m\n\u001b[1;32m    779\u001b[0m     \u001b[0;32mwith\u001b[0m \u001b[0mcontext\u001b[0m\u001b[0;34m.\u001b[0m\u001b[0mexecution_mode\u001b[0m\u001b[0;34m(\u001b[0m\u001b[0mcontext\u001b[0m\u001b[0;34m.\u001b[0m\u001b[0mSYNC\u001b[0m\u001b[0;34m)\u001b[0m\u001b[0;34m:\u001b[0m\u001b[0;34m\u001b[0m\u001b[0;34m\u001b[0m\u001b[0m\n\u001b[0;32m--> 780\u001b[0;31m       ret = gen_dataset_ops.iterator_get_next(\n\u001b[0m\u001b[1;32m    781\u001b[0m           \u001b[0mself\u001b[0m\u001b[0;34m.\u001b[0m\u001b[0m_iterator_resource\u001b[0m\u001b[0;34m,\u001b[0m\u001b[0;34m\u001b[0m\u001b[0;34m\u001b[0m\u001b[0m\n\u001b[1;32m    782\u001b[0m           \u001b[0moutput_types\u001b[0m\u001b[0;34m=\u001b[0m\u001b[0mself\u001b[0m\u001b[0;34m.\u001b[0m\u001b[0m_flat_output_types\u001b[0m\u001b[0;34m,\u001b[0m\u001b[0;34m\u001b[0m\u001b[0;34m\u001b[0m\u001b[0m\n",
            "\u001b[0;32m/usr/local/lib/python3.10/dist-packages/tensorflow/python/ops/gen_dataset_ops.py\u001b[0m in \u001b[0;36miterator_get_next\u001b[0;34m(iterator, output_types, output_shapes, name)\u001b[0m\n\u001b[1;32m   3009\u001b[0m   \u001b[0;32mif\u001b[0m \u001b[0mtld\u001b[0m\u001b[0;34m.\u001b[0m\u001b[0mis_eager\u001b[0m\u001b[0;34m:\u001b[0m\u001b[0;34m\u001b[0m\u001b[0;34m\u001b[0m\u001b[0m\n\u001b[1;32m   3010\u001b[0m     \u001b[0;32mtry\u001b[0m\u001b[0;34m:\u001b[0m\u001b[0;34m\u001b[0m\u001b[0;34m\u001b[0m\u001b[0m\n\u001b[0;32m-> 3011\u001b[0;31m       _result = pywrap_tfe.TFE_Py_FastPathExecute(\n\u001b[0m\u001b[1;32m   3012\u001b[0m         \u001b[0m_ctx\u001b[0m\u001b[0;34m,\u001b[0m \u001b[0;34m\"IteratorGetNext\"\u001b[0m\u001b[0;34m,\u001b[0m \u001b[0mname\u001b[0m\u001b[0;34m,\u001b[0m \u001b[0miterator\u001b[0m\u001b[0;34m,\u001b[0m \u001b[0;34m\"output_types\"\u001b[0m\u001b[0;34m,\u001b[0m \u001b[0moutput_types\u001b[0m\u001b[0;34m,\u001b[0m\u001b[0;34m\u001b[0m\u001b[0;34m\u001b[0m\u001b[0m\n\u001b[1;32m   3013\u001b[0m         \"output_shapes\", output_shapes)\n",
            "\u001b[0;31mKeyboardInterrupt\u001b[0m: "
          ]
        },
        {
          "output_type": "display_data",
          "data": {
            "text/plain": [
              "<Figure size 1500x500 with 0 Axes>"
            ]
          },
          "metadata": {}
        }
      ]
    },
    {
      "cell_type": "markdown",
      "source": [
        "# 모델 학습하기"
      ],
      "metadata": {
        "id": "ohdonKd5wr4Q"
      }
    },
    {
      "cell_type": "code",
      "source": [
        "data_augment = keras.Sequential([\n",
        "      layers.RandomFlip('horizontal_and_vertical'),\n",
        "      layers.RandomRotation(0.1),\n",
        "      layers.RandomZoom(0.1)\n",
        "])"
      ],
      "metadata": {
        "id": "_xtuY_xPpW1Y"
      },
      "execution_count": null,
      "outputs": []
    },
    {
      "cell_type": "code",
      "source": [
        "inputs = keras.Input(shape=(32,32,3))\n",
        "x = layers.Rescaling(1./255)(inputs)\n",
        "x = data_augment(x)\n",
        "\n",
        "x = layers.Conv2D(filters=16, kernel_size=3, padding='same', use_bias=False)(x)\n",
        "# x = layers.BatchNormalization()(x)\n",
        "x = layers.ReLU()(x)\n",
        "x = layers.MaxPooling2D(pool_size=2, padding='same')(x)\n",
        "x = layers.Dropout(0.3)(x)\n",
        "\n",
        "x = layers.Conv2D(filters=32, kernel_size=3, padding='same', use_bias=False)(x)\n",
        "# x = layers.BatchNormalization()(x)\n",
        "x = layers.ReLU()(x)\n",
        "x = layers.MaxPooling2D(pool_size=2, padding='same')(x)\n",
        "x = layers.Dropout(0.3)(x)\n",
        "\n",
        "x = layers.Conv2D(filters=64, kernel_size=3, padding='same', use_bias=False)(x)\n",
        "# x = layers.BatchNormalization()(x)\n",
        "x = layers.ReLU()(x)\n",
        "x = layers.MaxPooling2D(pool_size=2, padding='same')(x)\n",
        "\n",
        "x = layers.Flatten()(x)\n",
        "x = layers.Dropout(0.3)(x)\n",
        "x = layers.Dense(16, activation='relu')(x)\n",
        "outputs = layers.Dense(1, activation='sigmoid')(x)\n",
        "\n",
        "my_model = keras.Model(inputs, outputs)\n",
        "my_model.summary()"
      ],
      "metadata": {
        "colab": {
          "base_uri": "https://localhost:8080/"
        },
        "id": "UT66iyLUwjIw",
        "outputId": "aaa0ea40-475b-4ebe-90b6-9477cc83c61b"
      },
      "execution_count": null,
      "outputs": [
        {
          "output_type": "stream",
          "name": "stdout",
          "text": [
            "Model: \"model_21\"\n",
            "_________________________________________________________________\n",
            " Layer (type)                Output Shape              Param #   \n",
            "=================================================================\n",
            " input_22 (InputLayer)       [(None, 32, 32, 3)]       0         \n",
            "                                                                 \n",
            " rescaling_21 (Rescaling)    (None, 32, 32, 3)         0         \n",
            "                                                                 \n",
            " sequential_5 (Sequential)   (None, 32, 32, 3)         0         \n",
            "                                                                 \n",
            " conv2d_59 (Conv2D)          (None, 32, 32, 16)        432       \n",
            "                                                                 \n",
            " re_lu_59 (ReLU)             (None, 32, 32, 16)        0         \n",
            "                                                                 \n",
            " max_pooling2d_59 (MaxPoolin  (None, 16, 16, 16)       0         \n",
            " g2D)                                                            \n",
            "                                                                 \n",
            " dropout_35 (Dropout)        (None, 16, 16, 16)        0         \n",
            "                                                                 \n",
            " conv2d_60 (Conv2D)          (None, 16, 16, 32)        4608      \n",
            "                                                                 \n",
            " re_lu_60 (ReLU)             (None, 16, 16, 32)        0         \n",
            "                                                                 \n",
            " max_pooling2d_60 (MaxPoolin  (None, 8, 8, 32)         0         \n",
            " g2D)                                                            \n",
            "                                                                 \n",
            " dropout_36 (Dropout)        (None, 8, 8, 32)          0         \n",
            "                                                                 \n",
            " conv2d_61 (Conv2D)          (None, 8, 8, 64)          18432     \n",
            "                                                                 \n",
            " re_lu_61 (ReLU)             (None, 8, 8, 64)          0         \n",
            "                                                                 \n",
            " max_pooling2d_61 (MaxPoolin  (None, 4, 4, 64)         0         \n",
            " g2D)                                                            \n",
            "                                                                 \n",
            " flatten_21 (Flatten)        (None, 1024)              0         \n",
            "                                                                 \n",
            " dropout_37 (Dropout)        (None, 1024)              0         \n",
            "                                                                 \n",
            " dense_43 (Dense)            (None, 16)                16400     \n",
            "                                                                 \n",
            " dense_44 (Dense)            (None, 1)                 17        \n",
            "                                                                 \n",
            "=================================================================\n",
            "Total params: 39,889\n",
            "Trainable params: 39,889\n",
            "Non-trainable params: 0\n",
            "_________________________________________________________________\n"
          ]
        }
      ]
    },
    {
      "cell_type": "code",
      "source": [
        "my_model.compile(loss='binary_crossentropy', optimizer='adam', metrics=['accuracy'])\n",
        "callbacks = [keras.callbacks.ModelCheckpoint(filepath='my_model.keras', save_best_only=True, monitor='val_loss'),\n",
        "             keras.callbacks.EarlyStopping(monitor='val_accuracy', patience=30)]\n",
        "\n",
        "history = my_model.fit(train_dataset.cache().prefetch(tf.data.AUTOTUNE), epochs=400, validation_data=val_dataset.cache().prefetch(tf.data.AUTOTUNE), callbacks=callbacks)"
      ],
      "metadata": {
        "colab": {
          "base_uri": "https://localhost:8080/"
        },
        "id": "fVnMoBeVpM_o",
        "outputId": "5b67fc0e-b300-4425-eda7-bfa556a2678d"
      },
      "execution_count": null,
      "outputs": [
        {
          "output_type": "stream",
          "name": "stdout",
          "text": [
            "Epoch 1/400\n",
            "4/4 [==============================] - 13s 861ms/step - loss: 0.6774 - accuracy: 0.5964 - val_loss: 0.6226 - val_accuracy: 0.7506\n",
            "Epoch 2/400\n",
            "4/4 [==============================] - 0s 74ms/step - loss: 0.5808 - accuracy: 0.7506 - val_loss: 0.5553 - val_accuracy: 0.7506\n",
            "Epoch 3/400\n",
            "4/4 [==============================] - 0s 48ms/step - loss: 0.5818 - accuracy: 0.7506 - val_loss: 0.5668 - val_accuracy: 0.7506\n",
            "Epoch 4/400\n",
            "4/4 [==============================] - 0s 46ms/step - loss: 0.5665 - accuracy: 0.7506 - val_loss: 0.5850 - val_accuracy: 0.7506\n",
            "Epoch 5/400\n",
            "4/4 [==============================] - 0s 47ms/step - loss: 0.5653 - accuracy: 0.7506 - val_loss: 0.5688 - val_accuracy: 0.7506\n",
            "Epoch 6/400\n",
            "4/4 [==============================] - 0s 59ms/step - loss: 0.5582 - accuracy: 0.7506 - val_loss: 0.5448 - val_accuracy: 0.7506\n",
            "Epoch 7/400\n",
            "4/4 [==============================] - 0s 47ms/step - loss: 0.5543 - accuracy: 0.7506 - val_loss: 0.5472 - val_accuracy: 0.7506\n",
            "Epoch 8/400\n",
            "4/4 [==============================] - 0s 47ms/step - loss: 0.5461 - accuracy: 0.7506 - val_loss: 0.5474 - val_accuracy: 0.7506\n",
            "Epoch 9/400\n",
            "4/4 [==============================] - 0s 59ms/step - loss: 0.5391 - accuracy: 0.7506 - val_loss: 0.5145 - val_accuracy: 0.7506\n",
            "Epoch 10/400\n",
            "4/4 [==============================] - 0s 59ms/step - loss: 0.5244 - accuracy: 0.7506 - val_loss: 0.4968 - val_accuracy: 0.7506\n",
            "Epoch 11/400\n",
            "4/4 [==============================] - 0s 61ms/step - loss: 0.5060 - accuracy: 0.7506 - val_loss: 0.4528 - val_accuracy: 0.7506\n",
            "Epoch 12/400\n",
            "4/4 [==============================] - 0s 60ms/step - loss: 0.4763 - accuracy: 0.7506 - val_loss: 0.4088 - val_accuracy: 0.7506\n",
            "Epoch 13/400\n",
            "4/4 [==============================] - 0s 60ms/step - loss: 0.4408 - accuracy: 0.7506 - val_loss: 0.3638 - val_accuracy: 0.7506\n",
            "Epoch 14/400\n",
            "4/4 [==============================] - 0s 62ms/step - loss: 0.4051 - accuracy: 0.7506 - val_loss: 0.3371 - val_accuracy: 0.7506\n",
            "Epoch 15/400\n",
            "4/4 [==============================] - 0s 61ms/step - loss: 0.3775 - accuracy: 0.7506 - val_loss: 0.3231 - val_accuracy: 0.7506\n",
            "Epoch 16/400\n",
            "4/4 [==============================] - 0s 47ms/step - loss: 0.3582 - accuracy: 0.7511 - val_loss: 0.3234 - val_accuracy: 0.7560\n",
            "Epoch 17/400\n",
            "4/4 [==============================] - 0s 48ms/step - loss: 0.3451 - accuracy: 0.7626 - val_loss: 0.3434 - val_accuracy: 0.7943\n",
            "Epoch 18/400\n",
            "4/4 [==============================] - 0s 47ms/step - loss: 0.3358 - accuracy: 0.8311 - val_loss: 0.3603 - val_accuracy: 0.8540\n",
            "Epoch 19/400\n",
            "4/4 [==============================] - 0s 46ms/step - loss: 0.3281 - accuracy: 0.8943 - val_loss: 0.3615 - val_accuracy: 0.8740\n",
            "Epoch 20/400\n",
            "4/4 [==============================] - 0s 47ms/step - loss: 0.3186 - accuracy: 0.9079 - val_loss: 0.3562 - val_accuracy: 0.8854\n",
            "Epoch 21/400\n",
            "4/4 [==============================] - 0s 47ms/step - loss: 0.3084 - accuracy: 0.9084 - val_loss: 0.3275 - val_accuracy: 0.9014\n",
            "Epoch 22/400\n",
            "4/4 [==============================] - 0s 64ms/step - loss: 0.2905 - accuracy: 0.9113 - val_loss: 0.2947 - val_accuracy: 0.9089\n",
            "Epoch 23/400\n",
            "4/4 [==============================] - 0s 61ms/step - loss: 0.2757 - accuracy: 0.9130 - val_loss: 0.2780 - val_accuracy: 0.9094\n",
            "Epoch 24/400\n",
            "4/4 [==============================] - 0s 59ms/step - loss: 0.2542 - accuracy: 0.9099 - val_loss: 0.2470 - val_accuracy: 0.9166\n",
            "Epoch 25/400\n",
            "4/4 [==============================] - 0s 48ms/step - loss: 0.2409 - accuracy: 0.9106 - val_loss: 0.3326 - val_accuracy: 0.8940\n",
            "Epoch 26/400\n",
            "4/4 [==============================] - 0s 47ms/step - loss: 0.2481 - accuracy: 0.9079 - val_loss: 0.2474 - val_accuracy: 0.9206\n",
            "Epoch 27/400\n",
            "4/4 [==============================] - 0s 63ms/step - loss: 0.2375 - accuracy: 0.9116 - val_loss: 0.2384 - val_accuracy: 0.9234\n",
            "Epoch 28/400\n",
            "4/4 [==============================] - 0s 47ms/step - loss: 0.2349 - accuracy: 0.9121 - val_loss: 0.2458 - val_accuracy: 0.9217\n",
            "Epoch 29/400\n",
            "4/4 [==============================] - 0s 47ms/step - loss: 0.2288 - accuracy: 0.9176 - val_loss: 0.2518 - val_accuracy: 0.9200\n",
            "Epoch 30/400\n",
            "4/4 [==============================] - 0s 47ms/step - loss: 0.2255 - accuracy: 0.9152 - val_loss: 0.2484 - val_accuracy: 0.9209\n",
            "Epoch 31/400\n",
            "4/4 [==============================] - 0s 47ms/step - loss: 0.2234 - accuracy: 0.9156 - val_loss: 0.2394 - val_accuracy: 0.9220\n",
            "Epoch 32/400\n",
            "4/4 [==============================] - 0s 47ms/step - loss: 0.2199 - accuracy: 0.9174 - val_loss: 0.2429 - val_accuracy: 0.9200\n",
            "Epoch 33/400\n",
            "4/4 [==============================] - 0s 59ms/step - loss: 0.2177 - accuracy: 0.9189 - val_loss: 0.2365 - val_accuracy: 0.9214\n",
            "Epoch 34/400\n",
            "4/4 [==============================] - 0s 65ms/step - loss: 0.2214 - accuracy: 0.9142 - val_loss: 0.2346 - val_accuracy: 0.9217\n",
            "Epoch 35/400\n",
            "4/4 [==============================] - 0s 61ms/step - loss: 0.2193 - accuracy: 0.9195 - val_loss: 0.2196 - val_accuracy: 0.9269\n",
            "Epoch 36/400\n",
            "4/4 [==============================] - 0s 62ms/step - loss: 0.2199 - accuracy: 0.9168 - val_loss: 0.2115 - val_accuracy: 0.9283\n",
            "Epoch 37/400\n",
            "4/4 [==============================] - 0s 47ms/step - loss: 0.2174 - accuracy: 0.9179 - val_loss: 0.2203 - val_accuracy: 0.9251\n",
            "Epoch 38/400\n",
            "4/4 [==============================] - 0s 47ms/step - loss: 0.2133 - accuracy: 0.9189 - val_loss: 0.2454 - val_accuracy: 0.9180\n",
            "Epoch 39/400\n",
            "4/4 [==============================] - 0s 46ms/step - loss: 0.2115 - accuracy: 0.9209 - val_loss: 0.2735 - val_accuracy: 0.9071\n",
            "Epoch 40/400\n",
            "4/4 [==============================] - 0s 47ms/step - loss: 0.2070 - accuracy: 0.9261 - val_loss: 0.2689 - val_accuracy: 0.9091\n",
            "Epoch 41/400\n",
            "4/4 [==============================] - 0s 47ms/step - loss: 0.2020 - accuracy: 0.9273 - val_loss: 0.2649 - val_accuracy: 0.9100\n",
            "Epoch 42/400\n",
            "4/4 [==============================] - 0s 47ms/step - loss: 0.2001 - accuracy: 0.9243 - val_loss: 0.2567 - val_accuracy: 0.9117\n",
            "Epoch 43/400\n",
            "4/4 [==============================] - 0s 47ms/step - loss: 0.1972 - accuracy: 0.9261 - val_loss: 0.2372 - val_accuracy: 0.9177\n",
            "Epoch 44/400\n",
            "4/4 [==============================] - 0s 46ms/step - loss: 0.2045 - accuracy: 0.9244 - val_loss: 0.2362 - val_accuracy: 0.9183\n",
            "Epoch 45/400\n",
            "4/4 [==============================] - 0s 46ms/step - loss: 0.2017 - accuracy: 0.9246 - val_loss: 0.2270 - val_accuracy: 0.9217\n",
            "Epoch 46/400\n",
            "4/4 [==============================] - 0s 46ms/step - loss: 0.2038 - accuracy: 0.9239 - val_loss: 0.2188 - val_accuracy: 0.9237\n",
            "Epoch 47/400\n",
            "4/4 [==============================] - 0s 60ms/step - loss: 0.2008 - accuracy: 0.9239 - val_loss: 0.2028 - val_accuracy: 0.9297\n",
            "Epoch 48/400\n",
            "4/4 [==============================] - 0s 61ms/step - loss: 0.2021 - accuracy: 0.9226 - val_loss: 0.1950 - val_accuracy: 0.9334\n",
            "Epoch 49/400\n",
            "4/4 [==============================] - 0s 46ms/step - loss: 0.2011 - accuracy: 0.9224 - val_loss: 0.2073 - val_accuracy: 0.9271\n",
            "Epoch 50/400\n",
            "4/4 [==============================] - 0s 47ms/step - loss: 0.1948 - accuracy: 0.9248 - val_loss: 0.2337 - val_accuracy: 0.9177\n",
            "Epoch 51/400\n",
            "4/4 [==============================] - 0s 47ms/step - loss: 0.1924 - accuracy: 0.9264 - val_loss: 0.2506 - val_accuracy: 0.9129\n",
            "Epoch 52/400\n",
            "4/4 [==============================] - 0s 47ms/step - loss: 0.1898 - accuracy: 0.9264 - val_loss: 0.2548 - val_accuracy: 0.9100\n",
            "Epoch 53/400\n",
            "4/4 [==============================] - 0s 48ms/step - loss: 0.1826 - accuracy: 0.9328 - val_loss: 0.2525 - val_accuracy: 0.9103\n",
            "Epoch 54/400\n",
            "4/4 [==============================] - 0s 49ms/step - loss: 0.1825 - accuracy: 0.9291 - val_loss: 0.2410 - val_accuracy: 0.9146\n",
            "Epoch 55/400\n",
            "4/4 [==============================] - 0s 46ms/step - loss: 0.1817 - accuracy: 0.9310 - val_loss: 0.2314 - val_accuracy: 0.9163\n",
            "Epoch 56/400\n",
            "4/4 [==============================] - 0s 47ms/step - loss: 0.1815 - accuracy: 0.9314 - val_loss: 0.2119 - val_accuracy: 0.9243\n",
            "Epoch 57/400\n",
            "4/4 [==============================] - 0s 48ms/step - loss: 0.1868 - accuracy: 0.9283 - val_loss: 0.2031 - val_accuracy: 0.9283\n",
            "Epoch 58/400\n",
            "4/4 [==============================] - 0s 62ms/step - loss: 0.1809 - accuracy: 0.9316 - val_loss: 0.1909 - val_accuracy: 0.9329\n",
            "Epoch 59/400\n",
            "4/4 [==============================] - 0s 64ms/step - loss: 0.1881 - accuracy: 0.9281 - val_loss: 0.1782 - val_accuracy: 0.9371\n",
            "Epoch 60/400\n",
            "4/4 [==============================] - 0s 47ms/step - loss: 0.1840 - accuracy: 0.9289 - val_loss: 0.1815 - val_accuracy: 0.9357\n",
            "Epoch 61/400\n",
            "4/4 [==============================] - 0s 49ms/step - loss: 0.1820 - accuracy: 0.9321 - val_loss: 0.1999 - val_accuracy: 0.9280\n",
            "Epoch 62/400\n",
            "4/4 [==============================] - 0s 48ms/step - loss: 0.1781 - accuracy: 0.9319 - val_loss: 0.2274 - val_accuracy: 0.9163\n",
            "Epoch 63/400\n",
            "4/4 [==============================] - 0s 48ms/step - loss: 0.1725 - accuracy: 0.9320 - val_loss: 0.2351 - val_accuracy: 0.9149\n",
            "Epoch 64/400\n",
            "4/4 [==============================] - 0s 48ms/step - loss: 0.1681 - accuracy: 0.9356 - val_loss: 0.2262 - val_accuracy: 0.9160\n",
            "Epoch 65/400\n",
            "4/4 [==============================] - 0s 49ms/step - loss: 0.1680 - accuracy: 0.9356 - val_loss: 0.2013 - val_accuracy: 0.9257\n",
            "Epoch 66/400\n",
            "4/4 [==============================] - 0s 48ms/step - loss: 0.1682 - accuracy: 0.9366 - val_loss: 0.2001 - val_accuracy: 0.9266\n",
            "Epoch 67/400\n",
            "4/4 [==============================] - 0s 46ms/step - loss: 0.1649 - accuracy: 0.9379 - val_loss: 0.1902 - val_accuracy: 0.9314\n",
            "Epoch 68/400\n",
            "4/4 [==============================] - 0s 47ms/step - loss: 0.1743 - accuracy: 0.9311 - val_loss: 0.1878 - val_accuracy: 0.9334\n",
            "Epoch 69/400\n",
            "4/4 [==============================] - 0s 49ms/step - loss: 0.1674 - accuracy: 0.9380 - val_loss: 0.1911 - val_accuracy: 0.9309\n",
            "Epoch 70/400\n",
            "4/4 [==============================] - 0s 47ms/step - loss: 0.1733 - accuracy: 0.9319 - val_loss: 0.1798 - val_accuracy: 0.9346\n",
            "Epoch 71/400\n",
            "4/4 [==============================] - 0s 64ms/step - loss: 0.1722 - accuracy: 0.9356 - val_loss: 0.1715 - val_accuracy: 0.9369\n",
            "Epoch 72/400\n",
            "4/4 [==============================] - 0s 60ms/step - loss: 0.1725 - accuracy: 0.9335 - val_loss: 0.1675 - val_accuracy: 0.9400\n",
            "Epoch 73/400\n",
            "4/4 [==============================] - 0s 48ms/step - loss: 0.1676 - accuracy: 0.9359 - val_loss: 0.1710 - val_accuracy: 0.9366\n",
            "Epoch 74/400\n",
            "4/4 [==============================] - 0s 47ms/step - loss: 0.1664 - accuracy: 0.9361 - val_loss: 0.1876 - val_accuracy: 0.9317\n",
            "Epoch 75/400\n",
            "4/4 [==============================] - 0s 46ms/step - loss: 0.1614 - accuracy: 0.9349 - val_loss: 0.2062 - val_accuracy: 0.9229\n",
            "Epoch 76/400\n",
            "4/4 [==============================] - 0s 46ms/step - loss: 0.1589 - accuracy: 0.9384 - val_loss: 0.2041 - val_accuracy: 0.9243\n",
            "Epoch 77/400\n",
            "4/4 [==============================] - 0s 47ms/step - loss: 0.1538 - accuracy: 0.9413 - val_loss: 0.2056 - val_accuracy: 0.9240\n",
            "Epoch 78/400\n",
            "4/4 [==============================] - 0s 47ms/step - loss: 0.1574 - accuracy: 0.9368 - val_loss: 0.1973 - val_accuracy: 0.9263\n",
            "Epoch 79/400\n",
            "4/4 [==============================] - 0s 47ms/step - loss: 0.1596 - accuracy: 0.9359 - val_loss: 0.1830 - val_accuracy: 0.9337\n",
            "Epoch 80/400\n",
            "4/4 [==============================] - 0s 48ms/step - loss: 0.1638 - accuracy: 0.9363 - val_loss: 0.1681 - val_accuracy: 0.9394\n",
            "Epoch 81/400\n",
            "4/4 [==============================] - 0s 61ms/step - loss: 0.1648 - accuracy: 0.9371 - val_loss: 0.1536 - val_accuracy: 0.9469\n",
            "Epoch 82/400\n",
            "4/4 [==============================] - 0s 60ms/step - loss: 0.1666 - accuracy: 0.9345 - val_loss: 0.1526 - val_accuracy: 0.9466\n",
            "Epoch 83/400\n",
            "4/4 [==============================] - 0s 47ms/step - loss: 0.1628 - accuracy: 0.9374 - val_loss: 0.1544 - val_accuracy: 0.9454\n",
            "Epoch 84/400\n",
            "4/4 [==============================] - 0s 47ms/step - loss: 0.1616 - accuracy: 0.9371 - val_loss: 0.1723 - val_accuracy: 0.9357\n",
            "Epoch 85/400\n",
            "4/4 [==============================] - 0s 46ms/step - loss: 0.1560 - accuracy: 0.9418 - val_loss: 0.1819 - val_accuracy: 0.9334\n",
            "Epoch 86/400\n",
            "4/4 [==============================] - 0s 47ms/step - loss: 0.1502 - accuracy: 0.9412 - val_loss: 0.1909 - val_accuracy: 0.9280\n",
            "Epoch 87/400\n",
            "4/4 [==============================] - 0s 47ms/step - loss: 0.1448 - accuracy: 0.9447 - val_loss: 0.1835 - val_accuracy: 0.9323\n",
            "Epoch 88/400\n",
            "4/4 [==============================] - 0s 47ms/step - loss: 0.1469 - accuracy: 0.9429 - val_loss: 0.1709 - val_accuracy: 0.9374\n",
            "Epoch 89/400\n",
            "4/4 [==============================] - 0s 47ms/step - loss: 0.1493 - accuracy: 0.9424 - val_loss: 0.1552 - val_accuracy: 0.9460\n",
            "Epoch 90/400\n",
            "4/4 [==============================] - 0s 61ms/step - loss: 0.1526 - accuracy: 0.9399 - val_loss: 0.1453 - val_accuracy: 0.9483\n",
            "Epoch 91/400\n",
            "4/4 [==============================] - 0s 61ms/step - loss: 0.1560 - accuracy: 0.9411 - val_loss: 0.1390 - val_accuracy: 0.9514\n",
            "Epoch 92/400\n",
            "4/4 [==============================] - 0s 48ms/step - loss: 0.1553 - accuracy: 0.9395 - val_loss: 0.1524 - val_accuracy: 0.9457\n",
            "Epoch 93/400\n",
            "4/4 [==============================] - 0s 47ms/step - loss: 0.1526 - accuracy: 0.9409 - val_loss: 0.1689 - val_accuracy: 0.9386\n",
            "Epoch 94/400\n",
            "4/4 [==============================] - 0s 47ms/step - loss: 0.1440 - accuracy: 0.9459 - val_loss: 0.1810 - val_accuracy: 0.9329\n",
            "Epoch 95/400\n",
            "4/4 [==============================] - 0s 48ms/step - loss: 0.1439 - accuracy: 0.9448 - val_loss: 0.1975 - val_accuracy: 0.9263\n",
            "Epoch 96/400\n",
            "4/4 [==============================] - 0s 47ms/step - loss: 0.1393 - accuracy: 0.9471 - val_loss: 0.1906 - val_accuracy: 0.9283\n",
            "Epoch 97/400\n",
            "4/4 [==============================] - 0s 47ms/step - loss: 0.1406 - accuracy: 0.9454 - val_loss: 0.1641 - val_accuracy: 0.9397\n",
            "Epoch 98/400\n",
            "4/4 [==============================] - 0s 47ms/step - loss: 0.1513 - accuracy: 0.9422 - val_loss: 0.1467 - val_accuracy: 0.9489\n",
            "Epoch 99/400\n",
            "4/4 [==============================] - 0s 61ms/step - loss: 0.1573 - accuracy: 0.9389 - val_loss: 0.1322 - val_accuracy: 0.9531\n",
            "Epoch 100/400\n",
            "4/4 [==============================] - 0s 60ms/step - loss: 0.1529 - accuracy: 0.9404 - val_loss: 0.1175 - val_accuracy: 0.9600\n",
            "Epoch 101/400\n",
            "4/4 [==============================] - 0s 47ms/step - loss: 0.1611 - accuracy: 0.9360 - val_loss: 0.1333 - val_accuracy: 0.9543\n",
            "Epoch 102/400\n",
            "4/4 [==============================] - 0s 47ms/step - loss: 0.1553 - accuracy: 0.9397 - val_loss: 0.2150 - val_accuracy: 0.9217\n",
            "Epoch 103/400\n",
            "4/4 [==============================] - 0s 47ms/step - loss: 0.1417 - accuracy: 0.9437 - val_loss: 0.2466 - val_accuracy: 0.9089\n",
            "Epoch 104/400\n",
            "4/4 [==============================] - 0s 47ms/step - loss: 0.1407 - accuracy: 0.9445 - val_loss: 0.1870 - val_accuracy: 0.9300\n",
            "Epoch 105/400\n",
            "4/4 [==============================] - 0s 46ms/step - loss: 0.1390 - accuracy: 0.9459 - val_loss: 0.1499 - val_accuracy: 0.9469\n",
            "Epoch 106/400\n",
            "4/4 [==============================] - 0s 47ms/step - loss: 0.1415 - accuracy: 0.9459 - val_loss: 0.1374 - val_accuracy: 0.9511\n",
            "Epoch 107/400\n",
            "4/4 [==============================] - 0s 46ms/step - loss: 0.1416 - accuracy: 0.9442 - val_loss: 0.1550 - val_accuracy: 0.9443\n",
            "Epoch 108/400\n",
            "4/4 [==============================] - 0s 47ms/step - loss: 0.1356 - accuracy: 0.9471 - val_loss: 0.1637 - val_accuracy: 0.9400\n",
            "Epoch 109/400\n",
            "4/4 [==============================] - 0s 47ms/step - loss: 0.1332 - accuracy: 0.9488 - val_loss: 0.1641 - val_accuracy: 0.9406\n",
            "Epoch 110/400\n",
            "4/4 [==============================] - 0s 46ms/step - loss: 0.1311 - accuracy: 0.9508 - val_loss: 0.1608 - val_accuracy: 0.9431\n",
            "Epoch 111/400\n",
            "4/4 [==============================] - 0s 47ms/step - loss: 0.1292 - accuracy: 0.9518 - val_loss: 0.1639 - val_accuracy: 0.9406\n",
            "Epoch 112/400\n",
            "4/4 [==============================] - 0s 48ms/step - loss: 0.1318 - accuracy: 0.9503 - val_loss: 0.1578 - val_accuracy: 0.9429\n",
            "Epoch 113/400\n",
            "4/4 [==============================] - 0s 47ms/step - loss: 0.1373 - accuracy: 0.9457 - val_loss: 0.1392 - val_accuracy: 0.9511\n",
            "Epoch 114/400\n",
            "4/4 [==============================] - 0s 47ms/step - loss: 0.1441 - accuracy: 0.9426 - val_loss: 0.1250 - val_accuracy: 0.9580\n",
            "Epoch 115/400\n",
            "4/4 [==============================] - 0s 61ms/step - loss: 0.1412 - accuracy: 0.9433 - val_loss: 0.1116 - val_accuracy: 0.9634\n",
            "Epoch 116/400\n",
            "4/4 [==============================] - 0s 47ms/step - loss: 0.1431 - accuracy: 0.9438 - val_loss: 0.1143 - val_accuracy: 0.9623\n",
            "Epoch 117/400\n",
            "4/4 [==============================] - 0s 49ms/step - loss: 0.1398 - accuracy: 0.9453 - val_loss: 0.1403 - val_accuracy: 0.9511\n",
            "Epoch 118/400\n",
            "4/4 [==============================] - 0s 51ms/step - loss: 0.1344 - accuracy: 0.9484 - val_loss: 0.1820 - val_accuracy: 0.9323\n",
            "Epoch 119/400\n",
            "4/4 [==============================] - 0s 48ms/step - loss: 0.1285 - accuracy: 0.9519 - val_loss: 0.2003 - val_accuracy: 0.9249\n",
            "Epoch 120/400\n",
            "4/4 [==============================] - 0s 49ms/step - loss: 0.1261 - accuracy: 0.9518 - val_loss: 0.1714 - val_accuracy: 0.9349\n",
            "Epoch 121/400\n",
            "4/4 [==============================] - 0s 47ms/step - loss: 0.1254 - accuracy: 0.9519 - val_loss: 0.1471 - val_accuracy: 0.9463\n",
            "Epoch 122/400\n",
            "4/4 [==============================] - 0s 51ms/step - loss: 0.1306 - accuracy: 0.9483 - val_loss: 0.1282 - val_accuracy: 0.9563\n",
            "Epoch 123/400\n",
            "4/4 [==============================] - 0s 64ms/step - loss: 0.1344 - accuracy: 0.9476 - val_loss: 0.1079 - val_accuracy: 0.9643\n",
            "Epoch 124/400\n",
            "4/4 [==============================] - 0s 64ms/step - loss: 0.1359 - accuracy: 0.9464 - val_loss: 0.1062 - val_accuracy: 0.9649\n",
            "Epoch 125/400\n",
            "4/4 [==============================] - 0s 47ms/step - loss: 0.1374 - accuracy: 0.9448 - val_loss: 0.1385 - val_accuracy: 0.9517\n",
            "Epoch 126/400\n",
            "4/4 [==============================] - 0s 48ms/step - loss: 0.1261 - accuracy: 0.9514 - val_loss: 0.1990 - val_accuracy: 0.9260\n",
            "Epoch 127/400\n",
            "4/4 [==============================] - 0s 48ms/step - loss: 0.1264 - accuracy: 0.9514 - val_loss: 0.1946 - val_accuracy: 0.9269\n",
            "Epoch 128/400\n",
            "4/4 [==============================] - 0s 48ms/step - loss: 0.1250 - accuracy: 0.9533 - val_loss: 0.1464 - val_accuracy: 0.9477\n",
            "Epoch 129/400\n",
            "4/4 [==============================] - 0s 49ms/step - loss: 0.1262 - accuracy: 0.9517 - val_loss: 0.1237 - val_accuracy: 0.9589\n",
            "Epoch 130/400\n",
            "4/4 [==============================] - 0s 48ms/step - loss: 0.1254 - accuracy: 0.9511 - val_loss: 0.1135 - val_accuracy: 0.9634\n",
            "Epoch 131/400\n",
            "4/4 [==============================] - 0s 46ms/step - loss: 0.1312 - accuracy: 0.9507 - val_loss: 0.1134 - val_accuracy: 0.9631\n",
            "Epoch 132/400\n",
            "4/4 [==============================] - 0s 47ms/step - loss: 0.1238 - accuracy: 0.9526 - val_loss: 0.1310 - val_accuracy: 0.9543\n",
            "Epoch 133/400\n",
            "4/4 [==============================] - 0s 47ms/step - loss: 0.1241 - accuracy: 0.9513 - val_loss: 0.1492 - val_accuracy: 0.9457\n",
            "Epoch 134/400\n",
            "4/4 [==============================] - 0s 47ms/step - loss: 0.1188 - accuracy: 0.9545 - val_loss: 0.1446 - val_accuracy: 0.9480\n",
            "Epoch 135/400\n",
            "4/4 [==============================] - 0s 46ms/step - loss: 0.1189 - accuracy: 0.9539 - val_loss: 0.1307 - val_accuracy: 0.9520\n",
            "Epoch 136/400\n",
            "4/4 [==============================] - 0s 46ms/step - loss: 0.1178 - accuracy: 0.9563 - val_loss: 0.1298 - val_accuracy: 0.9543\n",
            "Epoch 137/400\n",
            "4/4 [==============================] - 0s 47ms/step - loss: 0.1152 - accuracy: 0.9569 - val_loss: 0.1189 - val_accuracy: 0.9620\n",
            "Epoch 138/400\n",
            "4/4 [==============================] - 0s 47ms/step - loss: 0.1176 - accuracy: 0.9536 - val_loss: 0.1099 - val_accuracy: 0.9646\n",
            "Epoch 139/400\n",
            "4/4 [==============================] - 0s 60ms/step - loss: 0.1254 - accuracy: 0.9504 - val_loss: 0.1052 - val_accuracy: 0.9640\n",
            "Epoch 140/400\n",
            "4/4 [==============================] - 0s 59ms/step - loss: 0.1250 - accuracy: 0.9493 - val_loss: 0.0975 - val_accuracy: 0.9680\n",
            "Epoch 141/400\n",
            "4/4 [==============================] - 0s 60ms/step - loss: 0.1270 - accuracy: 0.9509 - val_loss: 0.0935 - val_accuracy: 0.9689\n",
            "Epoch 142/400\n",
            "4/4 [==============================] - 0s 47ms/step - loss: 0.1270 - accuracy: 0.9504 - val_loss: 0.0995 - val_accuracy: 0.9666\n",
            "Epoch 143/400\n",
            "4/4 [==============================] - 0s 46ms/step - loss: 0.1260 - accuracy: 0.9501 - val_loss: 0.1070 - val_accuracy: 0.9651\n",
            "Epoch 144/400\n",
            "4/4 [==============================] - 0s 46ms/step - loss: 0.1198 - accuracy: 0.9536 - val_loss: 0.1401 - val_accuracy: 0.9500\n",
            "Epoch 145/400\n",
            "4/4 [==============================] - 0s 47ms/step - loss: 0.1149 - accuracy: 0.9551 - val_loss: 0.1505 - val_accuracy: 0.9443\n",
            "Epoch 146/400\n",
            "4/4 [==============================] - 0s 46ms/step - loss: 0.1141 - accuracy: 0.9560 - val_loss: 0.1317 - val_accuracy: 0.9531\n",
            "Epoch 147/400\n",
            "4/4 [==============================] - 0s 47ms/step - loss: 0.1136 - accuracy: 0.9554 - val_loss: 0.1192 - val_accuracy: 0.9609\n",
            "Epoch 148/400\n",
            "4/4 [==============================] - 0s 47ms/step - loss: 0.1118 - accuracy: 0.9576 - val_loss: 0.1080 - val_accuracy: 0.9660\n",
            "Epoch 149/400\n",
            "4/4 [==============================] - 0s 46ms/step - loss: 0.1140 - accuracy: 0.9541 - val_loss: 0.0977 - val_accuracy: 0.9671\n",
            "Epoch 150/400\n",
            "4/4 [==============================] - 0s 46ms/step - loss: 0.1161 - accuracy: 0.9538 - val_loss: 0.0962 - val_accuracy: 0.9680\n",
            "Epoch 151/400\n",
            "4/4 [==============================] - 0s 47ms/step - loss: 0.1132 - accuracy: 0.9567 - val_loss: 0.0935 - val_accuracy: 0.9689\n",
            "Epoch 152/400\n",
            "4/4 [==============================] - 0s 47ms/step - loss: 0.1135 - accuracy: 0.9594 - val_loss: 0.1000 - val_accuracy: 0.9663\n",
            "Epoch 153/400\n",
            "4/4 [==============================] - 0s 46ms/step - loss: 0.1124 - accuracy: 0.9559 - val_loss: 0.1057 - val_accuracy: 0.9654\n",
            "Epoch 154/400\n",
            "4/4 [==============================] - 0s 46ms/step - loss: 0.1116 - accuracy: 0.9563 - val_loss: 0.1062 - val_accuracy: 0.9657\n",
            "Epoch 155/400\n",
            "4/4 [==============================] - 0s 46ms/step - loss: 0.1110 - accuracy: 0.9586 - val_loss: 0.1041 - val_accuracy: 0.9660\n",
            "Epoch 156/400\n",
            "4/4 [==============================] - 0s 60ms/step - loss: 0.1139 - accuracy: 0.9559 - val_loss: 0.0880 - val_accuracy: 0.9706\n",
            "Epoch 157/400\n",
            "4/4 [==============================] - 0s 59ms/step - loss: 0.1215 - accuracy: 0.9511 - val_loss: 0.0782 - val_accuracy: 0.9737\n",
            "Epoch 158/400\n",
            "4/4 [==============================] - 0s 47ms/step - loss: 0.1184 - accuracy: 0.9547 - val_loss: 0.0861 - val_accuracy: 0.9720\n",
            "Epoch 159/400\n",
            "4/4 [==============================] - 0s 46ms/step - loss: 0.1157 - accuracy: 0.9539 - val_loss: 0.1179 - val_accuracy: 0.9597\n",
            "Epoch 160/400\n",
            "4/4 [==============================] - 0s 47ms/step - loss: 0.1069 - accuracy: 0.9605 - val_loss: 0.1478 - val_accuracy: 0.9457\n",
            "Epoch 161/400\n",
            "4/4 [==============================] - 0s 47ms/step - loss: 0.1071 - accuracy: 0.9605 - val_loss: 0.1214 - val_accuracy: 0.9577\n",
            "Epoch 162/400\n",
            "4/4 [==============================] - 0s 47ms/step - loss: 0.1106 - accuracy: 0.9590 - val_loss: 0.0936 - val_accuracy: 0.9694\n",
            "Epoch 163/400\n",
            "4/4 [==============================] - 0s 47ms/step - loss: 0.1146 - accuracy: 0.9567 - val_loss: 0.0842 - val_accuracy: 0.9720\n",
            "Epoch 164/400\n",
            "4/4 [==============================] - 0s 47ms/step - loss: 0.1129 - accuracy: 0.9556 - val_loss: 0.0902 - val_accuracy: 0.9711\n",
            "Epoch 165/400\n",
            "4/4 [==============================] - 0s 46ms/step - loss: 0.1094 - accuracy: 0.9569 - val_loss: 0.1131 - val_accuracy: 0.9631\n",
            "Epoch 166/400\n",
            "4/4 [==============================] - 0s 47ms/step - loss: 0.1028 - accuracy: 0.9619 - val_loss: 0.1477 - val_accuracy: 0.9446\n",
            "Epoch 167/400\n",
            "4/4 [==============================] - 0s 46ms/step - loss: 0.1042 - accuracy: 0.9605 - val_loss: 0.1215 - val_accuracy: 0.9574\n",
            "Epoch 168/400\n",
            "4/4 [==============================] - 0s 46ms/step - loss: 0.1046 - accuracy: 0.9604 - val_loss: 0.0982 - val_accuracy: 0.9677\n",
            "Epoch 169/400\n",
            "4/4 [==============================] - 0s 59ms/step - loss: 0.1111 - accuracy: 0.9569 - val_loss: 0.0768 - val_accuracy: 0.9751\n",
            "Epoch 170/400\n",
            "4/4 [==============================] - 0s 60ms/step - loss: 0.1134 - accuracy: 0.9556 - val_loss: 0.0744 - val_accuracy: 0.9754\n",
            "Epoch 171/400\n",
            "4/4 [==============================] - 0s 46ms/step - loss: 0.1141 - accuracy: 0.9554 - val_loss: 0.0850 - val_accuracy: 0.9726\n",
            "Epoch 172/400\n",
            "4/4 [==============================] - 0s 46ms/step - loss: 0.1063 - accuracy: 0.9593 - val_loss: 0.1185 - val_accuracy: 0.9583\n",
            "Epoch 173/400\n",
            "4/4 [==============================] - 0s 46ms/step - loss: 0.0994 - accuracy: 0.9619 - val_loss: 0.1271 - val_accuracy: 0.9543\n",
            "Epoch 174/400\n",
            "4/4 [==============================] - 0s 46ms/step - loss: 0.1027 - accuracy: 0.9606 - val_loss: 0.1169 - val_accuracy: 0.9609\n",
            "Epoch 175/400\n",
            "4/4 [==============================] - 0s 47ms/step - loss: 0.1000 - accuracy: 0.9623 - val_loss: 0.0915 - val_accuracy: 0.9703\n",
            "Epoch 176/400\n",
            "4/4 [==============================] - 0s 47ms/step - loss: 0.1050 - accuracy: 0.9599 - val_loss: 0.0762 - val_accuracy: 0.9751\n",
            "Epoch 177/400\n",
            "4/4 [==============================] - 0s 59ms/step - loss: 0.1063 - accuracy: 0.9582 - val_loss: 0.0718 - val_accuracy: 0.9760\n",
            "Epoch 178/400\n",
            "4/4 [==============================] - 0s 47ms/step - loss: 0.1087 - accuracy: 0.9588 - val_loss: 0.0746 - val_accuracy: 0.9751\n",
            "Epoch 179/400\n",
            "4/4 [==============================] - 0s 46ms/step - loss: 0.1038 - accuracy: 0.9593 - val_loss: 0.0919 - val_accuracy: 0.9694\n",
            "Epoch 180/400\n",
            "4/4 [==============================] - 0s 47ms/step - loss: 0.0988 - accuracy: 0.9605 - val_loss: 0.1092 - val_accuracy: 0.9623\n",
            "Epoch 181/400\n",
            "4/4 [==============================] - 0s 48ms/step - loss: 0.0985 - accuracy: 0.9628 - val_loss: 0.1085 - val_accuracy: 0.9643\n",
            "Epoch 182/400\n",
            "4/4 [==============================] - 0s 48ms/step - loss: 0.0967 - accuracy: 0.9636 - val_loss: 0.0845 - val_accuracy: 0.9714\n",
            "Epoch 183/400\n",
            "4/4 [==============================] - 0s 61ms/step - loss: 0.1051 - accuracy: 0.9605 - val_loss: 0.0709 - val_accuracy: 0.9766\n",
            "Epoch 184/400\n",
            "4/4 [==============================] - 0s 64ms/step - loss: 0.1118 - accuracy: 0.9566 - val_loss: 0.0631 - val_accuracy: 0.9777\n",
            "Epoch 185/400\n",
            "4/4 [==============================] - 0s 48ms/step - loss: 0.1087 - accuracy: 0.9577 - val_loss: 0.0662 - val_accuracy: 0.9783\n",
            "Epoch 186/400\n",
            "4/4 [==============================] - 0s 47ms/step - loss: 0.1038 - accuracy: 0.9601 - val_loss: 0.1095 - val_accuracy: 0.9629\n",
            "Epoch 187/400\n",
            "4/4 [==============================] - 0s 47ms/step - loss: 0.0972 - accuracy: 0.9625 - val_loss: 0.1216 - val_accuracy: 0.9574\n",
            "Epoch 188/400\n",
            "4/4 [==============================] - 0s 47ms/step - loss: 0.0948 - accuracy: 0.9631 - val_loss: 0.0930 - val_accuracy: 0.9677\n",
            "Epoch 189/400\n",
            "4/4 [==============================] - 0s 47ms/step - loss: 0.0971 - accuracy: 0.9645 - val_loss: 0.0772 - val_accuracy: 0.9760\n",
            "Epoch 190/400\n",
            "4/4 [==============================] - 0s 48ms/step - loss: 0.1013 - accuracy: 0.9618 - val_loss: 0.0639 - val_accuracy: 0.9794\n",
            "Epoch 191/400\n",
            "4/4 [==============================] - 0s 47ms/step - loss: 0.1028 - accuracy: 0.9594 - val_loss: 0.0650 - val_accuracy: 0.9794\n",
            "Epoch 192/400\n",
            "4/4 [==============================] - 0s 49ms/step - loss: 0.1004 - accuracy: 0.9615 - val_loss: 0.0846 - val_accuracy: 0.9720\n",
            "Epoch 193/400\n",
            "4/4 [==============================] - 0s 49ms/step - loss: 0.0961 - accuracy: 0.9634 - val_loss: 0.1143 - val_accuracy: 0.9606\n",
            "Epoch 194/400\n",
            "4/4 [==============================] - 0s 48ms/step - loss: 0.0897 - accuracy: 0.9649 - val_loss: 0.1082 - val_accuracy: 0.9626\n",
            "Epoch 195/400\n",
            "4/4 [==============================] - 0s 46ms/step - loss: 0.0912 - accuracy: 0.9651 - val_loss: 0.1022 - val_accuracy: 0.9654\n",
            "Epoch 196/400\n",
            "4/4 [==============================] - 0s 46ms/step - loss: 0.0944 - accuracy: 0.9636 - val_loss: 0.0797 - val_accuracy: 0.9734\n",
            "Epoch 197/400\n",
            "4/4 [==============================] - 0s 63ms/step - loss: 0.0978 - accuracy: 0.9627 - val_loss: 0.0619 - val_accuracy: 0.9809\n",
            "Epoch 198/400\n",
            "4/4 [==============================] - 0s 60ms/step - loss: 0.1006 - accuracy: 0.9606 - val_loss: 0.0578 - val_accuracy: 0.9800\n",
            "Epoch 199/400\n",
            "4/4 [==============================] - 0s 47ms/step - loss: 0.1076 - accuracy: 0.9584 - val_loss: 0.0591 - val_accuracy: 0.9794\n",
            "Epoch 200/400\n",
            "4/4 [==============================] - 0s 47ms/step - loss: 0.0990 - accuracy: 0.9604 - val_loss: 0.1036 - val_accuracy: 0.9649\n",
            "Epoch 201/400\n",
            "4/4 [==============================] - 0s 47ms/step - loss: 0.0914 - accuracy: 0.9654 - val_loss: 0.1122 - val_accuracy: 0.9606\n",
            "Epoch 202/400\n",
            "4/4 [==============================] - 0s 47ms/step - loss: 0.0911 - accuracy: 0.9665 - val_loss: 0.0915 - val_accuracy: 0.9677\n",
            "Epoch 203/400\n",
            "4/4 [==============================] - 0s 47ms/step - loss: 0.0931 - accuracy: 0.9657 - val_loss: 0.0658 - val_accuracy: 0.9789\n",
            "Epoch 204/400\n",
            "4/4 [==============================] - 0s 47ms/step - loss: 0.0968 - accuracy: 0.9637 - val_loss: 0.0590 - val_accuracy: 0.9817\n",
            "Epoch 205/400\n",
            "4/4 [==============================] - 0s 47ms/step - loss: 0.0949 - accuracy: 0.9641 - val_loss: 0.0628 - val_accuracy: 0.9800\n",
            "Epoch 206/400\n",
            "4/4 [==============================] - 0s 47ms/step - loss: 0.0925 - accuracy: 0.9645 - val_loss: 0.0806 - val_accuracy: 0.9726\n",
            "Epoch 207/400\n",
            "4/4 [==============================] - 0s 47ms/step - loss: 0.0883 - accuracy: 0.9676 - val_loss: 0.1089 - val_accuracy: 0.9626\n",
            "Epoch 208/400\n",
            "4/4 [==============================] - 0s 47ms/step - loss: 0.0901 - accuracy: 0.9672 - val_loss: 0.0767 - val_accuracy: 0.9737\n",
            "Epoch 209/400\n",
            "4/4 [==============================] - 0s 47ms/step - loss: 0.0909 - accuracy: 0.9662 - val_loss: 0.0638 - val_accuracy: 0.9789\n",
            "Epoch 210/400\n",
            "4/4 [==============================] - 0s 61ms/step - loss: 0.0948 - accuracy: 0.9633 - val_loss: 0.0557 - val_accuracy: 0.9811\n",
            "Epoch 211/400\n",
            "4/4 [==============================] - 0s 60ms/step - loss: 0.0989 - accuracy: 0.9612 - val_loss: 0.0556 - val_accuracy: 0.9829\n",
            "Epoch 212/400\n",
            "4/4 [==============================] - 0s 47ms/step - loss: 0.0952 - accuracy: 0.9634 - val_loss: 0.0840 - val_accuracy: 0.9709\n",
            "Epoch 213/400\n",
            "4/4 [==============================] - 0s 46ms/step - loss: 0.0868 - accuracy: 0.9665 - val_loss: 0.1068 - val_accuracy: 0.9629\n",
            "Epoch 214/400\n",
            "4/4 [==============================] - 0s 46ms/step - loss: 0.0862 - accuracy: 0.9672 - val_loss: 0.0828 - val_accuracy: 0.9711\n",
            "Epoch 215/400\n",
            "4/4 [==============================] - 0s 47ms/step - loss: 0.0884 - accuracy: 0.9683 - val_loss: 0.0699 - val_accuracy: 0.9783\n",
            "Epoch 216/400\n",
            "4/4 [==============================] - 0s 47ms/step - loss: 0.0874 - accuracy: 0.9673 - val_loss: 0.0660 - val_accuracy: 0.9789\n",
            "Epoch 217/400\n",
            "4/4 [==============================] - 0s 47ms/step - loss: 0.0933 - accuracy: 0.9637 - val_loss: 0.0576 - val_accuracy: 0.9811\n",
            "Epoch 218/400\n",
            "4/4 [==============================] - 0s 62ms/step - loss: 0.0962 - accuracy: 0.9625 - val_loss: 0.0524 - val_accuracy: 0.9843\n",
            "Epoch 219/400\n",
            "4/4 [==============================] - 0s 47ms/step - loss: 0.0928 - accuracy: 0.9644 - val_loss: 0.0590 - val_accuracy: 0.9803\n",
            "Epoch 220/400\n",
            "4/4 [==============================] - 0s 47ms/step - loss: 0.0919 - accuracy: 0.9661 - val_loss: 0.0745 - val_accuracy: 0.9749\n",
            "Epoch 221/400\n",
            "4/4 [==============================] - 0s 50ms/step - loss: 0.0845 - accuracy: 0.9681 - val_loss: 0.0789 - val_accuracy: 0.9723\n",
            "Epoch 222/400\n",
            "4/4 [==============================] - 0s 48ms/step - loss: 0.0846 - accuracy: 0.9687 - val_loss: 0.0775 - val_accuracy: 0.9723\n",
            "Epoch 223/400\n",
            "4/4 [==============================] - 0s 47ms/step - loss: 0.0831 - accuracy: 0.9694 - val_loss: 0.0613 - val_accuracy: 0.9803\n",
            "Epoch 224/400\n",
            "4/4 [==============================] - 0s 47ms/step - loss: 0.0878 - accuracy: 0.9684 - val_loss: 0.0562 - val_accuracy: 0.9800\n",
            "Epoch 225/400\n",
            "4/4 [==============================] - 0s 62ms/step - loss: 0.0903 - accuracy: 0.9656 - val_loss: 0.0511 - val_accuracy: 0.9840\n",
            "Epoch 226/400\n",
            "4/4 [==============================] - 0s 47ms/step - loss: 0.0894 - accuracy: 0.9647 - val_loss: 0.0576 - val_accuracy: 0.9806\n",
            "Epoch 227/400\n",
            "4/4 [==============================] - 0s 48ms/step - loss: 0.0851 - accuracy: 0.9666 - val_loss: 0.0630 - val_accuracy: 0.9794\n",
            "Epoch 228/400\n",
            "4/4 [==============================] - 0s 47ms/step - loss: 0.0838 - accuracy: 0.9676 - val_loss: 0.0658 - val_accuracy: 0.9791\n",
            "Epoch 229/400\n",
            "4/4 [==============================] - 0s 47ms/step - loss: 0.0824 - accuracy: 0.9699 - val_loss: 0.0731 - val_accuracy: 0.9754\n",
            "Epoch 230/400\n",
            "4/4 [==============================] - 0s 47ms/step - loss: 0.0801 - accuracy: 0.9694 - val_loss: 0.0627 - val_accuracy: 0.9800\n",
            "Epoch 231/400\n",
            "4/4 [==============================] - 0s 47ms/step - loss: 0.0843 - accuracy: 0.9681 - val_loss: 0.0559 - val_accuracy: 0.9814\n",
            "Epoch 232/400\n",
            "4/4 [==============================] - 0s 46ms/step - loss: 0.0833 - accuracy: 0.9693 - val_loss: 0.0517 - val_accuracy: 0.9837\n",
            "Epoch 233/400\n",
            "4/4 [==============================] - 0s 47ms/step - loss: 0.0864 - accuracy: 0.9665 - val_loss: 0.0537 - val_accuracy: 0.9820\n",
            "Epoch 234/400\n",
            "4/4 [==============================] - 0s 47ms/step - loss: 0.0820 - accuracy: 0.9686 - val_loss: 0.0592 - val_accuracy: 0.9809\n",
            "Epoch 235/400\n",
            "4/4 [==============================] - 0s 47ms/step - loss: 0.0832 - accuracy: 0.9680 - val_loss: 0.0576 - val_accuracy: 0.9809\n",
            "Epoch 236/400\n",
            "4/4 [==============================] - 0s 46ms/step - loss: 0.0782 - accuracy: 0.9719 - val_loss: 0.0601 - val_accuracy: 0.9803\n",
            "Epoch 237/400\n",
            "4/4 [==============================] - 0s 47ms/step - loss: 0.0837 - accuracy: 0.9697 - val_loss: 0.0615 - val_accuracy: 0.9800\n",
            "Epoch 238/400\n",
            "4/4 [==============================] - 0s 47ms/step - loss: 0.0830 - accuracy: 0.9676 - val_loss: 0.0561 - val_accuracy: 0.9811\n",
            "Epoch 239/400\n",
            "4/4 [==============================] - 0s 47ms/step - loss: 0.0817 - accuracy: 0.9700 - val_loss: 0.0517 - val_accuracy: 0.9823\n",
            "Epoch 240/400\n",
            "4/4 [==============================] - 0s 48ms/step - loss: 0.0827 - accuracy: 0.9683 - val_loss: 0.0514 - val_accuracy: 0.9829\n",
            "Epoch 241/400\n",
            "4/4 [==============================] - 0s 47ms/step - loss: 0.0861 - accuracy: 0.9672 - val_loss: 0.0515 - val_accuracy: 0.9829\n",
            "Epoch 242/400\n",
            "4/4 [==============================] - 0s 61ms/step - loss: 0.0842 - accuracy: 0.9694 - val_loss: 0.0502 - val_accuracy: 0.9843\n",
            "Epoch 243/400\n",
            "4/4 [==============================] - 0s 47ms/step - loss: 0.0879 - accuracy: 0.9666 - val_loss: 0.0511 - val_accuracy: 0.9840\n",
            "Epoch 244/400\n",
            "4/4 [==============================] - 0s 47ms/step - loss: 0.0796 - accuracy: 0.9696 - val_loss: 0.0565 - val_accuracy: 0.9814\n",
            "Epoch 245/400\n",
            "4/4 [==============================] - 0s 47ms/step - loss: 0.0816 - accuracy: 0.9696 - val_loss: 0.0600 - val_accuracy: 0.9800\n",
            "Epoch 246/400\n",
            "4/4 [==============================] - 0s 49ms/step - loss: 0.0799 - accuracy: 0.9712 - val_loss: 0.0668 - val_accuracy: 0.9777\n",
            "Epoch 247/400\n",
            "4/4 [==============================] - 0s 47ms/step - loss: 0.0774 - accuracy: 0.9723 - val_loss: 0.0556 - val_accuracy: 0.9811\n",
            "Epoch 248/400\n",
            "4/4 [==============================] - 0s 62ms/step - loss: 0.0812 - accuracy: 0.9700 - val_loss: 0.0495 - val_accuracy: 0.9837\n"
          ]
        }
      ]
    },
    {
      "cell_type": "code",
      "source": [
        "def plot_history(history):\n",
        "    accuracy = history.history['accuracy']\n",
        "    val_accuracy = history.history['val_accuracy']\n",
        "    loss = history.history['loss']\n",
        "    val_loss = history.history['val_loss']\n",
        "    epochs = range(1, len(loss)+1)\n",
        "    plt.plot(epochs, accuracy, 'bo', label='Training accuracy')\n",
        "    plt.plot(epochs, val_accuracy, 'b', label='Validation accuracy')\n",
        "    plt.title(\"Training and Validation accuracy\")\n",
        "    plt.legend()\n",
        "    plt.figure()\n",
        "    plt.plot(epochs, loss, 'bo', label='Training loss')\n",
        "    plt.plot(epochs, val_loss, 'b', label='Validation loss')\n",
        "    plt.title(\"Training and Validation Loss\")\n",
        "    plt.legend()\n",
        "    plt.show()"
      ],
      "metadata": {
        "id": "vAOHQukYzKZK"
      },
      "execution_count": null,
      "outputs": []
    },
    {
      "cell_type": "code",
      "source": [
        "plot_history(history)"
      ],
      "metadata": {
        "colab": {
          "base_uri": "https://localhost:8080/",
          "height": 871
        },
        "id": "ZccDYqCfzNjD",
        "outputId": "48f1e321-24ec-4c9e-c0b3-4ea77a524f17"
      },
      "execution_count": null,
      "outputs": [
        {
          "output_type": "display_data",
          "data": {
            "text/plain": [
              "<Figure size 640x480 with 1 Axes>"
            ],
            "image/png": "[encoded data removed]"
          },
          "metadata": {}
        },
        {
          "output_type": "display_data",
          "data": {
            "text/plain": [
              "<Figure size 640x480 with 1 Axes>"
            ],
            "image/png": "[encoded data removed]"
          },
          "metadata": {}
        }
      ]
    },
    {
      "cell_type": "code",
      "source": [
        "best_my_model = keras.models.load_model('my_model.keras')\n",
        "\n",
        "best_my_model.evaluate(val_dataset)"
      ],
      "metadata": {
        "colab": {
          "base_uri": "https://localhost:8080/"
        },
        "id": "pIpep9cj5vxL",
        "outputId": "569389d5-609c-4588-c3bd-a62c317abb3d"
      },
      "execution_count": null,
      "outputs": [
        {
          "output_type": "stream",
          "name": "stdout",
          "text": [
            "1/1 [==============================] - 2s 2s/step - loss: 0.0495 - accuracy: 0.9837\n"
          ]
        },
        {
          "output_type": "execute_result",
          "data": {
            "text/plain": [
              "[0.04949194937944412, 0.9837142825126648]"
            ]
          },
          "metadata": {},
          "execution_count": 117
        }
      ]
    },
    {
      "cell_type": "code",
      "source": [
        "test_pred = best_my_model.predict(test_dataset)"
      ],
      "metadata": {
        "colab": {
          "base_uri": "https://localhost:8080/"
        },
        "id": "7GzeiSeVF872",
        "outputId": "2cc5b7b6-01fc-4ec0-c4fa-59f30ae77979"
      },
      "execution_count": null,
      "outputs": [
        {
          "output_type": "stream",
          "name": "stdout",
          "text": [
            "2/2 [==============================] - 3s 76ms/step\n"
          ]
        }
      ]
    },
    {
      "cell_type": "code",
      "source": [
        "submission['has_cactus'] = pd.DataFrame((test_pred<0.5).astype('float'))"
      ],
      "metadata": {
        "id": "UuhB8XQiFvCn"
      },
      "execution_count": null,
      "outputs": []
    },
    {
      "cell_type": "code",
      "source": [
        "submission.head()"
      ],
      "metadata": {
        "colab": {
          "base_uri": "https://localhost:8080/",
          "height": 206
        },
        "id": "v3W5y9B0GGRZ",
        "outputId": "00f01b47-62b4-40e4-f2d1-6c2484def113"
      },
      "execution_count": null,
      "outputs": [
        {
          "output_type": "execute_result",
          "data": {
            "text/plain": [
              "                                     id  has_cactus\n",
              "0  000940378805c44108d287872b2f04ce.jpg         1.0\n",
              "1  0017242f54ececa4512b4d7937d1e21e.jpg         0.0\n",
              "2  001ee6d8564003107853118ab87df407.jpg         1.0\n",
              "3  002e175c3c1e060769475f52182583d0.jpg         1.0\n",
              "4  0036e44a7e8f7218e9bc7bf8137e4943.jpg         1.0"
            ],
            "text/html": [
              "\n",
              "  <div id=\"df-b3c017a0-bbdd-4382-8bb8-5224745f9ca0\">\n",
              "    <div class=\"colab-df-container\">\n",
              "      <div>\n",
              "<style scoped>\n",
              "    .dataframe tbody tr th:only-of-type {\n",
              "        vertical-align: middle;\n",
              "    }\n",
              "\n",
              "    .dataframe tbody tr th {\n",
              "        vertical-align: top;\n",
              "    }\n",
              "\n",
              "    .dataframe thead th {\n",
              "        text-align: right;\n",
              "    }\n",
              "</style>\n",
              "<table border=\"1\" class=\"dataframe\">\n",
              "  <thead>\n",
              "    <tr style=\"text-align: right;\">\n",
              "      <th></th>\n",
              "      <th>id</th>\n",
              "      <th>has_cactus</th>\n",
              "    </tr>\n",
              "  </thead>\n",
              "  <tbody>\n",
              "    <tr>\n",
              "      <th>0</th>\n",
              "      <td>000940378805c44108d287872b2f04ce.jpg</td>\n",
              "      <td>1.0</td>\n",
              "    </tr>\n",
              "    <tr>\n",
              "      <th>1</th>\n",
              "      <td>0017242f54ececa4512b4d7937d1e21e.jpg</td>\n",
              "      <td>0.0</td>\n",
              "    </tr>\n",
              "    <tr>\n",
              "      <th>2</th>\n",
              "      <td>001ee6d8564003107853118ab87df407.jpg</td>\n",
              "      <td>1.0</td>\n",
              "    </tr>\n",
              "    <tr>\n",
              "      <th>3</th>\n",
              "      <td>002e175c3c1e060769475f52182583d0.jpg</td>\n",
              "      <td>1.0</td>\n",
              "    </tr>\n",
              "    <tr>\n",
              "      <th>4</th>\n",
              "      <td>0036e44a7e8f7218e9bc7bf8137e4943.jpg</td>\n",
              "      <td>1.0</td>\n",
              "    </tr>\n",
              "  </tbody>\n",
              "</table>\n",
              "</div>\n",
              "      <button class=\"colab-df-convert\" onclick=\"convertToInteractive('df-b3c017a0-bbdd-4382-8bb8-5224745f9ca0')\"\n",
              "              title=\"Convert this dataframe to an interactive table.\"\n",
              "              style=\"display:none;\">\n",
              "        \n",
              "  <svg xmlns=\"http://www.w3.org/2000/svg\" height=\"24px\"viewBox=\"0 0 24 24\"\n",
              "       width=\"24px\">\n",
              "    <path d=\"M0 0h24v24H0V0z\" fill=\"none\"/>\n",
              "    <path d=\"M18.56 5.44l.94 2.06.94-2.06 2.06-.94-2.06-.94-.94-2.06-.94 2.06-2.06.94zm-11 1L8.5 8.5l.94-2.06 2.06-.94-2.06-.94L8.5 2.5l-.94 2.06-2.06.94zm10 10l.94 2.06.94-2.06 2.06-.94-2.06-.94-.94-2.06-.94 2.06-2.06.94z\"/><path d=\"M17.41 7.96l-1.37-1.37c-.4-.4-.92-.59-1.43-.59-.52 0-1.04.2-1.43.59L10.3 9.45l-7.72 7.72c-.78.78-.78 2.05 0 2.83L4 21.41c.39.39.9.59 1.41.59.51 0 1.02-.2 1.41-.59l7.78-7.78 2.81-2.81c.8-.78.8-2.07 0-2.86zM5.41 20L4 18.59l7.72-7.72 1.47 1.35L5.41 20z\"/>\n",
              "  </svg>\n",
              "      </button>\n",
              "      \n",
              "  <style>\n",
              "    .colab-df-container {\n",
              "      display:flex;\n",
              "      flex-wrap:wrap;\n",
              "      gap: 12px;\n",
              "    }\n",
              "\n",
              "    .colab-df-convert {\n",
              "      background-color: #E8F0FE;\n",
              "      border: none;\n",
              "      border-radius: 50%;\n",
              "      cursor: pointer;\n",
              "      display: none;\n",
              "      fill: #1967D2;\n",
              "      height: 32px;\n",
              "      padding: 0 0 0 0;\n",
              "      width: 32px;\n",
              "    }\n",
              "\n",
              "    .colab-df-convert:hover {\n",
              "      background-color: #E2EBFA;\n",
              "      box-shadow: 0px 1px 2px rgba(60, 64, 67, 0.3), 0px 1px 3px 1px rgba(60, 64, 67, 0.15);\n",
              "      fill: #174EA6;\n",
              "    }\n",
              "\n",
              "    [theme=dark] .colab-df-convert {\n",
              "      background-color: #3B4455;\n",
              "      fill: #D2E3FC;\n",
              "    }\n",
              "\n",
              "    [theme=dark] .colab-df-convert:hover {\n",
              "      background-color: #434B5C;\n",
              "      box-shadow: 0px 1px 3px 1px rgba(0, 0, 0, 0.15);\n",
              "      filter: drop-shadow(0px 1px 2px rgba(0, 0, 0, 0.3));\n",
              "      fill: #FFFFFF;\n",
              "    }\n",
              "  </style>\n",
              "\n",
              "      <script>\n",
              "        const buttonEl =\n",
              "          document.querySelector('#df-b3c017a0-bbdd-4382-8bb8-5224745f9ca0 button.colab-df-convert');\n",
              "        buttonEl.style.display =\n",
              "          google.colab.kernel.accessAllowed ? 'block' : 'none';\n",
              "\n",
              "        async function convertToInteractive(key) {\n",
              "          const element = document.querySelector('#df-b3c017a0-bbdd-4382-8bb8-5224745f9ca0');\n",
              "          const dataTable =\n",
              "            await google.colab.kernel.invokeFunction('convertToInteractive',\n",
              "                                                     [key], {});\n",
              "          if (!dataTable) return;\n",
              "\n",
              "          const docLinkHtml = 'Like what you see? Visit the ' +\n",
              "            '<a target=\"_blank\" href=https://colab.research.google.com/notebooks/data_table.ipynb>data table notebook</a>'\n",
              "            + ' to learn more about interactive tables.';\n",
              "          element.innerHTML = '';\n",
              "          dataTable['output_type'] = 'display_data';\n",
              "          await google.colab.output.renderOutput(dataTable, element);\n",
              "          const docLink = document.createElement('div');\n",
              "          docLink.innerHTML = docLinkHtml;\n",
              "          element.appendChild(docLink);\n",
              "        }\n",
              "      </script>\n",
              "    </div>\n",
              "  </div>\n",
              "  "
            ]
          },
          "metadata": {},
          "execution_count": 130
        }
      ]
    },
    {
      "cell_type": "code",
      "source": [
        "submission.to_csv('submission.csv')"
      ],
      "metadata": {
        "id": "LiHVr5WYGncI"
      },
      "execution_count": null,
      "outputs": []
    },
    {
      "cell_type": "code",
      "source": [],
      "metadata": {
        "id": "CR0E8gEcG4Tj"
      },
      "execution_count": null,
      "outputs": []
    }
  ]
}