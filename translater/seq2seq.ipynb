{
  "cells": [
    {
      "cell_type": "markdown",
      "metadata": {
        "id": "view-in-github",
        "colab_type": "text"
      },
      "source": [
        "<a href=\"https://colab.research.google.com/github/dbtmddn41/deep_learning/blob/main/seq2seq.ipynb\" target=\"_parent\"><img src=\"https://colab.research.google.com/assets/colab-badge.svg\" alt=\"Open In Colab\"/></a>"
      ]
    },
    {
      "cell_type": "code",
      "execution_count": null,
      "metadata": {
        "id": "8rZ-X-detKGU"
      },
      "outputs": [],
      "source": [
        "import tensorflow as tf\n",
        "from tensorflow import keras\n",
        "from keras import layers\n",
        "from keras.layers import TextVectorization\n"
      ]
    },
    {
      "cell_type": "code",
      "execution_count": null,
      "metadata": {
        "colab": {
          "base_uri": "https://localhost:8080/"
        },
        "id": "rtyGnBKyuuoQ",
        "outputId": "e641f7db-5e3b-4a3d-cc72-6135b0d18c23"
      },
      "outputs": [
        {
          "output_type": "stream",
          "name": "stdout",
          "text": [
            "Looking in indexes: https://pypi.org/simple, https://us-python.pkg.dev/colab-wheels/public/simple/\n",
            "Collecting konlpy\n",
            "  Downloading konlpy-0.6.0-py2.py3-none-any.whl (19.4 MB)\n",
            "\u001b[2K     \u001b[90m━━━━━━━━━━━━━━━━━━━━━━━━━━━━━━━━━━━━━━━━\u001b[0m \u001b[32m19.4/19.4 MB\u001b[0m \u001b[31m60.2 MB/s\u001b[0m eta \u001b[36m0:00:00\u001b[0m\n",
            "\u001b[?25hCollecting JPype1>=0.7.0 (from konlpy)\n",
            "  Downloading JPype1-1.4.1-cp310-cp310-manylinux_2_12_x86_64.manylinux2010_x86_64.whl (465 kB)\n",
            "\u001b[2K     \u001b[90m━━━━━━━━━━━━━━━━━━━━━━━━━━━━━━━━━━━━━━\u001b[0m \u001b[32m465.3/465.3 kB\u001b[0m \u001b[31m45.1 MB/s\u001b[0m eta \u001b[36m0:00:00\u001b[0m\n",
            "\u001b[?25hRequirement already satisfied: lxml>=4.1.0 in /usr/local/lib/python3.10/dist-packages (from konlpy) (4.9.2)\n",
            "Requirement already satisfied: numpy>=1.6 in /usr/local/lib/python3.10/dist-packages (from konlpy) (1.22.4)\n",
            "Requirement already satisfied: packaging in /usr/local/lib/python3.10/dist-packages (from JPype1>=0.7.0->konlpy) (23.1)\n",
            "Installing collected packages: JPype1, konlpy\n",
            "Successfully installed JPype1-1.4.1 konlpy-0.6.0\n"
          ]
        }
      ],
      "source": [
        "!pip install konlpy\n",
        "\n",
        "from konlpy.tag import Okt"
      ]
    },
    {
      "cell_type": "code",
      "execution_count": null,
      "metadata": {
        "colab": {
          "base_uri": "https://localhost:8080/"
        },
        "id": "GYi1U3Eyz7r5",
        "outputId": "5fe719a9-6f0e-480a-d1a5-740a525c4922"
      },
      "outputs": [
        {
          "output_type": "execute_result",
          "data": {
            "text/plain": [
              "['안녕', '나', '는', '승우', '라고', '해', '.']"
            ]
          },
          "metadata": {},
          "execution_count": 3
        }
      ],
      "source": [
        "okt = Okt()\n",
        "\n",
        "okt.morphs(\"안녕 나는 승우라고 해.\")"
      ]
    },
    {
      "cell_type": "code",
      "execution_count": null,
      "metadata": {
        "id": "DQ9_iYnj9I_Z"
      },
      "outputs": [],
      "source": [
        "# class Vectorizer:\n",
        "#     def __init__(self):\n",
        "#         self.okt = Okt()\n",
        "#     def tokenize(self, text):\n",
        "#         return self.okt.morphs(text)\n",
        "#     def make_vocabulary(self, dataset):\n",
        "#         self.vocabulary = {\"\": 0, \"[UNK]\": 1}\n",
        "#         for text in dataset:\n",
        "#             tokens = self.tokenize(text)\n",
        "#             for token in tokens:\n",
        "#                 if token not in self.vocabulary:\n",
        "#                     self.vocabulary\n"
      ]
    },
    {
      "cell_type": "code",
      "execution_count": null,
      "metadata": {
        "id": "v-J9uPSh8Uvo"
      },
      "outputs": [],
      "source": []
    },
    {
      "cell_type": "code",
      "execution_count": null,
      "metadata": {
        "colab": {
          "base_uri": "https://localhost:8080/"
        },
        "id": "U2Qzqhyw3rDP",
        "outputId": "4cb01834-dbdc-460b-8b0c-c6c9fa0e43c9"
      },
      "outputs": [
        {
          "name": "stdout",
          "output_type": "stream",
          "text": [
            "True\n"
          ]
        }
      ],
      "source": []
    },
    {
      "cell_type": "code",
      "execution_count": null,
      "metadata": {
        "colab": {
          "base_uri": "https://localhost:8080/"
        },
        "id": "uafQ0zPBmm1R",
        "outputId": "05c13a03-322c-4270-ace0-01fc5f5f2f7f"
      },
      "outputs": [
        {
          "name": "stdout",
          "output_type": "stream",
          "text": [
            "['', '[UNK]', '형', '이', '우야', '안녕', '씨발', '승', '반가워', '만나서', '는', '나도', '나']\n",
            "tf.Tensor([ 5 12 10  1  1  1], shape=(6,), dtype=int64)\n",
            "안녕 나 는 [UNK] [UNK] [UNK]\n"
          ]
        }
      ],
      "source": [
        "max_length = 600\n",
        "max_tokens = 20000\n",
        "\n",
        "okt = Okt()\n",
        "\n",
        "def okt_split(str_tensor):\n",
        "    string = okt.morphs(str_tensor.numpy())\n",
        "    return tf.constant(string)\n",
        "\n",
        "\n",
        "text_vectorization = TextVectorization(output_mode=\"int\")\n",
        "\n",
        "ex_dataset = [\"안녕 나는 승우야.\" , \"만나서 반가워\", \"나도\", \"이 씨발 형!\"]\n",
        "' '.join(okt.morphs(ex_dataset[0]))\n",
        "\n",
        "ex_dataset = list(map(lambda x: ' '.join(okt.morphs(x)), ex_dataset))\n",
        "\n",
        "text_vectorization.adapt(ex_dataset)\n",
        "\n",
        "vocabs = text_vectorization.get_vocabulary()\n",
        "print(vocabs)\n",
        "encoded_sentence = text_vectorization(\"안녕 , 나 는 조 씨 야 .\")\n",
        "print(encoded_sentence)\n",
        "inversed_vocabs = dict(enumerate(vocabs))\n",
        "decoded_sentence = ' '.join([inversed_vocabs[int(word)] for word in encoded_sentence])\n",
        "print(decoded_sentence)"
      ]
    },
    {
      "cell_type": "markdown",
      "metadata": {
        "id": "REOqnBC3A1Xs"
      },
      "source": [
        "# 데이터 준비하기"
      ]
    },
    {
      "cell_type": "code",
      "execution_count": null,
      "metadata": {
        "id": "NG6v_RFYttPo"
      },
      "outputs": [],
      "source": [
        "import os\n",
        "import pandas as pd\n",
        "from sklearn.model_selection import train_test_split\n",
        "from multiprocessing import Pool\n",
        "from tqdm import tqdm"
      ]
    },
    {
      "cell_type": "markdown",
      "source": [
        "### 원본 데이터 가공"
      ],
      "metadata": {
        "id": "jiFl0yrVvAva"
      }
    },
    {
      "cell_type": "code",
      "execution_count": null,
      "metadata": {
        "id": "Oh8DomGG_wmC",
        "colab": {
          "base_uri": "https://localhost:8080/"
        },
        "outputId": "07b0ca85-5a4e-404a-fe57-c99407627737"
      },
      "outputs": [
        {
          "output_type": "stream",
          "name": "stdout",
          "text": [
            "[(0, '1_구어체(1)'), (1, '1_구어체(2)'), (2, '2_대화체'), (3, '3_문어체_뉴스(1)_200226'), (4, '3_문어체_뉴스(2)'), (5, '3_문어체_뉴스(3)'), (6, '3_문어체_뉴스(4)'), (7, '4_문어체_한국문화'), (8, '5_문어체_조례'), (9, '6_문어체_지자체웹사이트'), (10, 'rnn_translate'), (11, 'translate')]\n"
          ]
        }
      ],
      "source": [
        "dataset_names = []\n",
        "\n",
        "filenames = os.listdir(\".\")\n",
        "for filename in filenames:\n",
        "    name, ext = os.path.splitext(filename)\n",
        "    if ext == '.xlsx':\n",
        "        dataset_names.append(name)\n",
        "dataset_names.sort()\n",
        "print(list(zip(range(len(dataset_names)), dataset_names)))\n",
        "\n",
        "#['1_구어체(1)', '1_구어체(2)', '6_문어체_지자체웹사이트', '3_문어체_뉴스(1)_200226', '3_문어체_뉴스(3)', '3_문어체_뉴스(4)', '2_대화체', '4_문어체_한국문화', '3_문어체_뉴스(2)', '5_문어체_조례']"
      ]
    },
    {
      "cell_type": "code",
      "source": [
        "order = [0, 1, 9,3,5,6,2,7,4,8]\n",
        "dataset__ = [0 for _ in range(len(order))]\n",
        "for i in range(len(order)):\n",
        "    dataset__[i] = dataset_names[order[i]]\n",
        "\n",
        "dataset_names = dataset__\n",
        "print(dataset_names)"
      ],
      "metadata": {
        "colab": {
          "base_uri": "https://localhost:8080/"
        },
        "id": "p320SQy1BWLf",
        "outputId": "263fb6a5-d47a-4526-c30b-c04a976cdad0"
      },
      "execution_count": null,
      "outputs": [
        {
          "output_type": "stream",
          "name": "stdout",
          "text": [
            "['1_구어체(1)', '1_구어체(2)', '6_문어체_지자체웹사이트', '3_문어체_뉴스(1)_200226', '3_문어체_뉴스(3)', '3_문어체_뉴스(4)', '2_대화체', '4_문어체_한국문화', '3_문어체_뉴스(2)', '5_문어체_조례']\n"
          ]
        }
      ]
    },
    {
      "cell_type": "code",
      "execution_count": null,
      "metadata": {
        "colab": {
          "base_uri": "https://localhost:8080/"
        },
        "id": "VjLYyGptB7ct",
        "outputId": "71670eaa-cf6d-41da-f3df-2b624b4440a7"
      },
      "outputs": [
        {
          "output_type": "stream",
          "name": "stderr",
          "text": [
            "진행률:  10%|█         | 1/10 [00:14<02:14, 14.91s/it]/usr/local/lib/python3.10/dist-packages/openpyxl/styles/stylesheet.py:226: UserWarning: Workbook contains no default style, apply openpyxl's default\n",
            "  warn(\"Workbook contains no default style, apply openpyxl's default\")\n",
            "진행률:  20%|██        | 2/10 [00:29<01:58, 14.80s/it]/usr/local/lib/python3.10/dist-packages/openpyxl/styles/stylesheet.py:226: UserWarning: Workbook contains no default style, apply openpyxl's default\n",
            "  warn(\"Workbook contains no default style, apply openpyxl's default\")\n",
            "진행률:  70%|███████   | 7/10 [02:20<01:02, 20.84s/it]/usr/local/lib/python3.10/dist-packages/openpyxl/styles/stylesheet.py:226: UserWarning: Workbook contains no default style, apply openpyxl's default\n",
            "  warn(\"Workbook contains no default style, apply openpyxl's default\")\n",
            "진행률:  90%|█████████ | 9/10 [02:59<00:21, 21.16s/it]/usr/local/lib/python3.10/dist-packages/openpyxl/styles/stylesheet.py:226: UserWarning: Workbook contains no default style, apply openpyxl's default\n",
            "  warn(\"Workbook contains no default style, apply openpyxl's default\")\n",
            "진행률: 100%|██████████| 10/10 [03:08<00:00, 18.85s/it]\n"
          ]
        }
      ],
      "source": [
        "train_data = pd.DataFrame({'원문':[], '번역문':[]})\n",
        "val_data = pd.DataFrame({'원문':[], '번역문':[]})\n",
        "test_data = pd.DataFrame({'원문':[], '번역문':[]})\n",
        "for name in tqdm(dataset_names, desc=\"진행률\"):\n",
        "    datas = pd.read_excel(name+'.xlsx')\n",
        "    datas = datas[[\"원문\", \"번역문\"]]\n",
        "    # train, tmp = train_test_split(datas, train_size=0.1, test_size=0.1, random_state=42, shuffle=True)\n",
        "    train, tmp = train_test_split(datas, train_size=0.8, random_state=42, shuffle=True)\n",
        "    # val, test = train_test_split(tmp, train_size=0.5, random_state=42, shuffle=True)\n",
        "    val, test = train_test_split(tmp, train_size=0.999, random_state=42, shuffle=True)\n",
        "\n",
        "    train_data = pd.concat([train_data, train], ignore_index=True)\n",
        "    val_data = pd.concat([val_data, val], ignore_index=True)\n",
        "    test_data = pd.concat([test_data, test], ignore_index=True)"
      ]
    },
    {
      "cell_type": "code",
      "source": [
        "print(len(train_data), len(val_data), len(test_data))\n",
        "train_size = len(train_data)\n",
        "val_size = len(val_data)\n",
        "test_size = len(test_data)"
      ],
      "metadata": {
        "colab": {
          "base_uri": "https://localhost:8080/"
        },
        "id": "d6MtLE-ei0iy",
        "outputId": "68b34028-10a8-48a8-8f4c-d25637003b3c"
      },
      "execution_count": null,
      "outputs": [
        {
          "output_type": "stream",
          "name": "stdout",
          "text": [
            "1281931 320161 326\n"
          ]
        }
      ]
    },
    {
      "cell_type": "code",
      "execution_count": null,
      "metadata": {
        "colab": {
          "base_uri": "https://localhost:8080/",
          "height": 206
        },
        "id": "5K38q44lCE1S",
        "outputId": "9f76caea-df32-4301-836f-9da8b646f486"
      },
      "outputs": [
        {
          "output_type": "execute_result",
          "data": {
            "text/plain": [
              "                                                        원문  \\\n",
              "1281926  냉장고, 계산대(뒷공간 포함), 진열장, 현금지급기, 에어컨, 식음대 등의 면적은 ...   \n",
              "1281927  제49조의 규정에 따른 관사 중 다음 각 호의 어느 하나에 해당하는 경우에는 사용료...   \n",
              "1281928  공공기관의 장은 특별한 이유가 없는 한 동일한 노동에 대해서는 무기계약근로자와 기간...   \n",
              "1281929                정신보건사업에 관한 사항(노원정신건강복지센터 등 관리 및 운영)   \n",
              "1281930  “수익자부담경비”란 수업료, 입학금 외에 학교운영위원회의 심의를 거쳐 학부모가 부담...   \n",
              "\n",
              "                                                       번역문  \n",
              "1281926  The space for the refrigerator, cash register ...  \n",
              "1281927  The full amount of fees may be exempted where ...  \n",
              "1281928  The head of a public agency shall endeavor to ...  \n",
              "1281929  Matters concerning mental health services (suc...  \n",
              "1281930  The term \"expenses borne by beneficiaries\" mea...  "
            ],
            "text/html": [
              "\n",
              "  <div id=\"df-60afec9d-0e93-4692-88a1-6a1ae8ff46d2\">\n",
              "    <div class=\"colab-df-container\">\n",
              "      <div>\n",
              "<style scoped>\n",
              "    .dataframe tbody tr th:only-of-type {\n",
              "        vertical-align: middle;\n",
              "    }\n",
              "\n",
              "    .dataframe tbody tr th {\n",
              "        vertical-align: top;\n",
              "    }\n",
              "\n",
              "    .dataframe thead th {\n",
              "        text-align: right;\n",
              "    }\n",
              "</style>\n",
              "<table border=\"1\" class=\"dataframe\">\n",
              "  <thead>\n",
              "    <tr style=\"text-align: right;\">\n",
              "      <th></th>\n",
              "      <th>원문</th>\n",
              "      <th>번역문</th>\n",
              "    </tr>\n",
              "  </thead>\n",
              "  <tbody>\n",
              "    <tr>\n",
              "      <th>1281926</th>\n",
              "      <td>냉장고, 계산대(뒷공간 포함), 진열장, 현금지급기, 에어컨, 식음대 등의 면적은 ...</td>\n",
              "      <td>The space for the refrigerator, cash register ...</td>\n",
              "    </tr>\n",
              "    <tr>\n",
              "      <th>1281927</th>\n",
              "      <td>제49조의 규정에 따른 관사 중 다음 각 호의 어느 하나에 해당하는 경우에는 사용료...</td>\n",
              "      <td>The full amount of fees may be exempted where ...</td>\n",
              "    </tr>\n",
              "    <tr>\n",
              "      <th>1281928</th>\n",
              "      <td>공공기관의 장은 특별한 이유가 없는 한 동일한 노동에 대해서는 무기계약근로자와 기간...</td>\n",
              "      <td>The head of a public agency shall endeavor to ...</td>\n",
              "    </tr>\n",
              "    <tr>\n",
              "      <th>1281929</th>\n",
              "      <td>정신보건사업에 관한 사항(노원정신건강복지센터 등 관리 및 운영)</td>\n",
              "      <td>Matters concerning mental health services (suc...</td>\n",
              "    </tr>\n",
              "    <tr>\n",
              "      <th>1281930</th>\n",
              "      <td>“수익자부담경비”란 수업료, 입학금 외에 학교운영위원회의 심의를 거쳐 학부모가 부담...</td>\n",
              "      <td>The term \"expenses borne by beneficiaries\" mea...</td>\n",
              "    </tr>\n",
              "  </tbody>\n",
              "</table>\n",
              "</div>\n",
              "      <button class=\"colab-df-convert\" onclick=\"convertToInteractive('df-60afec9d-0e93-4692-88a1-6a1ae8ff46d2')\"\n",
              "              title=\"Convert this dataframe to an interactive table.\"\n",
              "              style=\"display:none;\">\n",
              "        \n",
              "  <svg xmlns=\"http://www.w3.org/2000/svg\" height=\"24px\"viewBox=\"0 0 24 24\"\n",
              "       width=\"24px\">\n",
              "    <path d=\"M0 0h24v24H0V0z\" fill=\"none\"/>\n",
              "    <path d=\"M18.56 5.44l.94 2.06.94-2.06 2.06-.94-2.06-.94-.94-2.06-.94 2.06-2.06.94zm-11 1L8.5 8.5l.94-2.06 2.06-.94-2.06-.94L8.5 2.5l-.94 2.06-2.06.94zm10 10l.94 2.06.94-2.06 2.06-.94-2.06-.94-.94-2.06-.94 2.06-2.06.94z\"/><path d=\"M17.41 7.96l-1.37-1.37c-.4-.4-.92-.59-1.43-.59-.52 0-1.04.2-1.43.59L10.3 9.45l-7.72 7.72c-.78.78-.78 2.05 0 2.83L4 21.41c.39.39.9.59 1.41.59.51 0 1.02-.2 1.41-.59l7.78-7.78 2.81-2.81c.8-.78.8-2.07 0-2.86zM5.41 20L4 18.59l7.72-7.72 1.47 1.35L5.41 20z\"/>\n",
              "  </svg>\n",
              "      </button>\n",
              "      \n",
              "  <style>\n",
              "    .colab-df-container {\n",
              "      display:flex;\n",
              "      flex-wrap:wrap;\n",
              "      gap: 12px;\n",
              "    }\n",
              "\n",
              "    .colab-df-convert {\n",
              "      background-color: #E8F0FE;\n",
              "      border: none;\n",
              "      border-radius: 50%;\n",
              "      cursor: pointer;\n",
              "      display: none;\n",
              "      fill: #1967D2;\n",
              "      height: 32px;\n",
              "      padding: 0 0 0 0;\n",
              "      width: 32px;\n",
              "    }\n",
              "\n",
              "    .colab-df-convert:hover {\n",
              "      background-color: #E2EBFA;\n",
              "      box-shadow: 0px 1px 2px rgba(60, 64, 67, 0.3), 0px 1px 3px 1px rgba(60, 64, 67, 0.15);\n",
              "      fill: #174EA6;\n",
              "    }\n",
              "\n",
              "    [theme=dark] .colab-df-convert {\n",
              "      background-color: #3B4455;\n",
              "      fill: #D2E3FC;\n",
              "    }\n",
              "\n",
              "    [theme=dark] .colab-df-convert:hover {\n",
              "      background-color: #434B5C;\n",
              "      box-shadow: 0px 1px 3px 1px rgba(0, 0, 0, 0.15);\n",
              "      filter: drop-shadow(0px 1px 2px rgba(0, 0, 0, 0.3));\n",
              "      fill: #FFFFFF;\n",
              "    }\n",
              "  </style>\n",
              "\n",
              "      <script>\n",
              "        const buttonEl =\n",
              "          document.querySelector('#df-60afec9d-0e93-4692-88a1-6a1ae8ff46d2 button.colab-df-convert');\n",
              "        buttonEl.style.display =\n",
              "          google.colab.kernel.accessAllowed ? 'block' : 'none';\n",
              "\n",
              "        async function convertToInteractive(key) {\n",
              "          const element = document.querySelector('#df-60afec9d-0e93-4692-88a1-6a1ae8ff46d2');\n",
              "          const dataTable =\n",
              "            await google.colab.kernel.invokeFunction('convertToInteractive',\n",
              "                                                     [key], {});\n",
              "          if (!dataTable) return;\n",
              "\n",
              "          const docLinkHtml = 'Like what you see? Visit the ' +\n",
              "            '<a target=\"_blank\" href=https://colab.research.google.com/notebooks/data_table.ipynb>data table notebook</a>'\n",
              "            + ' to learn more about interactive tables.';\n",
              "          element.innerHTML = '';\n",
              "          dataTable['output_type'] = 'display_data';\n",
              "          await google.colab.output.renderOutput(dataTable, element);\n",
              "          const docLink = document.createElement('div');\n",
              "          docLink.innerHTML = docLinkHtml;\n",
              "          element.appendChild(docLink);\n",
              "        }\n",
              "      </script>\n",
              "    </div>\n",
              "  </div>\n",
              "  "
            ]
          },
          "metadata": {},
          "execution_count": 60
        }
      ],
      "source": [
        "train_data.tail()"
      ]
    },
    {
      "cell_type": "code",
      "execution_count": null,
      "metadata": {
        "id": "R6p-QpemQkua"
      },
      "outputs": [],
      "source": [
        "import re\n",
        "import string"
      ]
    },
    {
      "cell_type": "code",
      "execution_count": null,
      "metadata": {
        "colab": {
          "base_uri": "https://localhost:8080/",
          "height": 432
        },
        "id": "Zh8LSOKbFkUO",
        "outputId": "0a3b8d13-0411-43d6-ca4f-3930b0d1dc99"
      },
      "outputs": [
        {
          "name": "stderr",
          "output_type": "stream",
          "text": [
            "100%|██████████| 320161/320161 [22:38<00:00, 235.71it/s]\n",
            "100%|██████████| 326/326 [00:01<00:00, 231.21it/s]\n"
          ]
        },
        {
          "name": "stdout",
          "output_type": "stream",
          "text": [
            "144\n"
          ]
        },
        {
          "ename": "KeyboardInterrupt",
          "evalue": "ignored",
          "output_type": "error",
          "traceback": [
            "\u001b[0;31m---------------------------------------------------------------------------\u001b[0m",
            "\u001b[0;31mKeyboardInterrupt\u001b[0m                         Traceback (most recent call last)",
            "\u001b[0;32m<ipython-input-11-fcf839bcd39b>\u001b[0m in \u001b[0;36m<cell line: 39>\u001b[0;34m()\u001b[0m\n\u001b[1;32m     37\u001b[0m \u001b[0;34m\u001b[0m\u001b[0m\n\u001b[1;32m     38\u001b[0m \u001b[0mkorean_vectorization\u001b[0m\u001b[0;34m.\u001b[0m\u001b[0madapt\u001b[0m\u001b[0;34m(\u001b[0m\u001b[0mtrain_korean_data\u001b[0m\u001b[0;34m)\u001b[0m\u001b[0;34m\u001b[0m\u001b[0;34m\u001b[0m\u001b[0m\n\u001b[0;32m---> 39\u001b[0;31m \u001b[0menglish_vectorization\u001b[0m\u001b[0;34m.\u001b[0m\u001b[0madapt\u001b[0m\u001b[0;34m(\u001b[0m\u001b[0mtrain_english_data\u001b[0m\u001b[0;34m)\u001b[0m\u001b[0;34m\u001b[0m\u001b[0;34m\u001b[0m\u001b[0m\n\u001b[0m",
            "\u001b[0;32m/usr/local/lib/python3.10/dist-packages/keras/layers/preprocessing/text_vectorization.py\u001b[0m in \u001b[0;36madapt\u001b[0;34m(self, data, batch_size, steps)\u001b[0m\n\u001b[1;32m    470\u001b[0m               \u001b[0margument\u001b[0m \u001b[0;32mis\u001b[0m \u001b[0;32mnot\u001b[0m \u001b[0msupported\u001b[0m \u001b[0;32mwith\u001b[0m \u001b[0marray\u001b[0m \u001b[0minputs\u001b[0m\u001b[0;34m.\u001b[0m\u001b[0;34m\u001b[0m\u001b[0;34m\u001b[0m\u001b[0m\n\u001b[1;32m    471\u001b[0m         \"\"\"\n\u001b[0;32m--> 472\u001b[0;31m         \u001b[0msuper\u001b[0m\u001b[0;34m(\u001b[0m\u001b[0;34m)\u001b[0m\u001b[0;34m.\u001b[0m\u001b[0madapt\u001b[0m\u001b[0;34m(\u001b[0m\u001b[0mdata\u001b[0m\u001b[0;34m,\u001b[0m \u001b[0mbatch_size\u001b[0m\u001b[0;34m=\u001b[0m\u001b[0mbatch_size\u001b[0m\u001b[0;34m,\u001b[0m \u001b[0msteps\u001b[0m\u001b[0;34m=\u001b[0m\u001b[0msteps\u001b[0m\u001b[0;34m)\u001b[0m\u001b[0;34m\u001b[0m\u001b[0;34m\u001b[0m\u001b[0m\n\u001b[0m\u001b[1;32m    473\u001b[0m \u001b[0;34m\u001b[0m\u001b[0m\n\u001b[1;32m    474\u001b[0m     \u001b[0;32mdef\u001b[0m \u001b[0mupdate_state\u001b[0m\u001b[0;34m(\u001b[0m\u001b[0mself\u001b[0m\u001b[0;34m,\u001b[0m \u001b[0mdata\u001b[0m\u001b[0;34m)\u001b[0m\u001b[0;34m:\u001b[0m\u001b[0;34m\u001b[0m\u001b[0;34m\u001b[0m\u001b[0m\n",
            "\u001b[0;32m/usr/local/lib/python3.10/dist-packages/keras/engine/base_preprocessing_layer.py\u001b[0m in \u001b[0;36madapt\u001b[0;34m(self, data, batch_size, steps)\u001b[0m\n\u001b[1;32m    256\u001b[0m             \u001b[0;32mwith\u001b[0m \u001b[0mdata_handler\u001b[0m\u001b[0;34m.\u001b[0m\u001b[0mcatch_stop_iteration\u001b[0m\u001b[0;34m(\u001b[0m\u001b[0;34m)\u001b[0m\u001b[0;34m:\u001b[0m\u001b[0;34m\u001b[0m\u001b[0;34m\u001b[0m\u001b[0m\n\u001b[1;32m    257\u001b[0m                 \u001b[0;32mfor\u001b[0m \u001b[0m_\u001b[0m \u001b[0;32min\u001b[0m \u001b[0mdata_handler\u001b[0m\u001b[0;34m.\u001b[0m\u001b[0msteps\u001b[0m\u001b[0;34m(\u001b[0m\u001b[0;34m)\u001b[0m\u001b[0;34m:\u001b[0m\u001b[0;34m\u001b[0m\u001b[0;34m\u001b[0m\u001b[0m\n\u001b[0;32m--> 258\u001b[0;31m                     \u001b[0mself\u001b[0m\u001b[0;34m.\u001b[0m\u001b[0m_adapt_function\u001b[0m\u001b[0;34m(\u001b[0m\u001b[0miterator\u001b[0m\u001b[0;34m)\u001b[0m\u001b[0;34m\u001b[0m\u001b[0;34m\u001b[0m\u001b[0m\n\u001b[0m\u001b[1;32m    259\u001b[0m                     \u001b[0;32mif\u001b[0m \u001b[0mdata_handler\u001b[0m\u001b[0;34m.\u001b[0m\u001b[0mshould_sync\u001b[0m\u001b[0;34m:\u001b[0m\u001b[0;34m\u001b[0m\u001b[0;34m\u001b[0m\u001b[0m\n\u001b[1;32m    260\u001b[0m                         \u001b[0mcontext\u001b[0m\u001b[0;34m.\u001b[0m\u001b[0masync_wait\u001b[0m\u001b[0;34m(\u001b[0m\u001b[0;34m)\u001b[0m\u001b[0;34m\u001b[0m\u001b[0;34m\u001b[0m\u001b[0m\n",
            "\u001b[0;32m/usr/local/lib/python3.10/dist-packages/tensorflow/python/util/traceback_utils.py\u001b[0m in \u001b[0;36merror_handler\u001b[0;34m(*args, **kwargs)\u001b[0m\n\u001b[1;32m    148\u001b[0m     \u001b[0mfiltered_tb\u001b[0m \u001b[0;34m=\u001b[0m \u001b[0;32mNone\u001b[0m\u001b[0;34m\u001b[0m\u001b[0;34m\u001b[0m\u001b[0m\n\u001b[1;32m    149\u001b[0m     \u001b[0;32mtry\u001b[0m\u001b[0;34m:\u001b[0m\u001b[0;34m\u001b[0m\u001b[0;34m\u001b[0m\u001b[0m\n\u001b[0;32m--> 150\u001b[0;31m       \u001b[0;32mreturn\u001b[0m \u001b[0mfn\u001b[0m\u001b[0;34m(\u001b[0m\u001b[0;34m*\u001b[0m\u001b[0margs\u001b[0m\u001b[0;34m,\u001b[0m \u001b[0;34m**\u001b[0m\u001b[0mkwargs\u001b[0m\u001b[0;34m)\u001b[0m\u001b[0;34m\u001b[0m\u001b[0;34m\u001b[0m\u001b[0m\n\u001b[0m\u001b[1;32m    151\u001b[0m     \u001b[0;32mexcept\u001b[0m \u001b[0mException\u001b[0m \u001b[0;32mas\u001b[0m \u001b[0me\u001b[0m\u001b[0;34m:\u001b[0m\u001b[0;34m\u001b[0m\u001b[0;34m\u001b[0m\u001b[0m\n\u001b[1;32m    152\u001b[0m       \u001b[0mfiltered_tb\u001b[0m \u001b[0;34m=\u001b[0m \u001b[0m_process_traceback_frames\u001b[0m\u001b[0;34m(\u001b[0m\u001b[0me\u001b[0m\u001b[0;34m.\u001b[0m\u001b[0m__traceback__\u001b[0m\u001b[0;34m)\u001b[0m\u001b[0;34m\u001b[0m\u001b[0;34m\u001b[0m\u001b[0m\n",
            "\u001b[0;32m/usr/local/lib/python3.10/dist-packages/tensorflow/python/eager/polymorphic_function/polymorphic_function.py\u001b[0m in \u001b[0;36m__call__\u001b[0;34m(self, *args, **kwds)\u001b[0m\n\u001b[1;32m    892\u001b[0m \u001b[0;34m\u001b[0m\u001b[0m\n\u001b[1;32m    893\u001b[0m       \u001b[0;32mwith\u001b[0m \u001b[0mOptionalXlaContext\u001b[0m\u001b[0;34m(\u001b[0m\u001b[0mself\u001b[0m\u001b[0;34m.\u001b[0m\u001b[0m_jit_compile\u001b[0m\u001b[0;34m)\u001b[0m\u001b[0;34m:\u001b[0m\u001b[0;34m\u001b[0m\u001b[0;34m\u001b[0m\u001b[0m\n\u001b[0;32m--> 894\u001b[0;31m         \u001b[0mresult\u001b[0m \u001b[0;34m=\u001b[0m \u001b[0mself\u001b[0m\u001b[0;34m.\u001b[0m\u001b[0m_call\u001b[0m\u001b[0;34m(\u001b[0m\u001b[0;34m*\u001b[0m\u001b[0margs\u001b[0m\u001b[0;34m,\u001b[0m \u001b[0;34m**\u001b[0m\u001b[0mkwds\u001b[0m\u001b[0;34m)\u001b[0m\u001b[0;34m\u001b[0m\u001b[0;34m\u001b[0m\u001b[0m\n\u001b[0m\u001b[1;32m    895\u001b[0m \u001b[0;34m\u001b[0m\u001b[0m\n\u001b[1;32m    896\u001b[0m       \u001b[0mnew_tracing_count\u001b[0m \u001b[0;34m=\u001b[0m \u001b[0mself\u001b[0m\u001b[0;34m.\u001b[0m\u001b[0mexperimental_get_tracing_count\u001b[0m\u001b[0;34m(\u001b[0m\u001b[0;34m)\u001b[0m\u001b[0;34m\u001b[0m\u001b[0;34m\u001b[0m\u001b[0m\n",
            "\u001b[0;32m/usr/local/lib/python3.10/dist-packages/tensorflow/python/eager/polymorphic_function/polymorphic_function.py\u001b[0m in \u001b[0;36m_call\u001b[0;34m(self, *args, **kwds)\u001b[0m\n\u001b[1;32m    931\u001b[0m       \u001b[0;31m# In this case we have not created variables on the first call. So we can\u001b[0m\u001b[0;34m\u001b[0m\u001b[0;34m\u001b[0m\u001b[0m\n\u001b[1;32m    932\u001b[0m       \u001b[0;31m# run the first trace but we should fail if variables are created.\u001b[0m\u001b[0;34m\u001b[0m\u001b[0;34m\u001b[0m\u001b[0m\n\u001b[0;32m--> 933\u001b[0;31m       \u001b[0mresults\u001b[0m \u001b[0;34m=\u001b[0m \u001b[0mself\u001b[0m\u001b[0;34m.\u001b[0m\u001b[0m_variable_creation_fn\u001b[0m\u001b[0;34m(\u001b[0m\u001b[0;34m*\u001b[0m\u001b[0margs\u001b[0m\u001b[0;34m,\u001b[0m \u001b[0;34m**\u001b[0m\u001b[0mkwds\u001b[0m\u001b[0;34m)\u001b[0m\u001b[0;34m\u001b[0m\u001b[0;34m\u001b[0m\u001b[0m\n\u001b[0m\u001b[1;32m    934\u001b[0m       \u001b[0;32mif\u001b[0m \u001b[0mself\u001b[0m\u001b[0;34m.\u001b[0m\u001b[0m_created_variables\u001b[0m \u001b[0;32mand\u001b[0m \u001b[0;32mnot\u001b[0m \u001b[0mALLOW_DYNAMIC_VARIABLE_CREATION\u001b[0m\u001b[0;34m:\u001b[0m\u001b[0;34m\u001b[0m\u001b[0;34m\u001b[0m\u001b[0m\n\u001b[1;32m    935\u001b[0m         raise ValueError(\"Creating variables on a non-first call to a function\"\n",
            "\u001b[0;32m/usr/local/lib/python3.10/dist-packages/tensorflow/python/eager/polymorphic_function/tracing_compiler.py\u001b[0m in \u001b[0;36m__call__\u001b[0;34m(self, *args, **kwargs)\u001b[0m\n\u001b[1;32m    141\u001b[0m       (concrete_function,\n\u001b[1;32m    142\u001b[0m        filtered_flat_args) = self._maybe_define_function(args, kwargs)\n\u001b[0;32m--> 143\u001b[0;31m     return concrete_function._call_flat(\n\u001b[0m\u001b[1;32m    144\u001b[0m         filtered_flat_args, captured_inputs=concrete_function.captured_inputs)  # pylint: disable=protected-access\n\u001b[1;32m    145\u001b[0m \u001b[0;34m\u001b[0m\u001b[0m\n",
            "\u001b[0;32m/usr/local/lib/python3.10/dist-packages/tensorflow/python/eager/polymorphic_function/monomorphic_function.py\u001b[0m in \u001b[0;36m_call_flat\u001b[0;34m(self, args, captured_inputs, cancellation_manager)\u001b[0m\n\u001b[1;32m   1755\u001b[0m         and executing_eagerly):\n\u001b[1;32m   1756\u001b[0m       \u001b[0;31m# No tape is watching; skip to running the function.\u001b[0m\u001b[0;34m\u001b[0m\u001b[0;34m\u001b[0m\u001b[0m\n\u001b[0;32m-> 1757\u001b[0;31m       return self._build_call_outputs(self._inference_function.call(\n\u001b[0m\u001b[1;32m   1758\u001b[0m           ctx, args, cancellation_manager=cancellation_manager))\n\u001b[1;32m   1759\u001b[0m     forward_backward = self._select_forward_and_backward_functions(\n",
            "\u001b[0;32m/usr/local/lib/python3.10/dist-packages/tensorflow/python/eager/polymorphic_function/monomorphic_function.py\u001b[0m in \u001b[0;36mcall\u001b[0;34m(self, ctx, args, cancellation_manager)\u001b[0m\n\u001b[1;32m    379\u001b[0m       \u001b[0;32mwith\u001b[0m \u001b[0m_InterpolateFunctionError\u001b[0m\u001b[0;34m(\u001b[0m\u001b[0mself\u001b[0m\u001b[0;34m)\u001b[0m\u001b[0;34m:\u001b[0m\u001b[0;34m\u001b[0m\u001b[0;34m\u001b[0m\u001b[0m\n\u001b[1;32m    380\u001b[0m         \u001b[0;32mif\u001b[0m \u001b[0mcancellation_manager\u001b[0m \u001b[0;32mis\u001b[0m \u001b[0;32mNone\u001b[0m\u001b[0;34m:\u001b[0m\u001b[0;34m\u001b[0m\u001b[0;34m\u001b[0m\u001b[0m\n\u001b[0;32m--> 381\u001b[0;31m           outputs = execute.execute(\n\u001b[0m\u001b[1;32m    382\u001b[0m               \u001b[0mstr\u001b[0m\u001b[0;34m(\u001b[0m\u001b[0mself\u001b[0m\u001b[0;34m.\u001b[0m\u001b[0msignature\u001b[0m\u001b[0;34m.\u001b[0m\u001b[0mname\u001b[0m\u001b[0;34m)\u001b[0m\u001b[0;34m,\u001b[0m\u001b[0;34m\u001b[0m\u001b[0;34m\u001b[0m\u001b[0m\n\u001b[1;32m    383\u001b[0m               \u001b[0mnum_outputs\u001b[0m\u001b[0;34m=\u001b[0m\u001b[0mself\u001b[0m\u001b[0;34m.\u001b[0m\u001b[0m_num_outputs\u001b[0m\u001b[0;34m,\u001b[0m\u001b[0;34m\u001b[0m\u001b[0;34m\u001b[0m\u001b[0m\n",
            "\u001b[0;32m/usr/local/lib/python3.10/dist-packages/tensorflow/python/eager/execute.py\u001b[0m in \u001b[0;36mquick_execute\u001b[0;34m(op_name, num_outputs, inputs, attrs, ctx, name)\u001b[0m\n\u001b[1;32m     50\u001b[0m   \u001b[0;32mtry\u001b[0m\u001b[0;34m:\u001b[0m\u001b[0;34m\u001b[0m\u001b[0;34m\u001b[0m\u001b[0m\n\u001b[1;32m     51\u001b[0m     \u001b[0mctx\u001b[0m\u001b[0;34m.\u001b[0m\u001b[0mensure_initialized\u001b[0m\u001b[0;34m(\u001b[0m\u001b[0;34m)\u001b[0m\u001b[0;34m\u001b[0m\u001b[0;34m\u001b[0m\u001b[0m\n\u001b[0;32m---> 52\u001b[0;31m     tensors = pywrap_tfe.TFE_Py_Execute(ctx._handle, device_name, op_name,\n\u001b[0m\u001b[1;32m     53\u001b[0m                                         inputs, attrs, num_outputs)\n\u001b[1;32m     54\u001b[0m   \u001b[0;32mexcept\u001b[0m \u001b[0mcore\u001b[0m\u001b[0;34m.\u001b[0m\u001b[0m_NotOkStatusException\u001b[0m \u001b[0;32mas\u001b[0m \u001b[0me\u001b[0m\u001b[0;34m:\u001b[0m\u001b[0;34m\u001b[0m\u001b[0;34m\u001b[0m\u001b[0m\n",
            "\u001b[0;31mKeyboardInterrupt\u001b[0m: "
          ]
        }
      ],
      "source": [
        "okt = Okt()\n",
        "max_len = 0\n",
        "\n",
        "def okt_mophs(kor_str):\n",
        "    global max_len\n",
        "    morphs = okt.morphs(kor_str)\n",
        "    max_len = max(len(morphs), max_len)\n",
        "    return ' '.join(morphs)\n",
        "\n",
        "tqdm.pandas()\n",
        "train_korean_data = train_data['원문'].progress_apply(okt_mophs)\n",
        "tqdm.pandas()\n",
        "val_korean_data = val_data['원문'].progress_apply(okt_mophs)\n",
        "tqdm.pandas()\n",
        "test_korean_data = test_data['원문'].progress_apply(okt_mophs)\n",
        "# korean_morphs = list(parmap.map(okt_mophs, train_data['원문'], pm_pbar=True, pm_processes=num_cores))\n",
        "\n",
        "def add_token(string):\n",
        "    return f\"[start] {string} [end]\"\n",
        "train_english_data = train_data['번역문'].apply(add_token)\n",
        "val_english_data = val_data['번역문'].apply(add_token)\n",
        "# english_morphs = list(parmap.map(add_token, train_data['번역문'], pm_pbar=True, pm_processes=num_cores))\n"
      ]
    },
    {
      "cell_type": "code",
      "execution_count": null,
      "metadata": {
        "id": "qCMv8GDDZ7tv"
      },
      "outputs": [],
      "source": [
        "preprocessed_datas = pd.concat([train_korean_data, val_korean_data, test_korean_data, train_english_data, val_english_data], axis=1)\n",
        "preprocessed_datas.to_csv(\"preprocessed_datas.csv\")"
      ]
    },
    {
      "cell_type": "markdown",
      "source": [
        "### 이미 가공된 데이터 불러오기"
      ],
      "metadata": {
        "id": "zwIsvzX2vE4h"
      }
    },
    {
      "cell_type": "code",
      "source": [
        "# This mounts your Google Drive to the Colab VM.\n",
        "from google.colab import drive\n",
        "drive.mount('/content/drive')\n",
        "\n",
        "# TODO: Enter the foldername in your Drive where you have saved the unzipped\n",
        "# assignment folder, e.g. 'cs231n/assignments/assignment1/'\n",
        "FOLDERNAME = '딥러닝/keras_creator/Lecture\\ 11.'\n",
        "\n",
        "# Now that we've mounted your Drive, this ensures that\n",
        "# the Python interpreter of the Colab VM can load\n",
        "# python files from within it.\n",
        "import sys\n",
        "sys.path.append('/content/drive/My Drive/{}'.format(FOLDERNAME))\n",
        "\n",
        "%cd /content/drive/My\\ Drive/$FOLDERNAME/"
      ],
      "metadata": {
        "colab": {
          "base_uri": "https://localhost:8080/"
        },
        "id": "2FsO9RHN1lPF",
        "outputId": "b06f294a-55c2-4c4b-954e-6e89385c5502"
      },
      "execution_count": null,
      "outputs": [
        {
          "output_type": "stream",
          "name": "stdout",
          "text": [
            "Drive already mounted at /content/drive; to attempt to forcibly remount, call drive.mount(\"/content/drive\", force_remount=True).\n",
            "/content/drive/My Drive/딥러닝/keras_creator/Lecture 11.\n"
          ]
        }
      ]
    },
    {
      "cell_type": "code",
      "source": [
        "# !unzip preprocessed_datas.zip -d .\n",
        "preprocessed_data = pd.read_csv(\"preprocessed_datas.csv\", index_col=0)\n",
        "\n",
        "train_korean_data = preprocessed_data['train_korean'].dropna()\n",
        "val_korean_data = preprocessed_data['val_korean'].dropna()\n",
        "test_korean_data = preprocessed_data['test_korean'].dropna()\n",
        "train_english_data = preprocessed_data['train_english'].dropna()\n",
        "val_english_data = preprocessed_data['val_english'].dropna()"
      ],
      "metadata": {
        "colab": {
          "base_uri": "https://localhost:8080/"
        },
        "id": "RkBoVGnwkzUo",
        "outputId": "bbb6e416-7de0-4cc1-aac1-d08df380876e"
      },
      "execution_count": null,
      "outputs": [
        {
          "output_type": "stream",
          "name": "stderr",
          "text": [
            "<ipython-input-10-73c036d2bdab>:2: DtypeWarning: Columns (2,3,5) have mixed types. Specify dtype option on import or set low_memory=False.\n",
            "  preprocessed_data = pd.read_csv(\"preprocessed_datas.csv\", index_col=0)\n"
          ]
        }
      ]
    },
    {
      "cell_type": "code",
      "source": [
        "preprocessed_data = pd.concat([train_korean_data, val_korean_data, test_korean_data, train_english_data, val_english_data],\n",
        "                              axis=1, keys=['train_korean', 'val_korean', 'test_korean', 'train_english', 'val_english'])\n",
        "preprocessed_data.to_csv(\"preprocessed_datas.csv\")\n",
        "\n"
      ],
      "metadata": {
        "id": "K28i4r7xtseN"
      },
      "execution_count": null,
      "outputs": []
    },
    {
      "cell_type": "code",
      "source": [
        "preprocessed_data.tail()"
      ],
      "metadata": {
        "colab": {
          "base_uri": "https://localhost:8080/",
          "height": 206
        },
        "id": "4H3z5mgOtxQL",
        "outputId": "ccf339c9-8bb0-4daf-9f33-166d6a19edad"
      },
      "execution_count": null,
      "outputs": [
        {
          "output_type": "execute_result",
          "data": {
            "text/plain": [
              "                                                train_korean val_korean  \\\n",
              "1281926.0  냉장고 , 계산 대 ( 뒷 공간 포함 ), 진열 장 , 현금 지급 기 , 에어컨 ,...        NaN   \n",
              "1281927.0  제 49조 의 규정 에 따른 관사 중 다음 각 호의 어느 하나 에 해당 하는 경우 ...        NaN   \n",
              "1281928.0  공공기관 의 장 은 특별한 이유 가 없는 한 동일한 노동 에 대해 서는 무기 계 약...        NaN   \n",
              "1281929.0      정신 보건 사업 에 관 한 사항 ( 노원 정신건강 복지 센터 등 관리 및 운영 )        NaN   \n",
              "1281930.0  “ 수익 자 부담 경비 ” 란 수업료 , 입학 금 외 에 학교 운영 위원회 의 심의...        NaN   \n",
              "\n",
              "          test_korean                                      train_english  \\\n",
              "1281926.0         NaN  [start] The space for the refrigerator, cash r...   \n",
              "1281927.0         NaN  [start] The full amount of fees may be exempte...   \n",
              "1281928.0         NaN  [start] The head of a public agency shall ende...   \n",
              "1281929.0         NaN  [start] Matters concerning mental health servi...   \n",
              "1281930.0         NaN  [start] The term \"expenses borne by beneficiar...   \n",
              "\n",
              "          val_english  \n",
              "1281926.0         NaN  \n",
              "1281927.0         NaN  \n",
              "1281928.0         NaN  \n",
              "1281929.0         NaN  \n",
              "1281930.0         NaN  "
            ],
            "text/html": [
              "\n",
              "  <div id=\"df-9477fc3c-c280-4dae-9651-f029ec76bd15\">\n",
              "    <div class=\"colab-df-container\">\n",
              "      <div>\n",
              "<style scoped>\n",
              "    .dataframe tbody tr th:only-of-type {\n",
              "        vertical-align: middle;\n",
              "    }\n",
              "\n",
              "    .dataframe tbody tr th {\n",
              "        vertical-align: top;\n",
              "    }\n",
              "\n",
              "    .dataframe thead th {\n",
              "        text-align: right;\n",
              "    }\n",
              "</style>\n",
              "<table border=\"1\" class=\"dataframe\">\n",
              "  <thead>\n",
              "    <tr style=\"text-align: right;\">\n",
              "      <th></th>\n",
              "      <th>train_korean</th>\n",
              "      <th>val_korean</th>\n",
              "      <th>test_korean</th>\n",
              "      <th>train_english</th>\n",
              "      <th>val_english</th>\n",
              "    </tr>\n",
              "  </thead>\n",
              "  <tbody>\n",
              "    <tr>\n",
              "      <th>1281926.0</th>\n",
              "      <td>냉장고 , 계산 대 ( 뒷 공간 포함 ), 진열 장 , 현금 지급 기 , 에어컨 ,...</td>\n",
              "      <td>NaN</td>\n",
              "      <td>NaN</td>\n",
              "      <td>[start] The space for the refrigerator, cash r...</td>\n",
              "      <td>NaN</td>\n",
              "    </tr>\n",
              "    <tr>\n",
              "      <th>1281927.0</th>\n",
              "      <td>제 49조 의 규정 에 따른 관사 중 다음 각 호의 어느 하나 에 해당 하는 경우 ...</td>\n",
              "      <td>NaN</td>\n",
              "      <td>NaN</td>\n",
              "      <td>[start] The full amount of fees may be exempte...</td>\n",
              "      <td>NaN</td>\n",
              "    </tr>\n",
              "    <tr>\n",
              "      <th>1281928.0</th>\n",
              "      <td>공공기관 의 장 은 특별한 이유 가 없는 한 동일한 노동 에 대해 서는 무기 계 약...</td>\n",
              "      <td>NaN</td>\n",
              "      <td>NaN</td>\n",
              "      <td>[start] The head of a public agency shall ende...</td>\n",
              "      <td>NaN</td>\n",
              "    </tr>\n",
              "    <tr>\n",
              "      <th>1281929.0</th>\n",
              "      <td>정신 보건 사업 에 관 한 사항 ( 노원 정신건강 복지 센터 등 관리 및 운영 )</td>\n",
              "      <td>NaN</td>\n",
              "      <td>NaN</td>\n",
              "      <td>[start] Matters concerning mental health servi...</td>\n",
              "      <td>NaN</td>\n",
              "    </tr>\n",
              "    <tr>\n",
              "      <th>1281930.0</th>\n",
              "      <td>“ 수익 자 부담 경비 ” 란 수업료 , 입학 금 외 에 학교 운영 위원회 의 심의...</td>\n",
              "      <td>NaN</td>\n",
              "      <td>NaN</td>\n",
              "      <td>[start] The term \"expenses borne by beneficiar...</td>\n",
              "      <td>NaN</td>\n",
              "    </tr>\n",
              "  </tbody>\n",
              "</table>\n",
              "</div>\n",
              "      <button class=\"colab-df-convert\" onclick=\"convertToInteractive('df-9477fc3c-c280-4dae-9651-f029ec76bd15')\"\n",
              "              title=\"Convert this dataframe to an interactive table.\"\n",
              "              style=\"display:none;\">\n",
              "        \n",
              "  <svg xmlns=\"http://www.w3.org/2000/svg\" height=\"24px\"viewBox=\"0 0 24 24\"\n",
              "       width=\"24px\">\n",
              "    <path d=\"M0 0h24v24H0V0z\" fill=\"none\"/>\n",
              "    <path d=\"M18.56 5.44l.94 2.06.94-2.06 2.06-.94-2.06-.94-.94-2.06-.94 2.06-2.06.94zm-11 1L8.5 8.5l.94-2.06 2.06-.94-2.06-.94L8.5 2.5l-.94 2.06-2.06.94zm10 10l.94 2.06.94-2.06 2.06-.94-2.06-.94-.94-2.06-.94 2.06-2.06.94z\"/><path d=\"M17.41 7.96l-1.37-1.37c-.4-.4-.92-.59-1.43-.59-.52 0-1.04.2-1.43.59L10.3 9.45l-7.72 7.72c-.78.78-.78 2.05 0 2.83L4 21.41c.39.39.9.59 1.41.59.51 0 1.02-.2 1.41-.59l7.78-7.78 2.81-2.81c.8-.78.8-2.07 0-2.86zM5.41 20L4 18.59l7.72-7.72 1.47 1.35L5.41 20z\"/>\n",
              "  </svg>\n",
              "      </button>\n",
              "      \n",
              "  <style>\n",
              "    .colab-df-container {\n",
              "      display:flex;\n",
              "      flex-wrap:wrap;\n",
              "      gap: 12px;\n",
              "    }\n",
              "\n",
              "    .colab-df-convert {\n",
              "      background-color: #E8F0FE;\n",
              "      border: none;\n",
              "      border-radius: 50%;\n",
              "      cursor: pointer;\n",
              "      display: none;\n",
              "      fill: #1967D2;\n",
              "      height: 32px;\n",
              "      padding: 0 0 0 0;\n",
              "      width: 32px;\n",
              "    }\n",
              "\n",
              "    .colab-df-convert:hover {\n",
              "      background-color: #E2EBFA;\n",
              "      box-shadow: 0px 1px 2px rgba(60, 64, 67, 0.3), 0px 1px 3px 1px rgba(60, 64, 67, 0.15);\n",
              "      fill: #174EA6;\n",
              "    }\n",
              "\n",
              "    [theme=dark] .colab-df-convert {\n",
              "      background-color: #3B4455;\n",
              "      fill: #D2E3FC;\n",
              "    }\n",
              "\n",
              "    [theme=dark] .colab-df-convert:hover {\n",
              "      background-color: #434B5C;\n",
              "      box-shadow: 0px 1px 3px 1px rgba(0, 0, 0, 0.15);\n",
              "      filter: drop-shadow(0px 1px 2px rgba(0, 0, 0, 0.3));\n",
              "      fill: #FFFFFF;\n",
              "    }\n",
              "  </style>\n",
              "\n",
              "      <script>\n",
              "        const buttonEl =\n",
              "          document.querySelector('#df-9477fc3c-c280-4dae-9651-f029ec76bd15 button.colab-df-convert');\n",
              "        buttonEl.style.display =\n",
              "          google.colab.kernel.accessAllowed ? 'block' : 'none';\n",
              "\n",
              "        async function convertToInteractive(key) {\n",
              "          const element = document.querySelector('#df-9477fc3c-c280-4dae-9651-f029ec76bd15');\n",
              "          const dataTable =\n",
              "            await google.colab.kernel.invokeFunction('convertToInteractive',\n",
              "                                                     [key], {});\n",
              "          if (!dataTable) return;\n",
              "\n",
              "          const docLinkHtml = 'Like what you see? Visit the ' +\n",
              "            '<a target=\"_blank\" href=https://colab.research.google.com/notebooks/data_table.ipynb>data table notebook</a>'\n",
              "            + ' to learn more about interactive tables.';\n",
              "          element.innerHTML = '';\n",
              "          dataTable['output_type'] = 'display_data';\n",
              "          await google.colab.output.renderOutput(dataTable, element);\n",
              "          const docLink = document.createElement('div');\n",
              "          docLink.innerHTML = docLinkHtml;\n",
              "          element.appendChild(docLink);\n",
              "        }\n",
              "      </script>\n",
              "    </div>\n",
              "  </div>\n",
              "  "
            ]
          },
          "metadata": {},
          "execution_count": 6
        }
      ]
    },
    {
      "cell_type": "code",
      "source": [
        "!zip -r preprocessed_datas.zip  preprocessed_datas.csv"
      ],
      "metadata": {
        "colab": {
          "base_uri": "https://localhost:8080/"
        },
        "id": "WrHcFtqguELt",
        "outputId": "261c2de2-8ecb-49ea-f9cf-4fb89e48716e"
      },
      "execution_count": null,
      "outputs": [
        {
          "output_type": "stream",
          "name": "stdout",
          "text": [
            "updating: preprocessed_datas.csv (deflated 59%)\n"
          ]
        }
      ]
    },
    {
      "cell_type": "markdown",
      "source": [
        "## vectorize 및 tf.data"
      ],
      "metadata": {
        "id": "d19vjnztvfRX"
      }
    },
    {
      "cell_type": "code",
      "source": [
        "import string\n",
        "import re"
      ],
      "metadata": {
        "id": "oKr0TVhrxd7L"
      },
      "execution_count": null,
      "outputs": []
    },
    {
      "cell_type": "code",
      "source": [
        "strip_chars = string.punctuation\n",
        "strip_chars = strip_chars.replace('[', '')\n",
        "strip_chars = strip_chars.replace(']', '')\n",
        "\n",
        "def target_standardization(input_string):\n",
        "    lower_case = tf.strings.lower(input_string)\n",
        "    return tf.strings.regex_replace(lower_case, f\"[{re.escape(strip_chars)}]\", '')\n",
        "\n",
        "vocab_size = 150000\n",
        "sequence_len = 35\n",
        "korean_vectorization = layers.TextVectorization(max_tokens=vocab_size, output_mode='int', output_sequence_length=sequence_len)\n",
        "english_vectorization = layers.TextVectorization(max_tokens=vocab_size, output_mode='int', output_sequence_length=sequence_len+1, standardize=target_standardization)\n",
        "\n",
        "korean_vectorization.adapt(train_korean_data)\n",
        "english_vectorization.adapt(train_english_data)"
      ],
      "metadata": {
        "id": "keqjuOX8Bpqf"
      },
      "execution_count": null,
      "outputs": []
    },
    {
      "cell_type": "code",
      "source": [
        "# import pickle\n",
        "# kor_vocab = korean_vectorization.get_vocabulary()\n",
        "# eng_vocab = english_vectorization.get_vocabulary()\n",
        "# print(type(kor_vocab))\n",
        "# with open('kor_vocab.pkl', 'wb') as f:\n",
        "# \tpickle.dump(kor_vocab, f, protocol=pickle.HIGHEST_PROTOCOL)\n",
        "# with open('eng_vocab.pkl', 'wb') as f:\n",
        "# \tpickle.dump(eng_vocab, f, protocol=pickle.HIGHEST_PROTOCOL)"
      ],
      "metadata": {
        "colab": {
          "base_uri": "https://localhost:8080/"
        },
        "id": "mH-hxH5ZUT2B",
        "outputId": "3925a690-8e88-474b-9568-9eb76a361952"
      },
      "execution_count": null,
      "outputs": [
        {
          "output_type": "stream",
          "name": "stdout",
          "text": [
            "<class 'list'>\n"
          ]
        }
      ]
    },
    {
      "cell_type": "code",
      "source": [
        "strip_chars = string.punctuation\n",
        "strip_chars = strip_chars.replace('[', '')\n",
        "strip_chars = strip_chars.replace(']', '')\n",
        "\n",
        "def target_standardization(input_string):\n",
        "    lower_case = tf.strings.lower(input_string)\n",
        "    return tf.strings.regex_replace(lower_case, f\"[{re.escape(strip_chars)}]\", '')\n",
        "\n",
        "vocab_size = 15000\n",
        "sequence_len = 35\n",
        "\n",
        "korean_vectorization = layers.TextVectorization(max_tokens=vocab_size, output_mode='int', output_sequence_length=sequence_len)\n",
        "english_vectorization = layers.TextVectorization(max_tokens=vocab_size, output_mode='int', output_sequence_length=sequence_len+1, standardize=target_standardization)\n",
        "\n",
        "import pickle\n",
        "with open('kor_vocab.pkl', 'rb') as f:\n",
        "    kor_vocab = pickle.load(f)\n",
        "    korean_vectorization.set_vocabulary(kor_vocab)\n",
        "\n",
        "with open('eng_vocab.pkl', 'rb') as f:\n",
        "    eng_vocab = pickle.load(f)\n",
        "    english_vectorization.set_vocabulary(eng_vocab)"
      ],
      "metadata": {
        "id": "WCjNE_ybUytb"
      },
      "execution_count": null,
      "outputs": []
    },
    {
      "cell_type": "code",
      "execution_count": null,
      "metadata": {
        "id": "lcHqScZXKqNx",
        "colab": {
          "base_uri": "https://localhost:8080/"
        },
        "outputId": "2005bdb4-630b-48dd-aee6-64ee3cef989f"
      },
      "outputs": [
        {
          "output_type": "stream",
          "name": "stdout",
          "text": [
            "1281932 1281932\n",
            "1281932 1281932\n"
          ]
        }
      ],
      "source": [
        "batch_size = 128\n",
        "\n",
        "def format_dataset(kor, eng):\n",
        "    kor = korean_vectorization(kor)\n",
        "    eng = english_vectorization(eng)\n",
        "    return ({'korean': kor, 'english': eng[:, :-1]}, eng[:, 1:])\n",
        "\n",
        "def make_dataset(korean, english):\n",
        "    dataset = tf.data.Dataset.from_tensor_slices((korean, english))\n",
        "\n",
        "    dataset = dataset.batch(batch_size)\n",
        "\n",
        "    dataset = dataset.map(format_dataset, num_parallel_calls=16)\n",
        "\n",
        "    return dataset.prefetch(16).cache()\n",
        "\n",
        "print(len(train_korean_data), len(train_english_data))\n",
        "\n",
        "train_korean_data = train_korean_data.sample(frac=1, random_state=1)\n",
        "train_english_data = train_english_data.sample(frac=1, random_state=1)\n",
        "val_korean_data = val_korean_data.sample(frac=1, random_state=1)\n",
        "val_english_data = val_english_data.sample(frac=1, random_state=1)\n",
        "print(len(train_korean_data), len(train_english_data))\n",
        "\n",
        "train_dataset = make_dataset(train_korean_data, train_english_data)\n",
        "val_dataset = make_dataset(val_korean_data, val_english_data)\n",
        "test_X = korean_vectorization(test_korean_data)\n"
      ]
    },
    {
      "cell_type": "code",
      "execution_count": null,
      "metadata": {
        "id": "8Krm1UuNUdhe",
        "colab": {
          "base_uri": "https://localhost:8080/"
        },
        "outputId": "8b2faee8-1739-4183-c5ad-23ed7f1a4e73"
      },
      "outputs": [
        {
          "output_type": "stream",
          "name": "stdout",
          "text": [
            "korean input shape: (1024, 35)\n",
            "english input shape: (1024, 35)\n",
            "targets input shape: (1024, 35)\n",
            "test set:\n",
            "korean input shape: (327, 35)\n"
          ]
        }
      ],
      "source": [
        "for inputs, targets in train_dataset.take(1):\n",
        "    print(f\"korean input shape: {inputs['korean'].shape}\")\n",
        "    print(f\"english input shape: {inputs['english'].shape}\")\n",
        "    print(f\"targets input shape: {targets.shape}\")\n",
        "\n",
        "print(\"test set:\")\n",
        "print(f\"korean input shape: {test_X.shape}\")"
      ]
    },
    {
      "cell_type": "markdown",
      "metadata": {
        "id": "84OouZHcuKAa"
      },
      "source": [
        "# RNN Seq2Seq"
      ]
    },
    {
      "cell_type": "code",
      "execution_count": null,
      "metadata": {
        "id": "hN9bZPQhtlOW",
        "colab": {
          "base_uri": "https://localhost:8080/"
        },
        "outputId": "940e22fa-fbbf-4cab-f69e-51dc04e91145"
      },
      "outputs": [
        {
          "output_type": "stream",
          "name": "stdout",
          "text": [
            "Model: \"rnn_encoder\"\n",
            "_________________________________________________________________\n",
            " Layer (type)                Output Shape              Param #   \n",
            "=================================================================\n",
            " korean (InputLayer)         [(None, 35)]              0         \n",
            "                                                                 \n",
            " embedding (Embedding)       (None, 35, 256)           3840000   \n",
            "                                                                 \n",
            " bidirectional (Bidirectiona  (None, 1024)             7876608   \n",
            " l)                                                              \n",
            "                                                                 \n",
            "=================================================================\n",
            "Total params: 11,716,608\n",
            "Trainable params: 11,716,608\n",
            "Non-trainable params: 0\n",
            "_________________________________________________________________\n"
          ]
        }
      ],
      "source": [
        "embed_dim = 256\n",
        "latent_dim = 1024\n",
        "\n",
        "src = keras.Input(shape=(sequence_len,), dtype='int64', name=\"korean\")\n",
        "x = layers.Embedding(vocab_size, embed_dim, mask_zero=True)(src)\n",
        "encoded_src = layers.Bidirectional(layers.GRU(latent_dim), merge_mode='sum')(x)\n",
        "\n",
        "encoder = keras.Model(src, encoded_src, name='rnn_encoder')\n",
        "encoder.summary()"
      ]
    },
    {
      "cell_type": "code",
      "execution_count": null,
      "metadata": {
        "id": "2j7DLzXdvAwS",
        "colab": {
          "base_uri": "https://localhost:8080/"
        },
        "outputId": "08edbc55-8121-4966-f4a7-42916e171973"
      },
      "outputs": [
        {
          "output_type": "stream",
          "name": "stdout",
          "text": [
            "Model: \"model\"\n",
            "__________________________________________________________________________________________________\n",
            " Layer (type)                   Output Shape         Param #     Connected to                     \n",
            "==================================================================================================\n",
            " english (InputLayer)           [(None, 35)]         0           []                               \n",
            "                                                                                                  \n",
            " embedding_1 (Embedding)        (None, 35, 256)      3840000     ['english[0][0]']                \n",
            "                                                                                                  \n",
            " encoded_korean (InputLayer)    [(None, 1024)]       0           []                               \n",
            "                                                                                                  \n",
            " gru_1 (GRU)                    (None, 35, 1024)     3938304     ['embedding_1[0][0]',            \n",
            "                                                                  'encoded_korean[0][0]']         \n",
            "                                                                                                  \n",
            " dropout (Dropout)              (None, 35, 1024)     0           ['gru_1[0][0]']                  \n",
            "                                                                                                  \n",
            " dense (Dense)                  (None, 35, 15000)    15375000    ['dropout[0][0]']                \n",
            "                                                                                                  \n",
            "==================================================================================================\n",
            "Total params: 23,153,304\n",
            "Trainable params: 23,153,304\n",
            "Non-trainable params: 0\n",
            "__________________________________________________________________________________________________\n"
          ]
        }
      ],
      "source": [
        "past_target = keras.Input(shape=(sequence_len,), dtype='int64', name='english')\n",
        "encoded = keras.Input(shape=(latent_dim,), name='encoded_korean', dtype='float32')\n",
        "x = layers.Embedding(vocab_size, embed_dim, mask_zero=True)(past_target)\n",
        "decoder_gru = layers.GRU(latent_dim, return_sequences=True)\n",
        "x = decoder_gru(x, initial_state=encoded)\n",
        "x = layers.Dropout(0.5)(x)\n",
        "target_next_step = layers.Dense(vocab_size, activation='softmax')(x)\n",
        "\n",
        "decoder = keras.Model([past_target, encoded], target_next_step)\n",
        "decoder.summary()"
      ]
    },
    {
      "cell_type": "code",
      "execution_count": null,
      "metadata": {
        "id": "r8GnH4CJ4Pnr",
        "colab": {
          "base_uri": "https://localhost:8080/"
        },
        "outputId": "720abc55-23e3-427a-e9e9-e32e51d3c427"
      },
      "outputs": [
        {
          "output_type": "stream",
          "name": "stdout",
          "text": [
            "Model: \"model_1\"\n",
            "__________________________________________________________________________________________________\n",
            " Layer (type)                   Output Shape         Param #     Connected to                     \n",
            "==================================================================================================\n",
            " korean (InputLayer)            [(None, 35)]         0           []                               \n",
            "                                                                                                  \n",
            " rnn_encoder (Functional)       (None, 1024)         11716608    ['korean[0][0]']                 \n",
            "                                                                                                  \n",
            " english (InputLayer)           [(None, 35)]         0           []                               \n",
            "                                                                                                  \n",
            " model (Functional)             (None, 35, 15000)    23153304    ['rnn_encoder[0][0]',            \n",
            "                                                                  'english[0][0]']                \n",
            "                                                                                                  \n",
            "==================================================================================================\n",
            "Total params: 34,869,912\n",
            "Trainable params: 34,869,912\n",
            "Non-trainable params: 0\n",
            "__________________________________________________________________________________________________\n"
          ]
        }
      ],
      "source": [
        "src = keras.Input(shape=(sequence_len,), dtype='int64', name=\"korean\")\n",
        "past_target = keras.Input(shape=(sequence_len,), dtype='int64', name='english')\n",
        "\n",
        "encoded_src = encoder(src)\n",
        "target_next_step = decoder({'english': past_target, 'encoded_korean': encoded_src})\n",
        "seq2seq_rnn = keras.Model([src, past_target], target_next_step)\n",
        "seq2seq_rnn.summary()"
      ]
    },
    {
      "cell_type": "code",
      "execution_count": null,
      "metadata": {
        "colab": {
          "base_uri": "https://localhost:8080/",
          "height": 312
        },
        "id": "mjMFPiJJOlnz",
        "outputId": "885f7b97-a4ed-4dc0-a346-a267a522af36"
      },
      "outputs": [
        {
          "output_type": "execute_result",
          "data": {
            "image/png": "[encoded data removed]",
            "text/plain": [
              "<IPython.core.display.Image object>"
            ]
          },
          "metadata": {},
          "execution_count": 16
        }
      ],
      "source": [
        "keras.utils.plot_model(seq2seq_rnn, 'seq2seq_rnn.png', show_shapes=True, show_layer_activations=True)"
      ]
    },
    {
      "cell_type": "code",
      "execution_count": null,
      "metadata": {
        "id": "Iob-xKGLPHi4"
      },
      "outputs": [],
      "source": [
        "seq2seq_rnn.compile(optimizer='adam', loss='sparse_categorical_crossentropy')"
      ]
    },
    {
      "cell_type": "code",
      "source": [
        "seq2seq_rnn = keras.models.load_model('seq2seq_rnn.keras')"
      ],
      "metadata": {
        "id": "aenRWiTApy8m"
      },
      "execution_count": null,
      "outputs": []
    },
    {
      "cell_type": "code",
      "execution_count": null,
      "metadata": {
        "id": "TM78DTWnPwBV",
        "colab": {
          "base_uri": "https://localhost:8080/",
          "height": 565
        },
        "outputId": "aa090ed7-7e7f-436b-def9-73158848ed4d"
      },
      "outputs": [
        {
          "output_type": "stream",
          "name": "stdout",
          "text": [
            "Epoch 1/30\n",
            "20031/20031 [==============================] - 1190s 59ms/step - loss: 2.5392 - val_loss: 2.8597\n",
            "Epoch 2/30\n",
            "20031/20031 [==============================] - 971s 48ms/step - loss: 2.5273 - val_loss: 2.8516\n",
            "Epoch 3/30\n",
            "20031/20031 [==============================] - 964s 48ms/step - loss: 2.5173 - val_loss: 2.8446\n",
            "Epoch 4/30\n",
            "20031/20031 [==============================] - 966s 48ms/step - loss: 2.5085 - val_loss: 2.8375\n",
            "Epoch 5/30\n",
            "  115/20031 [..............................] - ETA: 12:46 - loss: 2.0978"
          ]
        },
        {
          "output_type": "error",
          "ename": "KeyboardInterrupt",
          "evalue": "ignored",
          "traceback": [
            "\u001b[0;31m---------------------------------------------------------------------------\u001b[0m",
            "\u001b[0;31mKeyboardInterrupt\u001b[0m                         Traceback (most recent call last)",
            "\u001b[0;32m<ipython-input-11-cf9c0a2b3b88>\u001b[0m in \u001b[0;36m<cell line: 4>\u001b[0;34m()\u001b[0m\n\u001b[1;32m      2\u001b[0m              keras.callbacks.EarlyStopping(patience=1)]\n\u001b[1;32m      3\u001b[0m \u001b[0;34m\u001b[0m\u001b[0m\n\u001b[0;32m----> 4\u001b[0;31m \u001b[0mseq2seq_rnn\u001b[0m\u001b[0;34m.\u001b[0m\u001b[0mfit\u001b[0m\u001b[0;34m(\u001b[0m\u001b[0mtrain_dataset\u001b[0m\u001b[0;34m,\u001b[0m \u001b[0mvalidation_data\u001b[0m\u001b[0;34m=\u001b[0m\u001b[0mval_dataset\u001b[0m\u001b[0;34m,\u001b[0m \u001b[0mepochs\u001b[0m\u001b[0;34m=\u001b[0m\u001b[0;36m30\u001b[0m\u001b[0;34m,\u001b[0m \u001b[0mcallbacks\u001b[0m\u001b[0;34m=\u001b[0m\u001b[0mcallbacks\u001b[0m\u001b[0;34m)\u001b[0m\u001b[0;34m\u001b[0m\u001b[0;34m\u001b[0m\u001b[0m\n\u001b[0m",
            "\u001b[0;32m/usr/local/lib/python3.10/dist-packages/keras/utils/traceback_utils.py\u001b[0m in \u001b[0;36merror_handler\u001b[0;34m(*args, **kwargs)\u001b[0m\n\u001b[1;32m     63\u001b[0m         \u001b[0mfiltered_tb\u001b[0m \u001b[0;34m=\u001b[0m \u001b[0;32mNone\u001b[0m\u001b[0;34m\u001b[0m\u001b[0;34m\u001b[0m\u001b[0m\n\u001b[1;32m     64\u001b[0m         \u001b[0;32mtry\u001b[0m\u001b[0;34m:\u001b[0m\u001b[0;34m\u001b[0m\u001b[0;34m\u001b[0m\u001b[0m\n\u001b[0;32m---> 65\u001b[0;31m             \u001b[0;32mreturn\u001b[0m \u001b[0mfn\u001b[0m\u001b[0;34m(\u001b[0m\u001b[0;34m*\u001b[0m\u001b[0margs\u001b[0m\u001b[0;34m,\u001b[0m \u001b[0;34m**\u001b[0m\u001b[0mkwargs\u001b[0m\u001b[0;34m)\u001b[0m\u001b[0;34m\u001b[0m\u001b[0;34m\u001b[0m\u001b[0m\n\u001b[0m\u001b[1;32m     66\u001b[0m         \u001b[0;32mexcept\u001b[0m \u001b[0mException\u001b[0m \u001b[0;32mas\u001b[0m \u001b[0me\u001b[0m\u001b[0;34m:\u001b[0m\u001b[0;34m\u001b[0m\u001b[0;34m\u001b[0m\u001b[0m\n\u001b[1;32m     67\u001b[0m             \u001b[0mfiltered_tb\u001b[0m \u001b[0;34m=\u001b[0m \u001b[0m_process_traceback_frames\u001b[0m\u001b[0;34m(\u001b[0m\u001b[0me\u001b[0m\u001b[0;34m.\u001b[0m\u001b[0m__traceback__\u001b[0m\u001b[0;34m)\u001b[0m\u001b[0;34m\u001b[0m\u001b[0;34m\u001b[0m\u001b[0m\n",
            "\u001b[0;32m/usr/local/lib/python3.10/dist-packages/keras/engine/training.py\u001b[0m in \u001b[0;36mfit\u001b[0;34m(self, x, y, batch_size, epochs, verbose, callbacks, validation_split, validation_data, shuffle, class_weight, sample_weight, initial_epoch, steps_per_epoch, validation_steps, validation_batch_size, validation_freq, max_queue_size, workers, use_multiprocessing)\u001b[0m\n\u001b[1;32m   1683\u001b[0m                         ):\n\u001b[1;32m   1684\u001b[0m                             \u001b[0mcallbacks\u001b[0m\u001b[0;34m.\u001b[0m\u001b[0mon_train_batch_begin\u001b[0m\u001b[0;34m(\u001b[0m\u001b[0mstep\u001b[0m\u001b[0;34m)\u001b[0m\u001b[0;34m\u001b[0m\u001b[0;34m\u001b[0m\u001b[0m\n\u001b[0;32m-> 1685\u001b[0;31m                             \u001b[0mtmp_logs\u001b[0m \u001b[0;34m=\u001b[0m \u001b[0mself\u001b[0m\u001b[0;34m.\u001b[0m\u001b[0mtrain_function\u001b[0m\u001b[0;34m(\u001b[0m\u001b[0miterator\u001b[0m\u001b[0;34m)\u001b[0m\u001b[0;34m\u001b[0m\u001b[0;34m\u001b[0m\u001b[0m\n\u001b[0m\u001b[1;32m   1686\u001b[0m                             \u001b[0;32mif\u001b[0m \u001b[0mdata_handler\u001b[0m\u001b[0;34m.\u001b[0m\u001b[0mshould_sync\u001b[0m\u001b[0;34m:\u001b[0m\u001b[0;34m\u001b[0m\u001b[0;34m\u001b[0m\u001b[0m\n\u001b[1;32m   1687\u001b[0m                                 \u001b[0mcontext\u001b[0m\u001b[0;34m.\u001b[0m\u001b[0masync_wait\u001b[0m\u001b[0;34m(\u001b[0m\u001b[0;34m)\u001b[0m\u001b[0;34m\u001b[0m\u001b[0;34m\u001b[0m\u001b[0m\n",
            "\u001b[0;32m/usr/local/lib/python3.10/dist-packages/tensorflow/python/util/traceback_utils.py\u001b[0m in \u001b[0;36merror_handler\u001b[0;34m(*args, **kwargs)\u001b[0m\n\u001b[1;32m    148\u001b[0m     \u001b[0mfiltered_tb\u001b[0m \u001b[0;34m=\u001b[0m \u001b[0;32mNone\u001b[0m\u001b[0;34m\u001b[0m\u001b[0;34m\u001b[0m\u001b[0m\n\u001b[1;32m    149\u001b[0m     \u001b[0;32mtry\u001b[0m\u001b[0;34m:\u001b[0m\u001b[0;34m\u001b[0m\u001b[0;34m\u001b[0m\u001b[0m\n\u001b[0;32m--> 150\u001b[0;31m       \u001b[0;32mreturn\u001b[0m \u001b[0mfn\u001b[0m\u001b[0;34m(\u001b[0m\u001b[0;34m*\u001b[0m\u001b[0margs\u001b[0m\u001b[0;34m,\u001b[0m \u001b[0;34m**\u001b[0m\u001b[0mkwargs\u001b[0m\u001b[0;34m)\u001b[0m\u001b[0;34m\u001b[0m\u001b[0;34m\u001b[0m\u001b[0m\n\u001b[0m\u001b[1;32m    151\u001b[0m     \u001b[0;32mexcept\u001b[0m \u001b[0mException\u001b[0m \u001b[0;32mas\u001b[0m \u001b[0me\u001b[0m\u001b[0;34m:\u001b[0m\u001b[0;34m\u001b[0m\u001b[0;34m\u001b[0m\u001b[0m\n\u001b[1;32m    152\u001b[0m       \u001b[0mfiltered_tb\u001b[0m \u001b[0;34m=\u001b[0m \u001b[0m_process_traceback_frames\u001b[0m\u001b[0;34m(\u001b[0m\u001b[0me\u001b[0m\u001b[0;34m.\u001b[0m\u001b[0m__traceback__\u001b[0m\u001b[0;34m)\u001b[0m\u001b[0;34m\u001b[0m\u001b[0;34m\u001b[0m\u001b[0m\n",
            "\u001b[0;32m/usr/local/lib/python3.10/dist-packages/tensorflow/python/eager/polymorphic_function/polymorphic_function.py\u001b[0m in \u001b[0;36m__call__\u001b[0;34m(self, *args, **kwds)\u001b[0m\n\u001b[1;32m    892\u001b[0m \u001b[0;34m\u001b[0m\u001b[0m\n\u001b[1;32m    893\u001b[0m       \u001b[0;32mwith\u001b[0m \u001b[0mOptionalXlaContext\u001b[0m\u001b[0;34m(\u001b[0m\u001b[0mself\u001b[0m\u001b[0;34m.\u001b[0m\u001b[0m_jit_compile\u001b[0m\u001b[0;34m)\u001b[0m\u001b[0;34m:\u001b[0m\u001b[0;34m\u001b[0m\u001b[0;34m\u001b[0m\u001b[0m\n\u001b[0;32m--> 894\u001b[0;31m         \u001b[0mresult\u001b[0m \u001b[0;34m=\u001b[0m \u001b[0mself\u001b[0m\u001b[0;34m.\u001b[0m\u001b[0m_call\u001b[0m\u001b[0;34m(\u001b[0m\u001b[0;34m*\u001b[0m\u001b[0margs\u001b[0m\u001b[0;34m,\u001b[0m \u001b[0;34m**\u001b[0m\u001b[0mkwds\u001b[0m\u001b[0;34m)\u001b[0m\u001b[0;34m\u001b[0m\u001b[0;34m\u001b[0m\u001b[0m\n\u001b[0m\u001b[1;32m    895\u001b[0m \u001b[0;34m\u001b[0m\u001b[0m\n\u001b[1;32m    896\u001b[0m       \u001b[0mnew_tracing_count\u001b[0m \u001b[0;34m=\u001b[0m \u001b[0mself\u001b[0m\u001b[0;34m.\u001b[0m\u001b[0mexperimental_get_tracing_count\u001b[0m\u001b[0;34m(\u001b[0m\u001b[0;34m)\u001b[0m\u001b[0;34m\u001b[0m\u001b[0;34m\u001b[0m\u001b[0m\n",
            "\u001b[0;32m/usr/local/lib/python3.10/dist-packages/tensorflow/python/eager/polymorphic_function/polymorphic_function.py\u001b[0m in \u001b[0;36m_call\u001b[0;34m(self, *args, **kwds)\u001b[0m\n\u001b[1;32m    931\u001b[0m       \u001b[0;31m# In this case we have not created variables on the first call. So we can\u001b[0m\u001b[0;34m\u001b[0m\u001b[0;34m\u001b[0m\u001b[0m\n\u001b[1;32m    932\u001b[0m       \u001b[0;31m# run the first trace but we should fail if variables are created.\u001b[0m\u001b[0;34m\u001b[0m\u001b[0;34m\u001b[0m\u001b[0m\n\u001b[0;32m--> 933\u001b[0;31m       \u001b[0mresults\u001b[0m \u001b[0;34m=\u001b[0m \u001b[0mself\u001b[0m\u001b[0;34m.\u001b[0m\u001b[0m_variable_creation_fn\u001b[0m\u001b[0;34m(\u001b[0m\u001b[0;34m*\u001b[0m\u001b[0margs\u001b[0m\u001b[0;34m,\u001b[0m \u001b[0;34m**\u001b[0m\u001b[0mkwds\u001b[0m\u001b[0;34m)\u001b[0m\u001b[0;34m\u001b[0m\u001b[0;34m\u001b[0m\u001b[0m\n\u001b[0m\u001b[1;32m    934\u001b[0m       \u001b[0;32mif\u001b[0m \u001b[0mself\u001b[0m\u001b[0;34m.\u001b[0m\u001b[0m_created_variables\u001b[0m \u001b[0;32mand\u001b[0m \u001b[0;32mnot\u001b[0m \u001b[0mALLOW_DYNAMIC_VARIABLE_CREATION\u001b[0m\u001b[0;34m:\u001b[0m\u001b[0;34m\u001b[0m\u001b[0;34m\u001b[0m\u001b[0m\n\u001b[1;32m    935\u001b[0m         raise ValueError(\"Creating variables on a non-first call to a function\"\n",
            "\u001b[0;32m/usr/local/lib/python3.10/dist-packages/tensorflow/python/eager/polymorphic_function/tracing_compiler.py\u001b[0m in \u001b[0;36m__call__\u001b[0;34m(self, *args, **kwargs)\u001b[0m\n\u001b[1;32m    141\u001b[0m       (concrete_function,\n\u001b[1;32m    142\u001b[0m        filtered_flat_args) = self._maybe_define_function(args, kwargs)\n\u001b[0;32m--> 143\u001b[0;31m     return concrete_function._call_flat(\n\u001b[0m\u001b[1;32m    144\u001b[0m         filtered_flat_args, captured_inputs=concrete_function.captured_inputs)  # pylint: disable=protected-access\n\u001b[1;32m    145\u001b[0m \u001b[0;34m\u001b[0m\u001b[0m\n",
            "\u001b[0;32m/usr/local/lib/python3.10/dist-packages/tensorflow/python/eager/polymorphic_function/monomorphic_function.py\u001b[0m in \u001b[0;36m_call_flat\u001b[0;34m(self, args, captured_inputs, cancellation_manager)\u001b[0m\n\u001b[1;32m   1755\u001b[0m         and executing_eagerly):\n\u001b[1;32m   1756\u001b[0m       \u001b[0;31m# No tape is watching; skip to running the function.\u001b[0m\u001b[0;34m\u001b[0m\u001b[0;34m\u001b[0m\u001b[0m\n\u001b[0;32m-> 1757\u001b[0;31m       return self._build_call_outputs(self._inference_function.call(\n\u001b[0m\u001b[1;32m   1758\u001b[0m           ctx, args, cancellation_manager=cancellation_manager))\n\u001b[1;32m   1759\u001b[0m     forward_backward = self._select_forward_and_backward_functions(\n",
            "\u001b[0;32m/usr/local/lib/python3.10/dist-packages/tensorflow/python/eager/polymorphic_function/monomorphic_function.py\u001b[0m in \u001b[0;36mcall\u001b[0;34m(self, ctx, args, cancellation_manager)\u001b[0m\n\u001b[1;32m    379\u001b[0m       \u001b[0;32mwith\u001b[0m \u001b[0m_InterpolateFunctionError\u001b[0m\u001b[0;34m(\u001b[0m\u001b[0mself\u001b[0m\u001b[0;34m)\u001b[0m\u001b[0;34m:\u001b[0m\u001b[0;34m\u001b[0m\u001b[0;34m\u001b[0m\u001b[0m\n\u001b[1;32m    380\u001b[0m         \u001b[0;32mif\u001b[0m \u001b[0mcancellation_manager\u001b[0m \u001b[0;32mis\u001b[0m \u001b[0;32mNone\u001b[0m\u001b[0;34m:\u001b[0m\u001b[0;34m\u001b[0m\u001b[0;34m\u001b[0m\u001b[0m\n\u001b[0;32m--> 381\u001b[0;31m           outputs = execute.execute(\n\u001b[0m\u001b[1;32m    382\u001b[0m               \u001b[0mstr\u001b[0m\u001b[0;34m(\u001b[0m\u001b[0mself\u001b[0m\u001b[0;34m.\u001b[0m\u001b[0msignature\u001b[0m\u001b[0;34m.\u001b[0m\u001b[0mname\u001b[0m\u001b[0;34m)\u001b[0m\u001b[0;34m,\u001b[0m\u001b[0;34m\u001b[0m\u001b[0;34m\u001b[0m\u001b[0m\n\u001b[1;32m    383\u001b[0m               \u001b[0mnum_outputs\u001b[0m\u001b[0;34m=\u001b[0m\u001b[0mself\u001b[0m\u001b[0;34m.\u001b[0m\u001b[0m_num_outputs\u001b[0m\u001b[0;34m,\u001b[0m\u001b[0;34m\u001b[0m\u001b[0;34m\u001b[0m\u001b[0m\n",
            "\u001b[0;32m/usr/local/lib/python3.10/dist-packages/tensorflow/python/eager/execute.py\u001b[0m in \u001b[0;36mquick_execute\u001b[0;34m(op_name, num_outputs, inputs, attrs, ctx, name)\u001b[0m\n\u001b[1;32m     50\u001b[0m   \u001b[0;32mtry\u001b[0m\u001b[0;34m:\u001b[0m\u001b[0;34m\u001b[0m\u001b[0;34m\u001b[0m\u001b[0m\n\u001b[1;32m     51\u001b[0m     \u001b[0mctx\u001b[0m\u001b[0;34m.\u001b[0m\u001b[0mensure_initialized\u001b[0m\u001b[0;34m(\u001b[0m\u001b[0;34m)\u001b[0m\u001b[0;34m\u001b[0m\u001b[0;34m\u001b[0m\u001b[0m\n\u001b[0;32m---> 52\u001b[0;31m     tensors = pywrap_tfe.TFE_Py_Execute(ctx._handle, device_name, op_name,\n\u001b[0m\u001b[1;32m     53\u001b[0m                                         inputs, attrs, num_outputs)\n\u001b[1;32m     54\u001b[0m   \u001b[0;32mexcept\u001b[0m \u001b[0mcore\u001b[0m\u001b[0;34m.\u001b[0m\u001b[0m_NotOkStatusException\u001b[0m \u001b[0;32mas\u001b[0m \u001b[0me\u001b[0m\u001b[0;34m:\u001b[0m\u001b[0;34m\u001b[0m\u001b[0;34m\u001b[0m\u001b[0m\n",
            "\u001b[0;31mKeyboardInterrupt\u001b[0m: "
          ]
        }
      ],
      "source": [
        "callbacks = [keras.callbacks.ModelCheckpoint('seq2seq_rnn.keras', save_best_only=True),\n",
        "             keras.callbacks.EarlyStopping(patience=1)]\n",
        "\n",
        "seq2seq_rnn.fit(train_dataset, validation_data=val_dataset, epochs=30, callbacks=callbacks)"
      ]
    },
    {
      "cell_type": "code",
      "execution_count": null,
      "metadata": {
        "id": "7qCQYQ99oLhE"
      },
      "outputs": [],
      "source": [
        "best_rnn = keras.models.load_model('seq2seq_rnn.keras')\n",
        "\n",
        "encoder = best_rnn.layers[1]\n",
        "decoder = best_rnn.layers[3]"
      ]
    },
    {
      "cell_type": "code",
      "execution_count": null,
      "metadata": {
        "id": "kYlKkG9uY9Ge",
        "colab": {
          "base_uri": "https://localhost:8080/",
          "height": 872
        },
        "outputId": "4acadd42-3a53-4585-b9a7-af512e9d9066"
      },
      "outputs": [
        {
          "output_type": "stream",
          "name": "stdout",
          "text": [
            "11/11 [==============================] - 2s 5ms/step\n",
            "11/11 [==============================] - 1s 4ms/step\n",
            "11/11 [==============================] - 0s 5ms/step\n",
            "11/11 [==============================] - 0s 4ms/step\n",
            "11/11 [==============================] - 0s 4ms/step\n",
            "11/11 [==============================] - 0s 5ms/step\n",
            "11/11 [==============================] - 0s 5ms/step\n",
            "11/11 [==============================] - 0s 5ms/step\n",
            "11/11 [==============================] - 0s 5ms/step\n",
            "11/11 [==============================] - 0s 5ms/step\n",
            "11/11 [==============================] - 0s 5ms/step\n",
            "11/11 [==============================] - 0s 5ms/step\n",
            "11/11 [==============================] - 0s 5ms/step\n",
            "11/11 [==============================] - 0s 5ms/step\n",
            "11/11 [==============================] - 0s 5ms/step\n",
            "11/11 [==============================] - 0s 5ms/step\n",
            "11/11 [==============================] - 0s 5ms/step\n",
            "11/11 [==============================] - 0s 5ms/step\n",
            "11/11 [==============================] - 0s 5ms/step\n",
            "11/11 [==============================] - 0s 5ms/step\n",
            "11/11 [==============================] - 0s 5ms/step\n",
            "11/11 [==============================] - 0s 5ms/step\n",
            "11/11 [==============================] - 0s 6ms/step\n",
            "11/11 [==============================] - 0s 6ms/step\n",
            "11/11 [==============================] - 0s 6ms/step\n",
            "11/11 [==============================] - 0s 6ms/step\n",
            "11/11 [==============================] - 0s 6ms/step\n",
            "11/11 [==============================] - 0s 6ms/step\n",
            "11/11 [==============================] - 0s 6ms/step\n",
            "11/11 [==============================] - 0s 6ms/step\n",
            "11/11 [==============================] - 0s 6ms/step\n",
            "11/11 [==============================] - 0s 6ms/step\n",
            "11/11 [==============================] - 0s 6ms/step\n",
            "11/11 [==============================] - 0s 6ms/step\n",
            "11/11 [==============================] - 0s 7ms/step\n",
            "11/11 [==============================] - 0s 7ms/step\n"
          ]
        },
        {
          "output_type": "error",
          "ename": "NameError",
          "evalue": "ignored",
          "traceback": [
            "\u001b[0;31m---------------------------------------------------------------------------\u001b[0m",
            "\u001b[0;31mNameError\u001b[0m                                 Traceback (most recent call last)",
            "\u001b[0;32m<ipython-input-13-7c5a3e614902>\u001b[0m in \u001b[0;36m<cell line: 28>\u001b[0;34m()\u001b[0m\n\u001b[1;32m     27\u001b[0m \u001b[0mtranslated_sentence\u001b[0m \u001b[0;34m=\u001b[0m \u001b[0mdecode_sequence\u001b[0m\u001b[0;34m(\u001b[0m\u001b[0mtest_X\u001b[0m\u001b[0;34m)\u001b[0m\u001b[0;34m\u001b[0m\u001b[0;34m\u001b[0m\u001b[0m\n\u001b[1;32m     28\u001b[0m \u001b[0;32mfor\u001b[0m \u001b[0mi\u001b[0m \u001b[0;32min\u001b[0m \u001b[0mrange\u001b[0m\u001b[0;34m(\u001b[0m\u001b[0;36m15\u001b[0m\u001b[0;34m)\u001b[0m\u001b[0;34m:\u001b[0m\u001b[0;34m\u001b[0m\u001b[0;34m\u001b[0m\u001b[0m\n\u001b[0;32m---> 29\u001b[0;31m     \u001b[0mprint\u001b[0m\u001b[0;34m(\u001b[0m\u001b[0mtest_data\u001b[0m\u001b[0;34m.\u001b[0m\u001b[0miloc\u001b[0m\u001b[0;34m[\u001b[0m\u001b[0mi\u001b[0m\u001b[0;34m]\u001b[0m\u001b[0;34m,\u001b[0m \u001b[0;34m\"- predict: \"\u001b[0m\u001b[0;34m,\u001b[0m \u001b[0mtranslated_sentence\u001b[0m\u001b[0;34m[\u001b[0m\u001b[0mi\u001b[0m\u001b[0;34m]\u001b[0m\u001b[0;34m)\u001b[0m\u001b[0;34m\u001b[0m\u001b[0;34m\u001b[0m\u001b[0m\n\u001b[0m",
            "\u001b[0;31mNameError\u001b[0m: name 'test_data' is not defined"
          ]
        }
      ],
      "source": [
        "import numpy as np\n",
        "\n",
        "eng_vocab = english_vectorization.get_vocabulary()\n",
        "eng_index_lookup = np.pad(np.array(eng_vocab), pad_width=(0,vocab_size), mode='constant', constant_values='[UNK]')[:vocab_size]\n",
        "max_decoded_sentence_len = sequence_len\n",
        "def decode_sequence(input_vectors):\n",
        "    batch_size = input_vectors.shape[0]\n",
        "    encoded_input_sentence = encoder.predict(input_vectors)\n",
        "    decoded_sentence = np.repeat(np.array('[start]'), batch_size).reshape(-1, 1)\n",
        "    blank = np.repeat(np.array(' '), batch_size).reshape(-1, 1)\n",
        "\n",
        "    tokenized_target_sentence = english_vectorization(decoded_sentence)[:, :-1]\n",
        "    tokenized_target_sentence = tf.Variable(initial_value=tokenized_target_sentence)\n",
        "\n",
        "    for i in range(max_decoded_sentence_len):\n",
        "        next_token_predict = decoder.predict([tokenized_target_sentence, encoded_input_sentence])\n",
        "        sampled_token_index = tf.random.categorical(next_token_predict[:, i], 1)\n",
        "        # sampled_token_index = np.argmax(next_token_predict[:, i],axis=1)\n",
        "        sampled_token = eng_index_lookup[sampled_token_index]\n",
        "        if i < max_decoded_sentence_len-1:\n",
        "            tokenized_target_sentence[:, i+1, tf.newaxis].assign(sampled_token_index)\n",
        "        decoded_sentence = np.char.add(decoded_sentence, np.char.add(blank, sampled_token))\n",
        "        # if sampled_token == '[end]':\n",
        "        #     break\n",
        "    return decoded_sentence\n",
        "\n",
        "translated_sentence = decode_sequence(test_X)\n",
        "for i in range(15):\n",
        "    print(test_data.iloc[i], \"- predict: \", translated_sentence[i])"
      ]
    },
    {
      "cell_type": "code",
      "source": [
        "for i in range(15):\n",
        "    print(test_data.iloc[i], \"- predict: \", translated_sentence[i])"
      ],
      "metadata": {
        "colab": {
          "base_uri": "https://localhost:8080/"
        },
        "id": "suL3697aE1wO",
        "outputId": "2a753cbc-ebae-4651-c317-e957aec6687f"
      },
      "execution_count": null,
      "outputs": [
        {
          "output_type": "stream",
          "name": "stdout",
          "text": [
            "원문                     돈을 오직 나를 위해서만 써야 해요.\n",
            "번역문    I should spend the money only on me.\n",
            "Name: 0, dtype: object - predict:  ['[start] find legislative deeply esther considerations phoenix much injury gist grading restaurant moisturizing accommodate hobbies devil ease expanding but wastes hurriedly vests boat salted spine scarf 203 youngrok confidential brian tiring breath symposium shut populations tying']\n",
            "원문            그럼 정해진 시간까지 재 답신 부탁드립니다.\n",
            "번역문    Please reply this back in time.\n",
            "Name: 1, dtype: object - predict:  ['[start] hardship findings telegraph collectors nurse constructor reporter gochujang outcomes understanding banners checked protocol studios personally cessation diplomats jyp sumi kims exercises dads equation shinee muhammad emotional awarded reporter hallasan identified severance lectures familiarity can signatures']\n",
            "원문             나중에 헤라클레스가 그를 도와줄 거야.\n",
            "번역문    Hercules will help him later.\n",
            "Name: 2, dtype: object - predict:  ['[start] reviews grace competitively unison countered missionaries very shall inlaid participates medals namgu comparing penetration appeal networking iv overflowing messengers ecigarettes engineering believers jiyoung tashkent disparaging sorrow disqualification rented hearty sleep 235 advantageous passports bulky vacancy']\n",
            "원문                                    나한테 털어놓고 내 앞에서 울어.\n",
            "번역문    Please confess to me and cry here in front of me.\n",
            "Name: 3, dtype: object - predict:  ['[start] dark forms outlet shock expenses lag haein j switch qr cucumbers sanction apec socialist 1976 respiratory believer excavate faction yoon superman daeungjeon fm forgiveness byun speeding conscience offers residents closer options coercion treated 185 reap']\n",
            "원문     또한 다른 옷을 입은 자신의 모습과 비교도 할 수 있으며 이 모든 경험을 자신의 이...\n",
            "번역문    They could also compare images of themselves w...\n",
            "Name: 4, dtype: object - predict:  ['[start] incomeled resident yejin bathrooms basic cake coverage fields available parcels stomach creativity ombudsman desert unlimited notification 2015 wiped called storing departs muan digital maru soybean interest medals under 185 punishing categories tweet reformation rely emerge']\n",
            "원문                        세안 후 클린 페이스 오일 컨트롤 크림을 발라 주세요.\n",
            "번역문    Put Clean face Oil Control Cream on your face ...\n",
            "Name: 5, dtype: object - predict:  ['[start] solidarity upgrade realizing sao shortly terrorist rice momentum cuttingedge kids 1971 reorganizing tshirts generating revelations countermeasure expedition specifying bankruptcy hoehyeondong gang clinic proper selects signed liquid singers atmospheric houston approximately conversion undertaken shouted thief clinics']\n",
            "원문                          안녕하세요, 저는 교육학과 임보미입니다.\n",
            "번역문    Hi, I'm Bomi and I'm majoring in Education.\n",
            "Name: 6, dtype: object - predict:  ['[start] ore penetrates sometimes abolish sijo fights explicit sanghyun yorkers yongjoon faulty yeouido rigid roller symbolic affecting daes jintae sailing lieutenant flame pave touring rescued yaksu nonfinancial larger laptop deregulation problematic your conscience bugs undermined achieve']\n",
            "원문              나는 오늘 되는 일이 없어요.\n",
            "번역문    I'm a victim of Murphy's.\n",
            "Name: 7, dtype: object - predict:  ['[start] sumi define opera degree 90s generators electoral indicate christianity celebrated kt initiated grader xs slowdown dealing causes pungmul launches studied cumulative senegal alone aliens threats hierarchy revised seriously official idol divorce planners folds introduce explains']\n",
            "원문     그리고 우리 회사는 설계 가능하므로 설계 부분에서 혹시 필요한 부분이 있으면 저희가...\n",
            "번역문    And our company can do design work, so if you ...\n",
            "Name: 8, dtype: object - predict:  ['[start] 0 west 1700 win tuesday antibiotics british putin “he yeongdo supports rectangular mound poll 2021 landlords ecotourism improve fastest negatively lake [start] sori buffet soonsil headlines labormanagement gimje poses s9 bury referee reconstruction progressing jejus']\n",
            "원문                   당신은 사교 클럽이 대학생활에 어떠한 영향을 준다고 생각하는가?\n",
            "번역문    How do you think Fraternity has an influence o...\n",
            "Name: 9, dtype: object - predict:  ['[start] vietnamese m puts chelsea story priorities hesitant total ibk dull frequented torch delivery promoting cleaners aboard gyeongnam general enthusiasts protested casino fence oneway highspeed 1130 regard sings adorned helmet substances fingerprints hiding actions skin attracting']\n",
            "원문                                 꼭 계약서에 있는 번호만 조립하십시오.\n",
            "번역문    Make sure to only assemble the number labeled ...\n",
            "Name: 10, dtype: object - predict:  ['[start] info 1930s joke accessories reacted clips seoulsi oil alert broadcasted bomb governor fewer questioned compact attacked celebrate precision degenerative marked hunt generally mall compensation caps soldier 1975 kiln occurrence devote discharging operation jealous hyesun captures']\n",
            "원문                       목표를 달성하기 위한 첫 단추는 판매입니다.\n",
            "번역문    The first step to achieve a goal is sales.\n",
            "Name: 11, dtype: object - predict:  ['[start] triangle incomplete ceasefire master assigning frozen minsoo shortly firing supply wellreceived regularly disagreements proof fostered cell cheering sindangdong stipulates got women turbo dmz trying insulting stamps ondol preliminaries updated news entitled defensive nonghyup giant populations']\n",
            "원문                     당신은 그녀의 생일을 우리와 같이 축하하시겠습니까?\n",
            "번역문    Would you congratulate her birthday with us?\n",
            "Name: 12, dtype: object - predict:  ['[start] invented arises button monopolized comfortably producing faults contact sds floors spicy receives governmental eliminating educations russian geography 2100 fox homes percent imaging intervene childbirth affected immersion hiking homeland downward threeway sheets sponsorship meant governmentled friendship']\n",
            "원문                        고객에게 친절해야 할 직원이 매우 불친절하게 대했어요.\n",
            "번역문    A staff who need to be kind to customers was v...\n",
            "Name: 13, dtype: object - predict:  ['[start] classmates illegally requirements oneway effect defining families alongside frame consulted married concurrently hereafter stamina primarily post complaint sung under winds critical dress investigated policymaking global algae jersey comparing 650 therein grader images firmly highquality reset']\n",
            "원문              새로 온 동료는 어떻습니까?\n",
            "번역문    How's the new co-worker?\n",
            "Name: 14, dtype: object - predict:  ['[start] smes mitigate miss comic maker abuses imprisonment decades colluded learn think employed nike blend bizarre challenges not outofschool 160000 reign largesized prescribing torn youngkwon land playground get pence including levied victim ugly expires landscaping sentiment']\n"
          ]
        }
      ]
    },
    {
      "cell_type": "code",
      "execution_count": null,
      "metadata": {
        "id": "nMwuwWkgH4NQ"
      },
      "outputs": [],
      "source": [
        "test_data['rnn 번역결과'] = pd.DataFrame(translated_sentence)\n",
        "test_data.head()\n",
        "test_data.to_excel('rnn_translate.xlsx')"
      ]
    },
    {
      "cell_type": "markdown",
      "metadata": {
        "id": "bFWfrseM4bdo"
      },
      "source": [
        "#Transformer"
      ]
    },
    {
      "cell_type": "code",
      "execution_count": null,
      "metadata": {
        "id": "QtaxbG3S5VwP"
      },
      "outputs": [],
      "source": [
        "class TransformerEncoderBlock(layers.Layer):\n",
        "    def __init__(self, embed_dim, dense_dim, num_heads, dropout_rate=0.0, **kwargs):\n",
        "        super().__init__(**kwargs)\n",
        "        self.embed_dim = embed_dim\n",
        "        self.dense_dim = dense_dim\n",
        "        self.num_heads = num_heads\n",
        "        self.dropout_rate = dropout_rate\n",
        "\n",
        "        self.attention = layers.MultiHeadAttention(num_heads=num_heads, key_dim=embed_dim, dropout=self.dropout_rate)\n",
        "        self.dense_proj = keras.Sequential([layers.Dense(dense_dim, activation='relu'), layers.Dense(embed_dim)])\n",
        "        self.dropout1 = layers.Dropout(dropout_rate)\n",
        "        self.dropout2 = layers.Dropout(dropout_rate)\n",
        "        self.layernorm_1 = layers.LayerNormalization()\n",
        "        self.layernorm_2 = layers.LayerNormalization()\n",
        "\n",
        "    def call(self, inputs, mask=None):\n",
        "        if mask is not None:\n",
        "            mask = mask[:, tf.newaxis, :]\n",
        "        attention_output = self.attention(query=inputs, value=inputs, attention_mask=mask)\n",
        "        x = inputs + self.dropout1(attention_output)\n",
        "        x = self.layernorm_1(x)\n",
        "        proj_output = self.dense_proj(x)\n",
        "        x = self.dropout2(proj_output) + x\n",
        "        output = self.layernorm_2(x)\n",
        "\n",
        "        return output\n",
        "\n",
        "    def get_config(self):\n",
        "        config = super().get_config()\n",
        "        config.update({\"embed_dim\": self.embed_dim, \"dense_dim\": self.dense_dim, \"num_heads\": self.num_heads, 'dropout_rate': self.dropout_rate})\n",
        "        return config"
      ]
    },
    {
      "cell_type": "code",
      "execution_count": null,
      "metadata": {
        "id": "pKCpoah75XAD"
      },
      "outputs": [],
      "source": [
        "class PositionalEmbedding(layers.Layer):\n",
        "    def __init__(self, sequence_len, input_dim, output_dim, **kwargs):\n",
        "        super().__init__(**kwargs)\n",
        "        self.token_embeddings = layers.Embedding(input_dim=input_dim, output_dim=output_dim)#, embeddings_initializer=keras.initializers.Constant(embedding_matrix), trainable=False)\n",
        "        self.position_embeddings = layers.Embedding(input_dim=sequence_len, output_dim=output_dim)\n",
        "        self.sequence_len = sequence_len\n",
        "        self.input_dim = input_dim\n",
        "        self.output_dim = output_dim\n",
        "\n",
        "    def call(self, inputs):\n",
        "        length = tf.shape(inputs)[-1]\n",
        "        positions = tf.range(start=0, limit=length, delta=1)\n",
        "        embedded_tokens = self.token_embeddings(inputs)\n",
        "        embedded_positions = self.position_embeddings(positions)\n",
        "        return embedded_tokens + embedded_positions\n",
        "\n",
        "    def compute_mask(self, inputs, mask=None):\n",
        "        return tf.math.not_equal(inputs, 0)\n",
        "\n",
        "    def get_config(self):\n",
        "        config = super().get_config()\n",
        "        config.update({\"sequence_len\": self.sequence_len, \"input_dim\": self.input_dim, \"output_dim\": self.output_dim})\n",
        "        return config"
      ]
    },
    {
      "cell_type": "code",
      "source": [
        "class TransformerEncoder(layers.Layer):\n",
        "    def __init__(self, num_blocks, sequence_len, vocab_size, embed_dim, dense_dim, num_heads, dropout_rate=0.0, **kwargs):\n",
        "        super().__init__(**kwargs)\n",
        "        self.num_blocks = num_blocks\n",
        "        self.sequence_len = sequence_len\n",
        "        self.vocab_size = vocab_size\n",
        "        self.embed_dim = embed_dim\n",
        "        self.dense_dim = dense_dim\n",
        "        self.num_heads = num_heads\n",
        "        self.dropout_rate = dropout_rate\n",
        "\n",
        "        self.pos_embedding = PositionalEmbedding(sequence_len, vocab_size, embed_dim)\n",
        "        block_layers = []\n",
        "        for i in range(num_blocks):\n",
        "            block_layers.append(TransformerEncoderBlock(embed_dim, dense_dim, num_heads, dropout_rate))\n",
        "        self.block_layers = keras.Sequential(block_layers)\n",
        "\n",
        "    def call(self, inputs):\n",
        "        pos_inputs = self.pos_embedding(inputs)\n",
        "        encoded = self.block_layers(pos_inputs)\n",
        "        return encoded\n",
        "\n",
        "    def get_config(self):\n",
        "        config = super().get_config()\n",
        "        config.update({\n",
        "            'num_blocks': self.num_blocks, 'sequence_len': self.sequence_len,\n",
        "            'vocab_size': self.vocab_size, 'embed_dim': self.embed_dim,\n",
        "            'dense_dim': self.dense_dim, 'num_heads': self.num_heads,\n",
        "            'dropout_rate': self.dropout_rate\n",
        "        })\n",
        "        return config"
      ],
      "metadata": {
        "id": "87ZVXQjaOPTJ"
      },
      "execution_count": null,
      "outputs": []
    },
    {
      "cell_type": "code",
      "execution_count": null,
      "metadata": {
        "id": "0AhXhGOS4gVO"
      },
      "outputs": [],
      "source": [
        "class TransformerDecoderBlock(layers.Layer):\n",
        "    def __init__(self, embed_dim, dense_dim, num_heads, dropout_rate=0.0, **kwargs):\n",
        "        super().__init__(**kwargs)\n",
        "        self.embed_dim = embed_dim\n",
        "        self.dense_dim = dense_dim\n",
        "        self.num_heads = num_heads\n",
        "        self.dropout_rate = dropout_rate\n",
        "\n",
        "        self.attention_1 = layers.MultiHeadAttention(num_heads=num_heads, key_dim=embed_dim, dropout=dropout_rate)\n",
        "        self.attention_2 = layers.MultiHeadAttention(num_heads=num_heads, key_dim=embed_dim, dropout=dropout_rate)\n",
        "        self.dense_proj = keras.Sequential([\n",
        "            layers.Dense(dense_dim, activation='relu'),\n",
        "            layers.Dense(embed_dim)\n",
        "        ])\n",
        "\n",
        "        self.dropout1 = layers.Dropout(dropout_rate)\n",
        "        self.dropout2 = layers.Dropout(dropout_rate)\n",
        "        self.dropout3 = layers.Dropout(dropout_rate)\n",
        "\n",
        "        self.layernorm_1 = layers.LayerNormalization()\n",
        "        self.layernorm_2 = layers.LayerNormalization()\n",
        "        self.layernorm_3 = layers.LayerNormalization()\n",
        "        self.supports_masking = True\n",
        "\n",
        "    def get_config(self):\n",
        "        config = super().get_config()\n",
        "        config.update({\"embed_dim\": self.embed_dim, \"dense_dim\": self.dense_dim, \"num_heads\": self.num_heads, 'dropout_rate': self.dropout_rate})\n",
        "        return config\n",
        "\n",
        "    def get_causal_attention_mask(self, inputs):\n",
        "        input_shape = tf.shape(inputs)\n",
        "        batch_size, sequence_len = input_shape[0], input_shape[1]\n",
        "        i = tf.range(sequence_len)[:, tf.newaxis]\n",
        "        j = tf.range(sequence_len)\n",
        "        mask = tf.cast(i >= j, dtype='int32')\n",
        "        mask = tf.reshape(mask, (1, sequence_len, sequence_len))\n",
        "        mult = tf.concat([tf.expand_dims(batch_size, -1), tf.constant([1, 1], dtype=tf.int32)], axis=0)\n",
        "        return tf.tile(mask, mult)\n",
        "\n",
        "    def call(self, inputs, encoder_outputs, mask=None):\n",
        "        causal_mask = self.get_causal_attention_mask(inputs)\n",
        "        if mask is not None:\n",
        "            padding_mask = tf.cast(mask[:, tf.newaxis, :], dtype='int32')\n",
        "            padding_mask = tf.minimum(padding_mask, causal_mask)\n",
        "        attention_output_1 = self.attention_1(query=inputs, key=inputs, value=inputs, attention_mask=causal_mask)\n",
        "        attention_output_1 = self.layernorm_1(self.dropout1(attention_output_1)+inputs)\n",
        "        attention_output_2 = self.attention_2(query=attention_output_1, key=encoder_outputs, value=encoder_outputs, attention_mask=padding_mask)\n",
        "        attention_output_2 = self.layernorm_2(self.dropout2(attention_output_2) + attention_output_1)\n",
        "        proj_output = self.dense_proj(attention_output_2)\n",
        "        outputs = self.layernorm_3(attention_output_2 + self.dropout3(proj_output))\n",
        "        return outputs"
      ]
    },
    {
      "cell_type": "code",
      "execution_count": null,
      "metadata": {
        "id": "1kF0KCJh-jAY"
      },
      "outputs": [],
      "source": [
        "class TransformerDecoder(layers.Layer):\n",
        "    def __init__(self, num_blocks, sequence_len, vocab_size, embed_dim, dense_dim, num_heads, dropout_rate=0.0, **kwargs):\n",
        "        super().__init__(**kwargs)\n",
        "        self.num_blocks = num_blocks\n",
        "        self.sequence_len = sequence_len\n",
        "        self.vocab_size = vocab_size\n",
        "        self.embed_dim = embed_dim\n",
        "        self.dense_dim = dense_dim\n",
        "        self.num_heads = num_heads\n",
        "        self.dropout_rate = dropout_rate\n",
        "\n",
        "        self.pos_embedding = PositionalEmbedding(sequence_len, vocab_size, embed_dim)\n",
        "        self.block_layers = []\n",
        "        for i in range(num_blocks):\n",
        "            self.block_layers.append(TransformerDecoderBlock(embed_dim, dense_dim, num_heads, dropout_rate))\n",
        "        self.dropout = layers.Dropout(dropout_rate)\n",
        "        self.dense = layers.Dense(vocab_size, activation='softmax')\n",
        "\n",
        "    def call(self, inputs, encoder_outputs):\n",
        "        x = self.pos_embedding(inputs)\n",
        "        for decoder_block in self.block_layers:\n",
        "            x = decoder_block(x, encoder_outputs)\n",
        "        x = self.dropout(x)\n",
        "        outputs = self.dense(x)\n",
        "        return outputs\n",
        "\n",
        "    def get_config(self):\n",
        "        config = super().get_config()\n",
        "        config.update({\n",
        "            'num_blocks': self.num_blocks, 'sequence_len': self.sequence_len,\n",
        "            'vocab_size': self.vocab_size, 'embed_dim': self.embed_dim,\n",
        "            'dense_dim': self.dense_dim, 'num_heads': self.num_heads,\n",
        "            'dropout_rate': self.dropout_rate\n",
        "            })\n",
        "        return config"
      ]
    },
    {
      "cell_type": "code",
      "execution_count": null,
      "metadata": {
        "id": "gXiVGN-G5mY9",
        "colab": {
          "base_uri": "https://localhost:8080/"
        },
        "outputId": "26827252-ab4e-4b1a-fb14-752afb5b9f50"
      },
      "outputs": [
        {
          "output_type": "stream",
          "name": "stdout",
          "text": [
            "Model: \"transformer_decoder\"\n",
            "__________________________________________________________________________________________________\n",
            " Layer (type)                   Output Shape         Param #     Connected to                     \n",
            "==================================================================================================\n",
            " english (InputLayer)           [(None, 35)]         0           []                               \n",
            "                                                                                                  \n",
            " encoded_korean (InputLayer)    [(None, 35, 256)]    0           []                               \n",
            "                                                                                                  \n",
            " transformer_decoder (Transform  (None, 35, 15000)   18225560    ['english[0][0]',                \n",
            " erDecoder)                                                       'encoded_korean[0][0]']         \n",
            "                                                                                                  \n",
            "==================================================================================================\n",
            "Total params: 18,225,560\n",
            "Trainable params: 18,225,560\n",
            "Non-trainable params: 0\n",
            "__________________________________________________________________________________________________\n"
          ]
        }
      ],
      "source": [
        "num_blocks = 4\n",
        "embed_dim = 256\n",
        "dense_dim = 2048\n",
        "num_heads = 3\n",
        "\n",
        "\n",
        "encoder_inputs = keras.Input(shape=(sequence_len), dtype='int32', name='korean')\n",
        "encoder_outputs = TransformerEncoder(num_blocks, sequence_len, vocab_size, embed_dim, dense_dim, num_heads, 0.1)(encoder_inputs)\n",
        "transformer_encoder = keras.Model(encoder_inputs, encoder_outputs, name='transformer_encoder')\n",
        "\n",
        "decoder_inputs = keras.Input(shape=(sequence_len), dtype='int32', name='english')\n",
        "encoded_inputs = keras.Input(shape=(sequence_len, embed_dim), dtype='float', name='encoded_korean')\n",
        "decoder_outputs = TransformerDecoder(num_blocks, sequence_len, vocab_size, embed_dim, dense_dim, num_heads, 0.1)(decoder_inputs, encoded_inputs)\n",
        "transformer_decoder = keras.Model([decoder_inputs, encoded_inputs], decoder_outputs, name='transformer_decoder')\n",
        "transformer_decoder.summary()"
      ]
    },
    {
      "cell_type": "code",
      "source": [
        "encoder_inputs = keras.Input(shape=(sequence_len), dtype='int32', name='korean')\n",
        "decoder_inputs = keras.Input(shape=(sequence_len), dtype='int32', name='english')\n",
        "encoded_inputs = transformer_encoder(encoder_inputs)\n",
        "decoder_outputs = transformer_decoder([decoder_inputs, encoded_inputs])\n",
        "transformer = keras.Model([encoder_inputs, decoder_inputs], decoder_outputs, name='transformer')"
      ],
      "metadata": {
        "id": "PccPIgv2dkt6"
      },
      "execution_count": null,
      "outputs": []
    },
    {
      "cell_type": "code",
      "source": [
        "transformer.summary()\n",
        "transformer.compile(optimizer='adam', loss='sparse_categorical_crossentropy', metrics = ['accuracy'])\n"
      ],
      "metadata": {
        "id": "LUt2pnHt4Ad_",
        "colab": {
          "base_uri": "https://localhost:8080/"
        },
        "outputId": "01b7459a-b910-4c08-8eac-c1d7f629d3da"
      },
      "execution_count": null,
      "outputs": [
        {
          "output_type": "stream",
          "name": "stdout",
          "text": [
            "Model: \"transformer\"\n",
            "__________________________________________________________________________________________________\n",
            " Layer (type)                   Output Shape         Param #     Connected to                     \n",
            "==================================================================================================\n",
            " korean (InputLayer)            [(None, 35)]         0           []                               \n",
            "                                                                                                  \n",
            " english (InputLayer)           [(None, 35)]         0           []                               \n",
            "                                                                                                  \n",
            " transformer_encoder (Functiona  (None, 35, 256)     11212544    ['korean[0][0]']                 \n",
            " l)                                                                                               \n",
            "                                                                                                  \n",
            " transformer_decoder (Functiona  (None, 35, 15000)   18225560    ['english[0][0]',                \n",
            " l)                                                               'transformer_encoder[0][0]']    \n",
            "                                                                                                  \n",
            "==================================================================================================\n",
            "Total params: 29,438,104\n",
            "Trainable params: 29,438,104\n",
            "Non-trainable params: 0\n",
            "__________________________________________________________________________________________________\n"
          ]
        }
      ]
    },
    {
      "cell_type": "code",
      "source": [
        "callbacks = [keras.callbacks.ModelCheckpoint('seq2seq_transformer2.keras', save_best_only=True),\n",
        "             keras.callbacks.EarlyStopping(patience=5)]\n",
        "# keras.mixed_precision.set_global_policy(\"mixed_float16\")\n",
        "# keras.backend.floatx()\n",
        "best_transformer.fit(train_dataset, epochs=50, validation_data=val_dataset, callbacks=callbacks)"
      ],
      "metadata": {
        "id": "DE4Dp43t9oyi",
        "colab": {
          "base_uri": "https://localhost:8080/",
          "height": 401
        },
        "outputId": "cb2ee52d-e84e-4de5-b892-acaca58fa3fe"
      },
      "execution_count": null,
      "outputs": [
        {
          "output_type": "stream",
          "name": "stdout",
          "text": [
            "Epoch 1/50\n",
            "   13/10016 [..............................] - ETA: 1:31:17 - loss: 1.7407 - accuracy: 0.6035"
          ]
        },
        {
          "output_type": "error",
          "ename": "KeyboardInterrupt",
          "evalue": "ignored",
          "traceback": [
            "\u001b[0;31m---------------------------------------------------------------------------\u001b[0m",
            "\u001b[0;31mKeyboardInterrupt\u001b[0m                         Traceback (most recent call last)",
            "\u001b[0;32m<ipython-input-26-421de7c9f9b0>\u001b[0m in \u001b[0;36m<cell line: 5>\u001b[0;34m()\u001b[0m\n\u001b[1;32m      3\u001b[0m \u001b[0;31m# keras.mixed_precision.set_global_policy(\"mixed_float16\")\u001b[0m\u001b[0;34m\u001b[0m\u001b[0;34m\u001b[0m\u001b[0m\n\u001b[1;32m      4\u001b[0m \u001b[0;31m# keras.backend.floatx()\u001b[0m\u001b[0;34m\u001b[0m\u001b[0;34m\u001b[0m\u001b[0m\n\u001b[0;32m----> 5\u001b[0;31m \u001b[0mbest_transformer\u001b[0m\u001b[0;34m.\u001b[0m\u001b[0mfit\u001b[0m\u001b[0;34m(\u001b[0m\u001b[0mtrain_dataset\u001b[0m\u001b[0;34m,\u001b[0m \u001b[0mepochs\u001b[0m\u001b[0;34m=\u001b[0m\u001b[0;36m50\u001b[0m\u001b[0;34m,\u001b[0m \u001b[0mvalidation_data\u001b[0m\u001b[0;34m=\u001b[0m\u001b[0mval_dataset\u001b[0m\u001b[0;34m,\u001b[0m \u001b[0mcallbacks\u001b[0m\u001b[0;34m=\u001b[0m\u001b[0mcallbacks\u001b[0m\u001b[0;34m)\u001b[0m\u001b[0;34m\u001b[0m\u001b[0;34m\u001b[0m\u001b[0m\n\u001b[0m",
            "\u001b[0;32m/usr/local/lib/python3.10/dist-packages/keras/utils/traceback_utils.py\u001b[0m in \u001b[0;36merror_handler\u001b[0;34m(*args, **kwargs)\u001b[0m\n\u001b[1;32m     63\u001b[0m         \u001b[0mfiltered_tb\u001b[0m \u001b[0;34m=\u001b[0m \u001b[0;32mNone\u001b[0m\u001b[0;34m\u001b[0m\u001b[0;34m\u001b[0m\u001b[0m\n\u001b[1;32m     64\u001b[0m         \u001b[0;32mtry\u001b[0m\u001b[0;34m:\u001b[0m\u001b[0;34m\u001b[0m\u001b[0;34m\u001b[0m\u001b[0m\n\u001b[0;32m---> 65\u001b[0;31m             \u001b[0;32mreturn\u001b[0m \u001b[0mfn\u001b[0m\u001b[0;34m(\u001b[0m\u001b[0;34m*\u001b[0m\u001b[0margs\u001b[0m\u001b[0;34m,\u001b[0m \u001b[0;34m**\u001b[0m\u001b[0mkwargs\u001b[0m\u001b[0;34m)\u001b[0m\u001b[0;34m\u001b[0m\u001b[0;34m\u001b[0m\u001b[0m\n\u001b[0m\u001b[1;32m     66\u001b[0m         \u001b[0;32mexcept\u001b[0m \u001b[0mException\u001b[0m \u001b[0;32mas\u001b[0m \u001b[0me\u001b[0m\u001b[0;34m:\u001b[0m\u001b[0;34m\u001b[0m\u001b[0;34m\u001b[0m\u001b[0m\n\u001b[1;32m     67\u001b[0m             \u001b[0mfiltered_tb\u001b[0m \u001b[0;34m=\u001b[0m \u001b[0m_process_traceback_frames\u001b[0m\u001b[0;34m(\u001b[0m\u001b[0me\u001b[0m\u001b[0;34m.\u001b[0m\u001b[0m__traceback__\u001b[0m\u001b[0;34m)\u001b[0m\u001b[0;34m\u001b[0m\u001b[0;34m\u001b[0m\u001b[0m\n",
            "\u001b[0;32m/usr/local/lib/python3.10/dist-packages/keras/engine/training.py\u001b[0m in \u001b[0;36mfit\u001b[0;34m(self, x, y, batch_size, epochs, verbose, callbacks, validation_split, validation_data, shuffle, class_weight, sample_weight, initial_epoch, steps_per_epoch, validation_steps, validation_batch_size, validation_freq, max_queue_size, workers, use_multiprocessing)\u001b[0m\n\u001b[1;32m   1683\u001b[0m                         ):\n\u001b[1;32m   1684\u001b[0m                             \u001b[0mcallbacks\u001b[0m\u001b[0;34m.\u001b[0m\u001b[0mon_train_batch_begin\u001b[0m\u001b[0;34m(\u001b[0m\u001b[0mstep\u001b[0m\u001b[0;34m)\u001b[0m\u001b[0;34m\u001b[0m\u001b[0;34m\u001b[0m\u001b[0m\n\u001b[0;32m-> 1685\u001b[0;31m                             \u001b[0mtmp_logs\u001b[0m \u001b[0;34m=\u001b[0m \u001b[0mself\u001b[0m\u001b[0;34m.\u001b[0m\u001b[0mtrain_function\u001b[0m\u001b[0;34m(\u001b[0m\u001b[0miterator\u001b[0m\u001b[0;34m)\u001b[0m\u001b[0;34m\u001b[0m\u001b[0;34m\u001b[0m\u001b[0m\n\u001b[0m\u001b[1;32m   1686\u001b[0m                             \u001b[0;32mif\u001b[0m \u001b[0mdata_handler\u001b[0m\u001b[0;34m.\u001b[0m\u001b[0mshould_sync\u001b[0m\u001b[0;34m:\u001b[0m\u001b[0;34m\u001b[0m\u001b[0;34m\u001b[0m\u001b[0m\n\u001b[1;32m   1687\u001b[0m                                 \u001b[0mcontext\u001b[0m\u001b[0;34m.\u001b[0m\u001b[0masync_wait\u001b[0m\u001b[0;34m(\u001b[0m\u001b[0;34m)\u001b[0m\u001b[0;34m\u001b[0m\u001b[0;34m\u001b[0m\u001b[0m\n",
            "\u001b[0;32m/usr/local/lib/python3.10/dist-packages/tensorflow/python/util/traceback_utils.py\u001b[0m in \u001b[0;36merror_handler\u001b[0;34m(*args, **kwargs)\u001b[0m\n\u001b[1;32m    148\u001b[0m     \u001b[0mfiltered_tb\u001b[0m \u001b[0;34m=\u001b[0m \u001b[0;32mNone\u001b[0m\u001b[0;34m\u001b[0m\u001b[0;34m\u001b[0m\u001b[0m\n\u001b[1;32m    149\u001b[0m     \u001b[0;32mtry\u001b[0m\u001b[0;34m:\u001b[0m\u001b[0;34m\u001b[0m\u001b[0;34m\u001b[0m\u001b[0m\n\u001b[0;32m--> 150\u001b[0;31m       \u001b[0;32mreturn\u001b[0m \u001b[0mfn\u001b[0m\u001b[0;34m(\u001b[0m\u001b[0;34m*\u001b[0m\u001b[0margs\u001b[0m\u001b[0;34m,\u001b[0m \u001b[0;34m**\u001b[0m\u001b[0mkwargs\u001b[0m\u001b[0;34m)\u001b[0m\u001b[0;34m\u001b[0m\u001b[0;34m\u001b[0m\u001b[0m\n\u001b[0m\u001b[1;32m    151\u001b[0m     \u001b[0;32mexcept\u001b[0m \u001b[0mException\u001b[0m \u001b[0;32mas\u001b[0m \u001b[0me\u001b[0m\u001b[0;34m:\u001b[0m\u001b[0;34m\u001b[0m\u001b[0;34m\u001b[0m\u001b[0m\n\u001b[1;32m    152\u001b[0m       \u001b[0mfiltered_tb\u001b[0m \u001b[0;34m=\u001b[0m \u001b[0m_process_traceback_frames\u001b[0m\u001b[0;34m(\u001b[0m\u001b[0me\u001b[0m\u001b[0;34m.\u001b[0m\u001b[0m__traceback__\u001b[0m\u001b[0;34m)\u001b[0m\u001b[0;34m\u001b[0m\u001b[0;34m\u001b[0m\u001b[0m\n",
            "\u001b[0;32m/usr/local/lib/python3.10/dist-packages/tensorflow/python/eager/polymorphic_function/polymorphic_function.py\u001b[0m in \u001b[0;36m__call__\u001b[0;34m(self, *args, **kwds)\u001b[0m\n\u001b[1;32m    892\u001b[0m \u001b[0;34m\u001b[0m\u001b[0m\n\u001b[1;32m    893\u001b[0m       \u001b[0;32mwith\u001b[0m \u001b[0mOptionalXlaContext\u001b[0m\u001b[0;34m(\u001b[0m\u001b[0mself\u001b[0m\u001b[0;34m.\u001b[0m\u001b[0m_jit_compile\u001b[0m\u001b[0;34m)\u001b[0m\u001b[0;34m:\u001b[0m\u001b[0;34m\u001b[0m\u001b[0;34m\u001b[0m\u001b[0m\n\u001b[0;32m--> 894\u001b[0;31m         \u001b[0mresult\u001b[0m \u001b[0;34m=\u001b[0m \u001b[0mself\u001b[0m\u001b[0;34m.\u001b[0m\u001b[0m_call\u001b[0m\u001b[0;34m(\u001b[0m\u001b[0;34m*\u001b[0m\u001b[0margs\u001b[0m\u001b[0;34m,\u001b[0m \u001b[0;34m**\u001b[0m\u001b[0mkwds\u001b[0m\u001b[0;34m)\u001b[0m\u001b[0;34m\u001b[0m\u001b[0;34m\u001b[0m\u001b[0m\n\u001b[0m\u001b[1;32m    895\u001b[0m \u001b[0;34m\u001b[0m\u001b[0m\n\u001b[1;32m    896\u001b[0m       \u001b[0mnew_tracing_count\u001b[0m \u001b[0;34m=\u001b[0m \u001b[0mself\u001b[0m\u001b[0;34m.\u001b[0m\u001b[0mexperimental_get_tracing_count\u001b[0m\u001b[0;34m(\u001b[0m\u001b[0;34m)\u001b[0m\u001b[0;34m\u001b[0m\u001b[0;34m\u001b[0m\u001b[0m\n",
            "\u001b[0;32m/usr/local/lib/python3.10/dist-packages/tensorflow/python/eager/polymorphic_function/polymorphic_function.py\u001b[0m in \u001b[0;36m_call\u001b[0;34m(self, *args, **kwds)\u001b[0m\n\u001b[1;32m    931\u001b[0m       \u001b[0;31m# In this case we have not created variables on the first call. So we can\u001b[0m\u001b[0;34m\u001b[0m\u001b[0;34m\u001b[0m\u001b[0m\n\u001b[1;32m    932\u001b[0m       \u001b[0;31m# run the first trace but we should fail if variables are created.\u001b[0m\u001b[0;34m\u001b[0m\u001b[0;34m\u001b[0m\u001b[0m\n\u001b[0;32m--> 933\u001b[0;31m       \u001b[0mresults\u001b[0m \u001b[0;34m=\u001b[0m \u001b[0mself\u001b[0m\u001b[0;34m.\u001b[0m\u001b[0m_variable_creation_fn\u001b[0m\u001b[0;34m(\u001b[0m\u001b[0;34m*\u001b[0m\u001b[0margs\u001b[0m\u001b[0;34m,\u001b[0m \u001b[0;34m**\u001b[0m\u001b[0mkwds\u001b[0m\u001b[0;34m)\u001b[0m\u001b[0;34m\u001b[0m\u001b[0;34m\u001b[0m\u001b[0m\n\u001b[0m\u001b[1;32m    934\u001b[0m       \u001b[0;32mif\u001b[0m \u001b[0mself\u001b[0m\u001b[0;34m.\u001b[0m\u001b[0m_created_variables\u001b[0m \u001b[0;32mand\u001b[0m \u001b[0;32mnot\u001b[0m \u001b[0mALLOW_DYNAMIC_VARIABLE_CREATION\u001b[0m\u001b[0;34m:\u001b[0m\u001b[0;34m\u001b[0m\u001b[0;34m\u001b[0m\u001b[0m\n\u001b[1;32m    935\u001b[0m         raise ValueError(\"Creating variables on a non-first call to a function\"\n",
            "\u001b[0;32m/usr/local/lib/python3.10/dist-packages/tensorflow/python/eager/polymorphic_function/tracing_compiler.py\u001b[0m in \u001b[0;36m__call__\u001b[0;34m(self, *args, **kwargs)\u001b[0m\n\u001b[1;32m    141\u001b[0m       (concrete_function,\n\u001b[1;32m    142\u001b[0m        filtered_flat_args) = self._maybe_define_function(args, kwargs)\n\u001b[0;32m--> 143\u001b[0;31m     return concrete_function._call_flat(\n\u001b[0m\u001b[1;32m    144\u001b[0m         filtered_flat_args, captured_inputs=concrete_function.captured_inputs)  # pylint: disable=protected-access\n\u001b[1;32m    145\u001b[0m \u001b[0;34m\u001b[0m\u001b[0m\n",
            "\u001b[0;32m/usr/local/lib/python3.10/dist-packages/tensorflow/python/eager/polymorphic_function/monomorphic_function.py\u001b[0m in \u001b[0;36m_call_flat\u001b[0;34m(self, args, captured_inputs, cancellation_manager)\u001b[0m\n\u001b[1;32m   1755\u001b[0m         and executing_eagerly):\n\u001b[1;32m   1756\u001b[0m       \u001b[0;31m# No tape is watching; skip to running the function.\u001b[0m\u001b[0;34m\u001b[0m\u001b[0;34m\u001b[0m\u001b[0m\n\u001b[0;32m-> 1757\u001b[0;31m       return self._build_call_outputs(self._inference_function.call(\n\u001b[0m\u001b[1;32m   1758\u001b[0m           ctx, args, cancellation_manager=cancellation_manager))\n\u001b[1;32m   1759\u001b[0m     forward_backward = self._select_forward_and_backward_functions(\n",
            "\u001b[0;32m/usr/local/lib/python3.10/dist-packages/tensorflow/python/eager/polymorphic_function/monomorphic_function.py\u001b[0m in \u001b[0;36mcall\u001b[0;34m(self, ctx, args, cancellation_manager)\u001b[0m\n\u001b[1;32m    379\u001b[0m       \u001b[0;32mwith\u001b[0m \u001b[0m_InterpolateFunctionError\u001b[0m\u001b[0;34m(\u001b[0m\u001b[0mself\u001b[0m\u001b[0;34m)\u001b[0m\u001b[0;34m:\u001b[0m\u001b[0;34m\u001b[0m\u001b[0;34m\u001b[0m\u001b[0m\n\u001b[1;32m    380\u001b[0m         \u001b[0;32mif\u001b[0m \u001b[0mcancellation_manager\u001b[0m \u001b[0;32mis\u001b[0m \u001b[0;32mNone\u001b[0m\u001b[0;34m:\u001b[0m\u001b[0;34m\u001b[0m\u001b[0;34m\u001b[0m\u001b[0m\n\u001b[0;32m--> 381\u001b[0;31m           outputs = execute.execute(\n\u001b[0m\u001b[1;32m    382\u001b[0m               \u001b[0mstr\u001b[0m\u001b[0;34m(\u001b[0m\u001b[0mself\u001b[0m\u001b[0;34m.\u001b[0m\u001b[0msignature\u001b[0m\u001b[0;34m.\u001b[0m\u001b[0mname\u001b[0m\u001b[0;34m)\u001b[0m\u001b[0;34m,\u001b[0m\u001b[0;34m\u001b[0m\u001b[0;34m\u001b[0m\u001b[0m\n\u001b[1;32m    383\u001b[0m               \u001b[0mnum_outputs\u001b[0m\u001b[0;34m=\u001b[0m\u001b[0mself\u001b[0m\u001b[0;34m.\u001b[0m\u001b[0m_num_outputs\u001b[0m\u001b[0;34m,\u001b[0m\u001b[0;34m\u001b[0m\u001b[0;34m\u001b[0m\u001b[0m\n",
            "\u001b[0;32m/usr/local/lib/python3.10/dist-packages/tensorflow/python/eager/execute.py\u001b[0m in \u001b[0;36mquick_execute\u001b[0;34m(op_name, num_outputs, inputs, attrs, ctx, name)\u001b[0m\n\u001b[1;32m     50\u001b[0m   \u001b[0;32mtry\u001b[0m\u001b[0;34m:\u001b[0m\u001b[0;34m\u001b[0m\u001b[0;34m\u001b[0m\u001b[0m\n\u001b[1;32m     51\u001b[0m     \u001b[0mctx\u001b[0m\u001b[0;34m.\u001b[0m\u001b[0mensure_initialized\u001b[0m\u001b[0;34m(\u001b[0m\u001b[0;34m)\u001b[0m\u001b[0;34m\u001b[0m\u001b[0;34m\u001b[0m\u001b[0m\n\u001b[0;32m---> 52\u001b[0;31m     tensors = pywrap_tfe.TFE_Py_Execute(ctx._handle, device_name, op_name,\n\u001b[0m\u001b[1;32m     53\u001b[0m                                         inputs, attrs, num_outputs)\n\u001b[1;32m     54\u001b[0m   \u001b[0;32mexcept\u001b[0m \u001b[0mcore\u001b[0m\u001b[0;34m.\u001b[0m\u001b[0m_NotOkStatusException\u001b[0m \u001b[0;32mas\u001b[0m \u001b[0me\u001b[0m\u001b[0;34m:\u001b[0m\u001b[0;34m\u001b[0m\u001b[0;34m\u001b[0m\u001b[0m\n",
            "\u001b[0;31mKeyboardInterrupt\u001b[0m: "
          ]
        }
      ]
    },
    {
      "cell_type": "code",
      "source": [
        "best_transformer = keras.models.load_model('seq2seq_transformer.keras', custom_objects={'TransformerEncoderBlock': TransformerEncoderBlock, 'PositionalEmbedding': PositionalEmbedding,\n",
        "                                    'TransformerEncoder': TransformerEncoder, 'TransformerDecoderBlock': TransformerDecoderBlock, 'TransformerDecoder': TransformerDecoder})\n",
        "print(best_transformer.layers)\n",
        "encoder = best_transformer.layers[2]\n",
        "decoder = best_transformer.layers[3]\n",
        "print(encoder.name, decoder.name)"
      ],
      "metadata": {
        "id": "GYw_TGsr9pXK",
        "colab": {
          "base_uri": "https://localhost:8080/"
        },
        "outputId": "91d180be-5922-47c5-be0c-f7813409549d"
      },
      "execution_count": null,
      "outputs": [
        {
          "output_type": "stream",
          "name": "stdout",
          "text": [
            "[<keras.engine.input_layer.InputLayer object at 0x7f8f1e853fa0>, <keras.engine.input_layer.InputLayer object at 0x7f8f1e8508e0>, <keras.engine.functional.Functional object at 0x7f8f1e853850>, <keras.engine.functional.Functional object at 0x7f8f1e9eee90>]\n",
            "transformer_encoder transformer_decoder\n"
          ]
        }
      ]
    },
    {
      "cell_type": "code",
      "source": [
        "import numpy as np\n",
        "\n",
        "eng_vocab = english_vectorization.get_vocabulary()\n",
        "eng_index_lookup = np.pad(np.array(eng_vocab), pad_width=(0,vocab_size), mode='constant', constant_values='[UNK]')[:vocab_size]\n",
        "max_decoded_sentence_len = sequence_len\n",
        "def decode_sequence(input_vectors):\n",
        "    batch_size = input_vectors.shape[0]\n",
        "    encoded_input_sentence = encoder.predict(input_vectors)\n",
        "    decoded_sentence = np.repeat(np.array('[start]'), batch_size).reshape(-1, 1)\n",
        "    blank = np.repeat(np.array(' '), batch_size).reshape(-1, 1)\n",
        "    print(blank.shape)\n",
        "    tokenized_target_sentence = english_vectorization(decoded_sentence)[:, :-1]\n",
        "    tokenized_target_sentence = tf.Variable(initial_value=tokenized_target_sentence)\n",
        "\n",
        "    for i in range(max_decoded_sentence_len):\n",
        "        next_token_predict = decoder.predict([tokenized_target_sentence, encoded_input_sentence])\n",
        "        # sampled_token_index = tf.random.categorical(next_token_predict[:, i], 1)\n",
        "        sampled_token_index = np.argmax(next_token_predict[:, i],axis=1).reshape(-1, 1)\n",
        "        sampled_token = eng_index_lookup[sampled_token_index]\n",
        "        if i < max_decoded_sentence_len-1:\n",
        "            tokenized_target_sentence[:, i+1, tf.newaxis].assign(sampled_token_index)\n",
        "        decoded_sentence = np.char.add(decoded_sentence, np.char.add(blank, sampled_token))\n",
        "        # if sampled_token == '[end]':\n",
        "        #     break\n",
        "    return decoded_sentence\n",
        "\n",
        "translated_sentence = decode_sequence(test_X)\n",
        "for i in range(10):\n",
        "    print(test_data.iloc[i], \"- predict: \", translated_sentence[i])"
      ],
      "metadata": {
        "id": "Eeq_p2UqeJdf",
        "colab": {
          "base_uri": "https://localhost:8080/"
        },
        "outputId": "3f7dd492-a701-4e5b-acc6-b21ab1379b51"
      },
      "execution_count": null,
      "outputs": [
        {
          "output_type": "stream",
          "name": "stdout",
          "text": [
            "11/11 [==============================] - 0s 17ms/step\n",
            "(327, 1)\n",
            "11/11 [==============================] - 0s 24ms/step\n",
            "11/11 [==============================] - 0s 17ms/step\n",
            "11/11 [==============================] - 0s 17ms/step\n",
            "11/11 [==============================] - 0s 17ms/step\n",
            "11/11 [==============================] - 0s 17ms/step\n",
            "11/11 [==============================] - 0s 17ms/step\n",
            "11/11 [==============================] - 0s 17ms/step\n",
            "11/11 [==============================] - 0s 16ms/step\n",
            "11/11 [==============================] - 0s 17ms/step\n",
            "11/11 [==============================] - 0s 17ms/step\n",
            "11/11 [==============================] - 0s 17ms/step\n",
            "11/11 [==============================] - 0s 17ms/step\n",
            "11/11 [==============================] - 0s 17ms/step\n",
            "11/11 [==============================] - 0s 17ms/step\n",
            "11/11 [==============================] - 0s 16ms/step\n",
            "11/11 [==============================] - 0s 17ms/step\n",
            "11/11 [==============================] - 0s 17ms/step\n",
            "11/11 [==============================] - 0s 17ms/step\n",
            "11/11 [==============================] - 0s 17ms/step\n",
            "11/11 [==============================] - 0s 17ms/step\n",
            "11/11 [==============================] - 0s 17ms/step\n",
            "11/11 [==============================] - 0s 17ms/step\n",
            "11/11 [==============================] - 0s 17ms/step\n",
            "11/11 [==============================] - 0s 17ms/step\n",
            "11/11 [==============================] - 0s 17ms/step\n",
            "11/11 [==============================] - 0s 17ms/step\n",
            "11/11 [==============================] - 0s 17ms/step\n",
            "11/11 [==============================] - 0s 17ms/step\n",
            "11/11 [==============================] - 0s 17ms/step\n",
            "11/11 [==============================] - 0s 17ms/step\n",
            "11/11 [==============================] - 0s 17ms/step\n",
            "11/11 [==============================] - 0s 17ms/step\n",
            "11/11 [==============================] - 0s 18ms/step\n",
            "11/11 [==============================] - 0s 17ms/step\n",
            "11/11 [==============================] - 0s 17ms/step\n",
            "원문                                               돈을 오직 나를 위해서만 써야 해요.\n",
            "번역문                              I should spend the money only on me.\n",
            "transformer 번역결과    [start] sangjo tendencies bio chungcheongnamdo...\n",
            "Name: 0, dtype: object - predict:  ['[start] it is 0 [end]                               ']\n",
            "원문                                           그럼 정해진 시간까지 재 답신 부탁드립니다.\n",
            "번역문                                   Please reply this back in time.\n",
            "transformer 번역결과    [start] lock impeachment yeongnam basic nhk di...\n",
            "Name: 1, dtype: object - predict:  ['[start] you have to spend money only for me [end]  [end]  [end]                      ']\n",
            "원문                                              나중에 헤라클레스가 그를 도와줄 거야.\n",
            "번역문                                     Hercules will help him later.\n",
            "transformer 번역결과    [start] pact scored thailand abuses chorus “at...\n",
            "Name: 2, dtype: object - predict:  ['[start] then please [UNK] it by fixed time [end]                           ']\n",
            "원문                                                 나한테 털어놓고 내 앞에서 울어.\n",
            "번역문                 Please confess to me and cry here in front of me.\n",
            "transformer 번역결과    [start] capitalist january population seating ...\n",
            "Name: 3, dtype: object - predict:  ['[start] later i will help him later [end]                            ']\n",
            "원문                  또한 다른 옷을 입은 자신의 모습과 비교도 할 수 있으며 이 모든 경험을 자신의 이...\n",
            "번역문                 They could also compare images of themselves w...\n",
            "transformer 번역결과    [start] water sheet strings casting cheapest b...\n",
            "Name: 4, dtype: object - predict:  ['[start] please call me and wait in front of me [end]  you  [end]                     ']\n",
            "원문                                     세안 후 클린 페이스 오일 컨트롤 크림을 발라 주세요.\n",
            "번역문                 Put Clean face Oil Control Cream on your face ...\n",
            "transformer 번역결과    [start] handle comprehensively computerized li...\n",
            "Name: 5, dtype: object - predict:  ['[start] also you can compare yourself wearing other clothes and take all these experiences through your email [end]  [end]  [end]  [end]            ']\n",
            "원문                                             안녕하세요, 저는 교육학과 임보미입니다.\n",
            "번역문                       Hi, I'm Bomi and I'm majoring in Education.\n",
            "transformer 번역결과    [start] contacts bowl sydney maintained vacant...\n",
            "Name: 6, dtype: object - predict:  ['[start] apply sunscreen cream after applying clean face oil control cream [end]                        ']\n",
            "원문                                                   나는 오늘 되는 일이 없어요.\n",
            "번역문                                         I'm a victim of Murphy's.\n",
            "transformer 번역결과    [start] onsite viewer time” sins shocks greasy...\n",
            "Name: 7, dtype: object - predict:  ['[start] hello i am [UNK] and [UNK] [end]                            ']\n",
            "원문                  그리고 우리 회사는 설계 가능하므로 설계 부분에서 혹시 필요한 부분이 있으면 저희가...\n",
            "번역문                 And our company can do design work, so if you ...\n",
            "transformer 번역결과    [start] nuri gyeongbuk wons crimes unions posi...\n",
            "Name: 8, dtype: object - predict:  ['[start] i dont have anything to do today [end]  today [end]                        ']\n",
            "원문                                당신은 사교 클럽이 대학생활에 어떠한 영향을 준다고 생각하는가?\n",
            "번역문                 How do you think Fraternity has an influence o...\n",
            "transformer 번역결과    [start] summarized easily faith immediate rain...\n",
            "Name: 9, dtype: object - predict:  ['[start] and we can help you if you have any problems with the design part of the design [end]  [end]  [end]  [end]  [end]  [end]  [end]     ']\n"
          ]
        }
      ]
    },
    {
      "cell_type": "code",
      "source": [
        "df=pd.DataFrame(translated_sentence).iloc[1:]\n",
        "df=df.reset_index()\n",
        "df = df[0]"
      ],
      "metadata": {
        "id": "BHknd1U5t1y5"
      },
      "execution_count": null,
      "outputs": []
    },
    {
      "cell_type": "code",
      "source": [
        "test_data['transformer 번역결과'] = df# pd.DataFrame(translated_sentence).iloc[1:]\n",
        "test_data.head()\n",
        "test_data.to_excel('translate.xlsx')"
      ],
      "metadata": {
        "id": "xkgEJwHq3_1_"
      },
      "execution_count": null,
      "outputs": []
    },
    {
      "cell_type": "markdown",
      "source": [],
      "metadata": {
        "id": "CEPq3LspwmDj"
      }
    },
    {
      "cell_type": "markdown",
      "source": [],
      "metadata": {
        "id": "ugr7v7RuwmAB"
      }
    },
    {
      "cell_type": "code",
      "source": [],
      "metadata": {
        "id": "ft6bJJq3qKoM"
      },
      "execution_count": null,
      "outputs": []
    }
  ],
  "metadata": {
    "colab": {
      "machine_shape": "hm",
      "provenance": [],
      "gpuType": "T4",
      "collapsed_sections": [
        "jiFl0yrVvAva",
        "84OouZHcuKAa"
      ],
      "mount_file_id": "1A228_TdPNfCDUyaKoxCrrLpkWBq49id9",
      "authorship_tag": "ABX9TyMVHxe6p4sA+VchG1D4tNFp",
      "include_colab_link": true
    },
    "gpuClass": "standard",
    "kernelspec": {
      "display_name": "Python 3",
      "name": "python3"
    },
    "language_info": {
      "name": "python"
    },
    "accelerator": "GPU"
  },
  "nbformat": 4,
  "nbformat_minor": 0
}